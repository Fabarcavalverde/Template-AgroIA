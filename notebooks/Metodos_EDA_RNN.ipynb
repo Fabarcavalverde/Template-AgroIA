{
 "cells": [
  {
   "cell_type": "code",
   "id": "initial_id",
   "metadata": {
    "collapsed": true,
    "ExecuteTime": {
     "end_time": "2025-07-11T13:29:25.089479Z",
     "start_time": "2025-07-11T13:29:25.085097Z"
    }
   },
   "source": "## MESES",
   "outputs": [],
   "execution_count": 1
  },
  {
   "metadata": {},
   "cell_type": "code",
   "outputs": [],
   "execution_count": null,
   "source": [
    "import pandas as pd\n",
    "\n",
    "class TransformadorDeFechas:\n",
    "    def __init__(self, df):\n",
    "        \"\"\"\n",
    "        Inicializa la clase con un DataFrame que contiene las columnas 'mes' y 'anio'.\n",
    "        \"\"\"\n",
    "        self.df = df\n",
    "        self.meses_es_en = {\n",
    "            'enero': 'January', 'febrero': 'February', 'marzo': 'March',\n",
    "            'abril': 'April', 'mayo': 'May', 'junio': 'June',\n",
    "            'julio': 'July', 'agosto': 'August', 'septiembre': 'September',\n",
    "            'octubre': 'October', 'noviembre': 'November', 'diciembre': 'December'\n",
    "        }\n",
    "\n",
    "    def unificar_fecha(self):\n",
    "        \"\"\"\n",
    "        Crea una nueva columna 'fecha' combinando 'mes' y 'anio',\n",
    "        luego elimina las columnas originales.\n",
    "        \"\"\"\n",
    "        self.df['mes_en'] = self.df['mes'].str.lower().map(self.meses_es_en)\n",
    "        self.df['fecha'] = pd.to_datetime(self.df['mes_en'] + ' ' + self.df['anio'].astype(str), format='%B %Y')\n",
    "        self.df.drop(columns=['mes', 'anio', 'mes_en'], inplace=True)\n",
    "        return self.df\n"
   ],
   "id": "d277362d1debfe77"
  }
 ],
 "metadata": {
  "kernelspec": {
   "display_name": "Python 3",
   "language": "python",
   "name": "python3"
  },
  "language_info": {
   "codemirror_mode": {
    "name": "ipython",
    "version": 2
   },
   "file_extension": ".py",
   "mimetype": "text/x-python",
   "name": "python",
   "nbconvert_exporter": "python",
   "pygments_lexer": "ipython2",
   "version": "2.7.6"
  }
 },
 "nbformat": 4,
 "nbformat_minor": 5
}
