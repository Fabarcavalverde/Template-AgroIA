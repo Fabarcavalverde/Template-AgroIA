{
 "cells": [
  {
   "cell_type": "code",
   "id": "initial_id",
   "metadata": {
    "collapsed": true,
    "ExecuteTime": {
     "end_time": "2025-07-15T05:51:06.539219Z",
     "start_time": "2025-07-15T05:51:06.533092Z"
    }
   },
   "source": [
    "# 1. Importación de librerías\n",
    "import pickle\n",
    "import numpy as np\n",
    "import pandas as pd\n",
    "import matplotlib.pyplot as plt\n",
    "import seaborn as sns\n",
    "from sklearn.preprocessing import MinMaxScaler\n",
    "from sklearn.metrics import mean_absolute_error, mean_squared_error, r2_score\n",
    "import tensorflow as tf\n",
    "from tensorflow.keras.layers import LSTM, Dense, Dropout, BatchNormalization, Bidirectional\n",
    "from tensorflow.keras.optimizers import Adam\n",
    "from tensorflow.keras.regularizers import l1_l2\n",
    "from tensorflow.keras.models import Sequential\n",
    "from tensorflow.keras.layers import LSTM, Dense, Dropout\n",
    "from tensorflow.keras.callbacks import EarlyStopping\n",
    "from tensorflow.keras.preprocessing.sequence import TimeseriesGenerator\n",
    "import warnings\n",
    "warnings.filterwarnings('ignore')\n",
    "import os\n",
    "from src.utils.metrics import obtener_ruta_app"
   ],
   "outputs": [],
   "execution_count": 191
  },
  {
   "metadata": {
    "ExecuteTime": {
     "end_time": "2025-07-15T05:02:50.459689Z",
     "start_time": "2025-07-15T05:02:50.453741Z"
    }
   },
   "cell_type": "code",
   "source": [
    "plt.style.use('seaborn-v0_8')\n",
    "sns.set_palette(\"husl\")\n",
    "\n",
    "print(\"TensorFlow version:\", tf.__version__)"
   ],
   "id": "8cded27eadb281c8",
   "outputs": [
    {
     "name": "stdout",
     "output_type": "stream",
     "text": [
      "TensorFlow version: 2.19.0\n"
     ]
    }
   ],
   "execution_count": 136
  },
  {
   "metadata": {
    "ExecuteTime": {
     "end_time": "2025-07-15T05:51:10.384197Z",
     "start_time": "2025-07-15T05:51:10.378151Z"
    }
   },
   "cell_type": "code",
   "source": [
    "def cargar_datos(archivo_csv):\n",
    "    \"\"\"\n",
    "    Carga los datos manteniendo la estructura multivariada\n",
    "    \"\"\"\n",
    "    df = pd.read_csv(archivo_csv, parse_dates=['fecha'])\n",
    "    df = df.sort_values(['fecha', 'canton_id'])  # Ordenar por fecha y cantón\n",
    "    print(f\"Datos cargados: {df.shape[0]} filas, {df.shape[1]} columnas\")\n",
    "    print(f\"Rango de fechas: {df['fecha'].min()} a {df['fecha'].max()}\")\n",
    "    print(f\"Cantones únicos: {df['canton_id'].nunique()}\")\n",
    "    return df"
   ],
   "id": "afc19375ecdb05be",
   "outputs": [],
   "execution_count": 192
  },
  {
   "metadata": {
    "ExecuteTime": {
     "end_time": "2025-07-15T05:51:17.587663Z",
     "start_time": "2025-07-15T05:51:17.573500Z"
    }
   },
   "cell_type": "code",
   "source": [
    "base_path = obtener_ruta_app(\"TemplateAgroIA\")\n",
    "file_path = os.path.join(base_path, \"data\", \"processed\", \"rnn\", \"rnn_produccion.csv\")\n",
    "df = cargar_datos(file_path)"
   ],
   "id": "4d5bfc6851324e6b",
   "outputs": [
    {
     "name": "stdout",
     "output_type": "stream",
     "text": [
      "Datos cargados: 630 filas, 12 columnas\n",
      "Rango de fechas: 2015-01-01 00:00:00 a 2025-06-01 00:00:00\n",
      "Cantones únicos: 5\n"
     ]
    }
   ],
   "execution_count": 193
  },
  {
   "metadata": {
    "ExecuteTime": {
     "end_time": "2025-07-15T05:51:19.032051Z",
     "start_time": "2025-07-15T05:51:19.026126Z"
    }
   },
   "cell_type": "code",
   "source": [
    "def preparar_datos_multivariado(df):\n",
    "    \"\"\"\n",
    "    Prepara los datos para modelo multivariado con one-hot encoding\n",
    "    \"\"\"\n",
    "    # One-hot encoding para cantón\n",
    "    df_encoded = pd.get_dummies(df, columns=['canton_id'], prefix='canton')\n",
    "\n",
    "    # Separar features y target\n",
    "    canton_cols = [col for col in df_encoded.columns if col.startswith('canton_')]\n",
    "\n",
    "    # Definir features (excluir fecha y produccion)\n",
    "    feature_cols = [col for col in df_encoded.columns\n",
    "                   if col not in ['fecha', 'produccion']]\n",
    "\n",
    "    # Crear dataset con todas las features\n",
    "    X = df_encoded[feature_cols].values\n",
    "    y = df_encoded['produccion'].values.reshape(-1, 1)  # Solo producción\n",
    "\n",
    "    print(f\"Shape de X (features): {X.shape}\")\n",
    "    print(f\"Shape de y (target): {y.shape}\")\n",
    "    print(f\"Features incluidas: {feature_cols}\")\n",
    "\n",
    "    return X, y, feature_cols, df_encoded"
   ],
   "id": "ebabc86d54b10272",
   "outputs": [],
   "execution_count": 194
  },
  {
   "metadata": {
    "ExecuteTime": {
     "end_time": "2025-07-15T05:51:22.405224Z",
     "start_time": "2025-07-15T05:51:22.396695Z"
    }
   },
   "cell_type": "code",
   "source": "X, y, feature_cols, df_encoded = preparar_datos_multivariado(df)",
   "id": "7bd6f43ef2e63afa",
   "outputs": [
    {
     "name": "stdout",
     "output_type": "stream",
     "text": [
      "Shape de X (features): (630, 14)\n",
      "Shape de y (target): (630, 1)\n",
      "Features incluidas: ['area', 'PRECTOTCORR_SUM', 'RH2M', 'T2M', 'T2MDEW', 'T2MWET', 'T2M_MAX', 'T2M_MIN', 'WS2M', 'canton_0', 'canton_1', 'canton_2', 'canton_3', 'canton_4']\n"
     ]
    }
   ],
   "execution_count": 195
  },
  {
   "metadata": {
    "ExecuteTime": {
     "end_time": "2025-07-15T05:51:23.690290Z",
     "start_time": "2025-07-15T05:51:23.684728Z"
    }
   },
   "cell_type": "code",
   "source": [
    "def dividir_train_test_multivariado_v2(X, y, df_encoded, meses_test=12):\n",
    "    \"\"\"\n",
    "    Divide datos multivariados manteniendo estructura temporal\n",
    "    \"\"\"\n",
    "    fechas_unicas = sorted(df_encoded['fecha'].unique())\n",
    "    split_date = fechas_unicas[-meses_test]\n",
    "\n",
    "    # Obtener índices de división\n",
    "    train_idx = df_encoded['fecha'] < split_date\n",
    "    test_idx = df_encoded['fecha'] >= split_date\n",
    "\n",
    "    X_train = X[train_idx]\n",
    "    X_test = X[test_idx]\n",
    "    y_train = y[train_idx]\n",
    "    y_test = y[test_idx]\n",
    "\n",
    "    print(f\"Datos de entrenamiento: {X_train.shape}, {y_train.shape}\")\n",
    "    print(f\"Datos de prueba: {X_test.shape}, {y_test.shape}\")\n",
    "\n",
    "    return X_train, X_test, y_train, y_test, split_date"
   ],
   "id": "4eb44474f74b355c",
   "outputs": [],
   "execution_count": 196
  },
  {
   "metadata": {
    "ExecuteTime": {
     "end_time": "2025-07-15T05:51:28.356341Z",
     "start_time": "2025-07-15T05:51:28.349136Z"
    }
   },
   "cell_type": "code",
   "source": [
    "X_train, X_test, y_train, y_test, split_date = dividir_train_test_multivariado_v2(\n",
    "        X, y, df_encoded, meses_test=12)"
   ],
   "id": "83d032b6fefa19e9",
   "outputs": [
    {
     "name": "stdout",
     "output_type": "stream",
     "text": [
      "Datos de entrenamiento: (570, 14), (570, 1)\n",
      "Datos de prueba: (60, 14), (60, 1)\n"
     ]
    }
   ],
   "execution_count": 197
  },
  {
   "metadata": {
    "ExecuteTime": {
     "end_time": "2025-07-15T05:52:19.960792Z",
     "start_time": "2025-07-15T05:52:19.956243Z"
    }
   },
   "cell_type": "code",
   "source": [
    "def escalar_datos_multivariado_v2(X_train, X_test, y_train, y_test):\n",
    "    \"\"\"\n",
    "    Escala features y target por separado\n",
    "    \"\"\"\n",
    "    # Escalar features\n",
    "    scaler_X = MinMaxScaler()\n",
    "    X_train_scaled = scaler_X.fit_transform(X_train)\n",
    "    X_test_scaled = scaler_X.transform(X_test)\n",
    "\n",
    "    # Escalar target\n",
    "    scaler_y = MinMaxScaler()\n",
    "    y_train_scaled = scaler_y.fit_transform(y_train)\n",
    "    y_test_scaled = scaler_y.transform(y_test)\n",
    "\n",
    "    return X_train_scaled, X_test_scaled, y_train_scaled, y_test_scaled, scaler_X, scaler_y"
   ],
   "id": "860a0eaf14946ad1",
   "outputs": [],
   "execution_count": 200
  },
  {
   "metadata": {
    "ExecuteTime": {
     "end_time": "2025-07-15T05:52:24.081588Z",
     "start_time": "2025-07-15T05:52:24.071926Z"
    }
   },
   "cell_type": "code",
   "source": [
    "X_train_scaled, X_test_scaled, y_train_scaled, y_test_scaled, scaler_X, scaler_y = escalar_datos_multivariado_v2(\n",
    "        X_train, X_test, y_train, y_test)"
   ],
   "id": "9091de4a6fd40302",
   "outputs": [],
   "execution_count": 201
  },
  {
   "metadata": {
    "ExecuteTime": {
     "end_time": "2025-07-15T05:52:25.790441Z",
     "start_time": "2025-07-15T05:52:25.784924Z"
    }
   },
   "cell_type": "code",
   "source": [
    "def crear_secuencias_multivariadas(X_scaled, y_scaled, length=12):\n",
    "    \"\"\"\n",
    "    Crea secuencias temporales para modelo multivariado\n",
    "    \"\"\"\n",
    "    X_sequences = []\n",
    "    y_sequences = []\n",
    "\n",
    "    for i in range(length, len(X_scaled)):\n",
    "        X_sequences.append(X_scaled[i-length:i])\n",
    "        y_sequences.append(y_scaled[i])\n",
    "\n",
    "    return np.array(X_sequences), np.array(y_sequences)"
   ],
   "id": "35c9b99cfdd84da3",
   "outputs": [],
   "execution_count": 202
  },
  {
   "metadata": {
    "ExecuteTime": {
     "end_time": "2025-07-15T05:52:31.042517Z",
     "start_time": "2025-07-15T05:52:31.035347Z"
    }
   },
   "cell_type": "code",
   "source": [
    "length = 12\n",
    "X_train_seq, y_train_seq = crear_secuencias_multivariadas(X_train_scaled, y_train_scaled, length)\n",
    "X_test_seq, y_test_seq = crear_secuencias_multivariadas(X_test_scaled, y_test_scaled, length)\n",
    "\n",
    "print(f\"Shape de secuencias de entrenamiento: {X_train_seq.shape}, {y_train_seq.shape}\")\n",
    "print(f\"Shape de secuencias de prueba: {X_test_seq.shape}, {y_test_seq.shape}\")"
   ],
   "id": "36508789634ab00f",
   "outputs": [
    {
     "name": "stdout",
     "output_type": "stream",
     "text": [
      "Shape de secuencias de entrenamiento: (558, 12, 14), (558, 1)\n",
      "Shape de secuencias de prueba: (48, 12, 14), (48, 1)\n"
     ]
    }
   ],
   "execution_count": 203
  },
  {
   "metadata": {
    "ExecuteTime": {
     "end_time": "2025-07-15T05:52:40.504580Z",
     "start_time": "2025-07-15T05:52:40.498481Z"
    }
   },
   "cell_type": "code",
   "source": [
    "def crear_modelo_lstm_multivariado(input_shape, units=128, dropout_rate=0.2):\n",
    "    \"\"\"\n",
    "    Crea modelo LSTM multivariado que predice solo producción\n",
    "    \"\"\"\n",
    "    model = Sequential([\n",
    "        # Primera capa LSTM bidireccional\n",
    "        Bidirectional(LSTM(units, return_sequences=True, input_shape=input_shape)),\n",
    "        BatchNormalization(),\n",
    "        Dropout(dropout_rate),\n",
    "\n",
    "        # Segunda capa LSTM bidireccional\n",
    "        Bidirectional(LSTM(units//2, return_sequences=True)),\n",
    "        BatchNormalization(),\n",
    "        Dropout(dropout_rate),\n",
    "\n",
    "        # Tercera capa LSTM\n",
    "        LSTM(units//2, return_sequences=False),\n",
    "        BatchNormalization(),\n",
    "        Dropout(dropout_rate),\n",
    "\n",
    "        # Capas densas\n",
    "        Dense(50, activation='relu', kernel_regularizer=l1_l2(l1=0.01, l2=0.01)),\n",
    "        Dropout(dropout_rate),\n",
    "        Dense(25, activation='relu'),\n",
    "        Dense(1)  # Solo una salida: producción\n",
    "    ])\n",
    "\n",
    "    optimizer = Adam(learning_rate=0.0005)\n",
    "    model.compile(optimizer=optimizer, loss='mse', metrics=['mae'])\n",
    "\n",
    "    return model"
   ],
   "id": "52e211cc32a38dab",
   "outputs": [],
   "execution_count": 204
  },
  {
   "metadata": {
    "ExecuteTime": {
     "end_time": "2025-07-15T05:52:46.386880Z",
     "start_time": "2025-07-15T05:52:46.315801Z"
    }
   },
   "cell_type": "code",
   "source": [
    "input_shape = (length, X_train_seq.shape[2])  # (timesteps, features)\n",
    "model = crear_modelo_lstm_multivariado(input_shape)\n",
    "\n",
    "print(f\"Input shape: {input_shape}\")\n",
    "model.summary()"
   ],
   "id": "a51ace8238feba46",
   "outputs": [
    {
     "name": "stdout",
     "output_type": "stream",
     "text": [
      "Input shape: (12, 14)\n"
     ]
    },
    {
     "data": {
      "text/plain": [
       "\u001B[1mModel: \"sequential_10\"\u001B[0m\n"
      ],
      "text/html": [
       "<pre style=\"white-space:pre;overflow-x:auto;line-height:normal;font-family:Menlo,'DejaVu Sans Mono',consolas,'Courier New',monospace\"><span style=\"font-weight: bold\">Model: \"sequential_10\"</span>\n",
       "</pre>\n"
      ]
     },
     "metadata": {},
     "output_type": "display_data"
    },
    {
     "data": {
      "text/plain": [
       "┏━━━━━━━━━━━━━━━━━━━━━━━━━━━━━━━━━┳━━━━━━━━━━━━━━━━━━━━━━━━┳━━━━━━━━━━━━━━━┓\n",
       "┃\u001B[1m \u001B[0m\u001B[1mLayer (type)                   \u001B[0m\u001B[1m \u001B[0m┃\u001B[1m \u001B[0m\u001B[1mOutput Shape          \u001B[0m\u001B[1m \u001B[0m┃\u001B[1m \u001B[0m\u001B[1m      Param #\u001B[0m\u001B[1m \u001B[0m┃\n",
       "┡━━━━━━━━━━━━━━━━━━━━━━━━━━━━━━━━━╇━━━━━━━━━━━━━━━━━━━━━━━━╇━━━━━━━━━━━━━━━┩\n",
       "│ bidirectional_20                │ ?                      │   \u001B[38;5;34m0\u001B[0m (unbuilt) │\n",
       "│ (\u001B[38;5;33mBidirectional\u001B[0m)                 │                        │               │\n",
       "├─────────────────────────────────┼────────────────────────┼───────────────┤\n",
       "│ batch_normalization_30          │ ?                      │   \u001B[38;5;34m0\u001B[0m (unbuilt) │\n",
       "│ (\u001B[38;5;33mBatchNormalization\u001B[0m)            │                        │               │\n",
       "├─────────────────────────────────┼────────────────────────┼───────────────┤\n",
       "│ dropout_40 (\u001B[38;5;33mDropout\u001B[0m)            │ ?                      │             \u001B[38;5;34m0\u001B[0m │\n",
       "├─────────────────────────────────┼────────────────────────┼───────────────┤\n",
       "│ bidirectional_21                │ ?                      │   \u001B[38;5;34m0\u001B[0m (unbuilt) │\n",
       "│ (\u001B[38;5;33mBidirectional\u001B[0m)                 │                        │               │\n",
       "├─────────────────────────────────┼────────────────────────┼───────────────┤\n",
       "│ batch_normalization_31          │ ?                      │   \u001B[38;5;34m0\u001B[0m (unbuilt) │\n",
       "│ (\u001B[38;5;33mBatchNormalization\u001B[0m)            │                        │               │\n",
       "├─────────────────────────────────┼────────────────────────┼───────────────┤\n",
       "│ dropout_41 (\u001B[38;5;33mDropout\u001B[0m)            │ ?                      │             \u001B[38;5;34m0\u001B[0m │\n",
       "├─────────────────────────────────┼────────────────────────┼───────────────┤\n",
       "│ lstm_32 (\u001B[38;5;33mLSTM\u001B[0m)                  │ ?                      │   \u001B[38;5;34m0\u001B[0m (unbuilt) │\n",
       "├─────────────────────────────────┼────────────────────────┼───────────────┤\n",
       "│ batch_normalization_32          │ ?                      │   \u001B[38;5;34m0\u001B[0m (unbuilt) │\n",
       "│ (\u001B[38;5;33mBatchNormalization\u001B[0m)            │                        │               │\n",
       "├─────────────────────────────────┼────────────────────────┼───────────────┤\n",
       "│ dropout_42 (\u001B[38;5;33mDropout\u001B[0m)            │ ?                      │             \u001B[38;5;34m0\u001B[0m │\n",
       "├─────────────────────────────────┼────────────────────────┼───────────────┤\n",
       "│ dense_30 (\u001B[38;5;33mDense\u001B[0m)                │ ?                      │   \u001B[38;5;34m0\u001B[0m (unbuilt) │\n",
       "├─────────────────────────────────┼────────────────────────┼───────────────┤\n",
       "│ dropout_43 (\u001B[38;5;33mDropout\u001B[0m)            │ ?                      │             \u001B[38;5;34m0\u001B[0m │\n",
       "├─────────────────────────────────┼────────────────────────┼───────────────┤\n",
       "│ dense_31 (\u001B[38;5;33mDense\u001B[0m)                │ ?                      │   \u001B[38;5;34m0\u001B[0m (unbuilt) │\n",
       "├─────────────────────────────────┼────────────────────────┼───────────────┤\n",
       "│ dense_32 (\u001B[38;5;33mDense\u001B[0m)                │ ?                      │   \u001B[38;5;34m0\u001B[0m (unbuilt) │\n",
       "└─────────────────────────────────┴────────────────────────┴───────────────┘\n"
      ],
      "text/html": [
       "<pre style=\"white-space:pre;overflow-x:auto;line-height:normal;font-family:Menlo,'DejaVu Sans Mono',consolas,'Courier New',monospace\">┏━━━━━━━━━━━━━━━━━━━━━━━━━━━━━━━━━┳━━━━━━━━━━━━━━━━━━━━━━━━┳━━━━━━━━━━━━━━━┓\n",
       "┃<span style=\"font-weight: bold\"> Layer (type)                    </span>┃<span style=\"font-weight: bold\"> Output Shape           </span>┃<span style=\"font-weight: bold\">       Param # </span>┃\n",
       "┡━━━━━━━━━━━━━━━━━━━━━━━━━━━━━━━━━╇━━━━━━━━━━━━━━━━━━━━━━━━╇━━━━━━━━━━━━━━━┩\n",
       "│ bidirectional_20                │ ?                      │   <span style=\"color: #00af00; text-decoration-color: #00af00\">0</span> (unbuilt) │\n",
       "│ (<span style=\"color: #0087ff; text-decoration-color: #0087ff\">Bidirectional</span>)                 │                        │               │\n",
       "├─────────────────────────────────┼────────────────────────┼───────────────┤\n",
       "│ batch_normalization_30          │ ?                      │   <span style=\"color: #00af00; text-decoration-color: #00af00\">0</span> (unbuilt) │\n",
       "│ (<span style=\"color: #0087ff; text-decoration-color: #0087ff\">BatchNormalization</span>)            │                        │               │\n",
       "├─────────────────────────────────┼────────────────────────┼───────────────┤\n",
       "│ dropout_40 (<span style=\"color: #0087ff; text-decoration-color: #0087ff\">Dropout</span>)            │ ?                      │             <span style=\"color: #00af00; text-decoration-color: #00af00\">0</span> │\n",
       "├─────────────────────────────────┼────────────────────────┼───────────────┤\n",
       "│ bidirectional_21                │ ?                      │   <span style=\"color: #00af00; text-decoration-color: #00af00\">0</span> (unbuilt) │\n",
       "│ (<span style=\"color: #0087ff; text-decoration-color: #0087ff\">Bidirectional</span>)                 │                        │               │\n",
       "├─────────────────────────────────┼────────────────────────┼───────────────┤\n",
       "│ batch_normalization_31          │ ?                      │   <span style=\"color: #00af00; text-decoration-color: #00af00\">0</span> (unbuilt) │\n",
       "│ (<span style=\"color: #0087ff; text-decoration-color: #0087ff\">BatchNormalization</span>)            │                        │               │\n",
       "├─────────────────────────────────┼────────────────────────┼───────────────┤\n",
       "│ dropout_41 (<span style=\"color: #0087ff; text-decoration-color: #0087ff\">Dropout</span>)            │ ?                      │             <span style=\"color: #00af00; text-decoration-color: #00af00\">0</span> │\n",
       "├─────────────────────────────────┼────────────────────────┼───────────────┤\n",
       "│ lstm_32 (<span style=\"color: #0087ff; text-decoration-color: #0087ff\">LSTM</span>)                  │ ?                      │   <span style=\"color: #00af00; text-decoration-color: #00af00\">0</span> (unbuilt) │\n",
       "├─────────────────────────────────┼────────────────────────┼───────────────┤\n",
       "│ batch_normalization_32          │ ?                      │   <span style=\"color: #00af00; text-decoration-color: #00af00\">0</span> (unbuilt) │\n",
       "│ (<span style=\"color: #0087ff; text-decoration-color: #0087ff\">BatchNormalization</span>)            │                        │               │\n",
       "├─────────────────────────────────┼────────────────────────┼───────────────┤\n",
       "│ dropout_42 (<span style=\"color: #0087ff; text-decoration-color: #0087ff\">Dropout</span>)            │ ?                      │             <span style=\"color: #00af00; text-decoration-color: #00af00\">0</span> │\n",
       "├─────────────────────────────────┼────────────────────────┼───────────────┤\n",
       "│ dense_30 (<span style=\"color: #0087ff; text-decoration-color: #0087ff\">Dense</span>)                │ ?                      │   <span style=\"color: #00af00; text-decoration-color: #00af00\">0</span> (unbuilt) │\n",
       "├─────────────────────────────────┼────────────────────────┼───────────────┤\n",
       "│ dropout_43 (<span style=\"color: #0087ff; text-decoration-color: #0087ff\">Dropout</span>)            │ ?                      │             <span style=\"color: #00af00; text-decoration-color: #00af00\">0</span> │\n",
       "├─────────────────────────────────┼────────────────────────┼───────────────┤\n",
       "│ dense_31 (<span style=\"color: #0087ff; text-decoration-color: #0087ff\">Dense</span>)                │ ?                      │   <span style=\"color: #00af00; text-decoration-color: #00af00\">0</span> (unbuilt) │\n",
       "├─────────────────────────────────┼────────────────────────┼───────────────┤\n",
       "│ dense_32 (<span style=\"color: #0087ff; text-decoration-color: #0087ff\">Dense</span>)                │ ?                      │   <span style=\"color: #00af00; text-decoration-color: #00af00\">0</span> (unbuilt) │\n",
       "└─────────────────────────────────┴────────────────────────┴───────────────┘\n",
       "</pre>\n"
      ]
     },
     "metadata": {},
     "output_type": "display_data"
    },
    {
     "data": {
      "text/plain": [
       "\u001B[1m Total params: \u001B[0m\u001B[38;5;34m0\u001B[0m (0.00 B)\n"
      ],
      "text/html": [
       "<pre style=\"white-space:pre;overflow-x:auto;line-height:normal;font-family:Menlo,'DejaVu Sans Mono',consolas,'Courier New',monospace\"><span style=\"font-weight: bold\"> Total params: </span><span style=\"color: #00af00; text-decoration-color: #00af00\">0</span> (0.00 B)\n",
       "</pre>\n"
      ]
     },
     "metadata": {},
     "output_type": "display_data"
    },
    {
     "data": {
      "text/plain": [
       "\u001B[1m Trainable params: \u001B[0m\u001B[38;5;34m0\u001B[0m (0.00 B)\n"
      ],
      "text/html": [
       "<pre style=\"white-space:pre;overflow-x:auto;line-height:normal;font-family:Menlo,'DejaVu Sans Mono',consolas,'Courier New',monospace\"><span style=\"font-weight: bold\"> Trainable params: </span><span style=\"color: #00af00; text-decoration-color: #00af00\">0</span> (0.00 B)\n",
       "</pre>\n"
      ]
     },
     "metadata": {},
     "output_type": "display_data"
    },
    {
     "data": {
      "text/plain": [
       "\u001B[1m Non-trainable params: \u001B[0m\u001B[38;5;34m0\u001B[0m (0.00 B)\n"
      ],
      "text/html": [
       "<pre style=\"white-space:pre;overflow-x:auto;line-height:normal;font-family:Menlo,'DejaVu Sans Mono',consolas,'Courier New',monospace\"><span style=\"font-weight: bold\"> Non-trainable params: </span><span style=\"color: #00af00; text-decoration-color: #00af00\">0</span> (0.00 B)\n",
       "</pre>\n"
      ]
     },
     "metadata": {},
     "output_type": "display_data"
    }
   ],
   "execution_count": 205
  },
  {
   "metadata": {
    "ExecuteTime": {
     "end_time": "2025-07-15T05:53:40.338711Z",
     "start_time": "2025-07-15T05:53:40.333644Z"
    }
   },
   "cell_type": "code",
   "source": [
    "def entrenar_modelo_multivariado(model, X_train_seq, y_train_seq, X_test_seq, y_test_seq,\n",
    "                                epochs=150, batch_size=32, patience=20):\n",
    "    \"\"\"\n",
    "    Entrena el modelo multivariado\n",
    "    \"\"\"\n",
    "    early_stopping = EarlyStopping(\n",
    "        monitor='val_loss',\n",
    "        patience=patience,\n",
    "        restore_best_weights=True\n",
    "    )\n",
    "\n",
    "    history = model.fit(\n",
    "        X_train_seq, y_train_seq,\n",
    "        validation_data=(X_test_seq, y_test_seq),\n",
    "        epochs=epochs,\n",
    "        batch_size=batch_size,\n",
    "        callbacks=[early_stopping],\n",
    "        verbose=1\n",
    "    )\n",
    "\n",
    "    return history"
   ],
   "id": "de2502521636527a",
   "outputs": [],
   "execution_count": 207
  },
  {
   "metadata": {
    "ExecuteTime": {
     "end_time": "2025-07-15T05:54:35.304094Z",
     "start_time": "2025-07-15T05:53:44.467625Z"
    }
   },
   "cell_type": "code",
   "source": [
    "history = entrenar_modelo_multivariado(\n",
    "        model, X_train_seq, y_train_seq, X_test_seq, y_test_seq\n",
    "    )"
   ],
   "id": "ad3d810398504d82",
   "outputs": [
    {
     "name": "stdout",
     "output_type": "stream",
     "text": [
      "Epoch 1/150\n",
      "\u001B[1m18/18\u001B[0m \u001B[32m━━━━━━━━━━━━━━━━━━━━\u001B[0m\u001B[37m\u001B[0m \u001B[1m9s\u001B[0m 69ms/step - loss: 4.9830 - mae: 0.6565 - val_loss: 4.2308 - val_mae: 0.2158\n",
      "Epoch 2/150\n",
      "\u001B[1m18/18\u001B[0m \u001B[32m━━━━━━━━━━━━━━━━━━━━\u001B[0m\u001B[37m\u001B[0m \u001B[1m0s\u001B[0m 25ms/step - loss: 4.4860 - mae: 0.5016 - val_loss: 4.1082 - val_mae: 0.2204\n",
      "Epoch 3/150\n",
      "\u001B[1m18/18\u001B[0m \u001B[32m━━━━━━━━━━━━━━━━━━━━\u001B[0m\u001B[37m\u001B[0m \u001B[1m0s\u001B[0m 25ms/step - loss: 4.2600 - mae: 0.4353 - val_loss: 3.9710 - val_mae: 0.2164\n",
      "Epoch 4/150\n",
      "\u001B[1m18/18\u001B[0m \u001B[32m━━━━━━━━━━━━━━━━━━━━\u001B[0m\u001B[37m\u001B[0m \u001B[1m0s\u001B[0m 25ms/step - loss: 4.0247 - mae: 0.3469 - val_loss: 3.8337 - val_mae: 0.2167\n",
      "Epoch 5/150\n",
      "\u001B[1m18/18\u001B[0m \u001B[32m━━━━━━━━━━━━━━━━━━━━\u001B[0m\u001B[37m\u001B[0m \u001B[1m0s\u001B[0m 25ms/step - loss: 3.8634 - mae: 0.3339 - val_loss: 3.6940 - val_mae: 0.2203\n",
      "Epoch 6/150\n",
      "\u001B[1m18/18\u001B[0m \u001B[32m━━━━━━━━━━━━━━━━━━━━\u001B[0m\u001B[37m\u001B[0m \u001B[1m0s\u001B[0m 26ms/step - loss: 3.6916 - mae: 0.3159 - val_loss: 3.5563 - val_mae: 0.2339\n",
      "Epoch 7/150\n",
      "\u001B[1m18/18\u001B[0m \u001B[32m━━━━━━━━━━━━━━━━━━━━\u001B[0m\u001B[37m\u001B[0m \u001B[1m0s\u001B[0m 25ms/step - loss: 3.5252 - mae: 0.2887 - val_loss: 3.4076 - val_mae: 0.2307\n",
      "Epoch 8/150\n",
      "\u001B[1m18/18\u001B[0m \u001B[32m━━━━━━━━━━━━━━━━━━━━\u001B[0m\u001B[37m\u001B[0m \u001B[1m0s\u001B[0m 26ms/step - loss: 3.3651 - mae: 0.2750 - val_loss: 3.2471 - val_mae: 0.2147\n",
      "Epoch 9/150\n",
      "\u001B[1m18/18\u001B[0m \u001B[32m━━━━━━━━━━━━━━━━━━━━\u001B[0m\u001B[37m\u001B[0m \u001B[1m0s\u001B[0m 26ms/step - loss: 3.2102 - mae: 0.2760 - val_loss: 3.0947 - val_mae: 0.2109\n",
      "Epoch 10/150\n",
      "\u001B[1m18/18\u001B[0m \u001B[32m━━━━━━━━━━━━━━━━━━━━\u001B[0m\u001B[37m\u001B[0m \u001B[1m0s\u001B[0m 26ms/step - loss: 3.0552 - mae: 0.2616 - val_loss: 2.9402 - val_mae: 0.2064\n",
      "Epoch 11/150\n",
      "\u001B[1m18/18\u001B[0m \u001B[32m━━━━━━━━━━━━━━━━━━━━\u001B[0m\u001B[37m\u001B[0m \u001B[1m0s\u001B[0m 26ms/step - loss: 2.8952 - mae: 0.2520 - val_loss: 2.7928 - val_mae: 0.2074\n",
      "Epoch 12/150\n",
      "\u001B[1m18/18\u001B[0m \u001B[32m━━━━━━━━━━━━━━━━━━━━\u001B[0m\u001B[37m\u001B[0m \u001B[1m0s\u001B[0m 25ms/step - loss: 2.7451 - mae: 0.2440 - val_loss: 2.6422 - val_mae: 0.2065\n",
      "Epoch 13/150\n",
      "\u001B[1m18/18\u001B[0m \u001B[32m━━━━━━━━━━━━━━━━━━━━\u001B[0m\u001B[37m\u001B[0m \u001B[1m0s\u001B[0m 26ms/step - loss: 2.5963 - mae: 0.2389 - val_loss: 2.4852 - val_mae: 0.2011\n",
      "Epoch 14/150\n",
      "\u001B[1m18/18\u001B[0m \u001B[32m━━━━━━━━━━━━━━━━━━━━\u001B[0m\u001B[37m\u001B[0m \u001B[1m0s\u001B[0m 26ms/step - loss: 2.4439 - mae: 0.2252 - val_loss: 2.3398 - val_mae: 0.1989\n",
      "Epoch 15/150\n",
      "\u001B[1m18/18\u001B[0m \u001B[32m━━━━━━━━━━━━━━━━━━━━\u001B[0m\u001B[37m\u001B[0m \u001B[1m0s\u001B[0m 26ms/step - loss: 2.2876 - mae: 0.2044 - val_loss: 2.1962 - val_mae: 0.1978\n",
      "Epoch 16/150\n",
      "\u001B[1m18/18\u001B[0m \u001B[32m━━━━━━━━━━━━━━━━━━━━\u001B[0m\u001B[37m\u001B[0m \u001B[1m0s\u001B[0m 26ms/step - loss: 2.1599 - mae: 0.2174 - val_loss: 2.0572 - val_mae: 0.1950\n",
      "Epoch 17/150\n",
      "\u001B[1m18/18\u001B[0m \u001B[32m━━━━━━━━━━━━━━━━━━━━\u001B[0m\u001B[37m\u001B[0m \u001B[1m0s\u001B[0m 25ms/step - loss: 2.0153 - mae: 0.2080 - val_loss: 1.9222 - val_mae: 0.2005\n",
      "Epoch 18/150\n",
      "\u001B[1m18/18\u001B[0m \u001B[32m━━━━━━━━━━━━━━━━━━━━\u001B[0m\u001B[37m\u001B[0m \u001B[1m0s\u001B[0m 25ms/step - loss: 1.8803 - mae: 0.2015 - val_loss: 1.7953 - val_mae: 0.2011\n",
      "Epoch 19/150\n",
      "\u001B[1m18/18\u001B[0m \u001B[32m━━━━━━━━━━━━━━━━━━━━\u001B[0m\u001B[37m\u001B[0m \u001B[1m0s\u001B[0m 25ms/step - loss: 1.7471 - mae: 0.1912 - val_loss: 1.6691 - val_mae: 0.2053\n",
      "Epoch 20/150\n",
      "\u001B[1m18/18\u001B[0m \u001B[32m━━━━━━━━━━━━━━━━━━━━\u001B[0m\u001B[37m\u001B[0m \u001B[1m0s\u001B[0m 25ms/step - loss: 1.6145 - mae: 0.1769 - val_loss: 1.5477 - val_mae: 0.2122\n",
      "Epoch 21/150\n",
      "\u001B[1m18/18\u001B[0m \u001B[32m━━━━━━━━━━━━━━━━━━━━\u001B[0m\u001B[37m\u001B[0m \u001B[1m0s\u001B[0m 24ms/step - loss: 1.4930 - mae: 0.1736 - val_loss: 1.4305 - val_mae: 0.2191\n",
      "Epoch 22/150\n",
      "\u001B[1m18/18\u001B[0m \u001B[32m━━━━━━━━━━━━━━━━━━━━\u001B[0m\u001B[37m\u001B[0m \u001B[1m0s\u001B[0m 25ms/step - loss: 1.3756 - mae: 0.1792 - val_loss: 1.3155 - val_mae: 0.2166\n",
      "Epoch 23/150\n",
      "\u001B[1m18/18\u001B[0m \u001B[32m━━━━━━━━━━━━━━━━━━━━\u001B[0m\u001B[37m\u001B[0m \u001B[1m0s\u001B[0m 24ms/step - loss: 1.2688 - mae: 0.1863 - val_loss: 1.2043 - val_mae: 0.2072\n",
      "Epoch 24/150\n",
      "\u001B[1m18/18\u001B[0m \u001B[32m━━━━━━━━━━━━━━━━━━━━\u001B[0m\u001B[37m\u001B[0m \u001B[1m0s\u001B[0m 24ms/step - loss: 1.1554 - mae: 0.1735 - val_loss: 1.1006 - val_mae: 0.2143\n",
      "Epoch 25/150\n",
      "\u001B[1m18/18\u001B[0m \u001B[32m━━━━━━━━━━━━━━━━━━━━\u001B[0m\u001B[37m\u001B[0m \u001B[1m0s\u001B[0m 24ms/step - loss: 1.0509 - mae: 0.1698 - val_loss: 1.0034 - val_mae: 0.2216\n",
      "Epoch 26/150\n",
      "\u001B[1m18/18\u001B[0m \u001B[32m━━━━━━━━━━━━━━━━━━━━\u001B[0m\u001B[37m\u001B[0m \u001B[1m0s\u001B[0m 24ms/step - loss: 0.9520 - mae: 0.1668 - val_loss: 0.9071 - val_mae: 0.2136\n",
      "Epoch 27/150\n",
      "\u001B[1m18/18\u001B[0m \u001B[32m━━━━━━━━━━━━━━━━━━━━\u001B[0m\u001B[37m\u001B[0m \u001B[1m0s\u001B[0m 24ms/step - loss: 0.8623 - mae: 0.1642 - val_loss: 0.8189 - val_mae: 0.2087\n",
      "Epoch 28/150\n",
      "\u001B[1m18/18\u001B[0m \u001B[32m━━━━━━━━━━━━━━━━━━━━\u001B[0m\u001B[37m\u001B[0m \u001B[1m0s\u001B[0m 24ms/step - loss: 0.7679 - mae: 0.1484 - val_loss: 0.7360 - val_mae: 0.2128\n",
      "Epoch 29/150\n",
      "\u001B[1m18/18\u001B[0m \u001B[32m━━━━━━━━━━━━━━━━━━━━\u001B[0m\u001B[37m\u001B[0m \u001B[1m0s\u001B[0m 24ms/step - loss: 0.6910 - mae: 0.1548 - val_loss: 0.6595 - val_mae: 0.2132\n",
      "Epoch 30/150\n",
      "\u001B[1m18/18\u001B[0m \u001B[32m━━━━━━━━━━━━━━━━━━━━\u001B[0m\u001B[37m\u001B[0m \u001B[1m0s\u001B[0m 24ms/step - loss: 0.6147 - mae: 0.1544 - val_loss: 0.5875 - val_mae: 0.2157\n",
      "Epoch 31/150\n",
      "\u001B[1m18/18\u001B[0m \u001B[32m━━━━━━━━━━━━━━━━━━━━\u001B[0m\u001B[37m\u001B[0m \u001B[1m0s\u001B[0m 24ms/step - loss: 0.5481 - mae: 0.1598 - val_loss: 0.5217 - val_mae: 0.2110\n",
      "Epoch 32/150\n",
      "\u001B[1m18/18\u001B[0m \u001B[32m━━━━━━━━━━━━━━━━━━━━\u001B[0m\u001B[37m\u001B[0m \u001B[1m0s\u001B[0m 24ms/step - loss: 0.4817 - mae: 0.1558 - val_loss: 0.4613 - val_mae: 0.2116\n",
      "Epoch 33/150\n",
      "\u001B[1m18/18\u001B[0m \u001B[32m━━━━━━━━━━━━━━━━━━━━\u001B[0m\u001B[37m\u001B[0m \u001B[1m0s\u001B[0m 24ms/step - loss: 0.4193 - mae: 0.1520 - val_loss: 0.4064 - val_mae: 0.2095\n",
      "Epoch 34/150\n",
      "\u001B[1m18/18\u001B[0m \u001B[32m━━━━━━━━━━━━━━━━━━━━\u001B[0m\u001B[37m\u001B[0m \u001B[1m0s\u001B[0m 24ms/step - loss: 0.3704 - mae: 0.1608 - val_loss: 0.3568 - val_mae: 0.2070\n",
      "Epoch 35/150\n",
      "\u001B[1m18/18\u001B[0m \u001B[32m━━━━━━━━━━━━━━━━━━━━\u001B[0m\u001B[37m\u001B[0m \u001B[1m0s\u001B[0m 24ms/step - loss: 0.3142 - mae: 0.1462 - val_loss: 0.3084 - val_mae: 0.2010\n",
      "Epoch 36/150\n",
      "\u001B[1m18/18\u001B[0m \u001B[32m━━━━━━━━━━━━━━━━━━━━\u001B[0m\u001B[37m\u001B[0m \u001B[1m0s\u001B[0m 24ms/step - loss: 0.2707 - mae: 0.1458 - val_loss: 0.2725 - val_mae: 0.2169\n",
      "Epoch 37/150\n",
      "\u001B[1m18/18\u001B[0m \u001B[32m━━━━━━━━━━━━━━━━━━━━\u001B[0m\u001B[37m\u001B[0m \u001B[1m0s\u001B[0m 24ms/step - loss: 0.2329 - mae: 0.1460 - val_loss: 0.2381 - val_mae: 0.2148\n",
      "Epoch 38/150\n",
      "\u001B[1m18/18\u001B[0m \u001B[32m━━━━━━━━━━━━━━━━━━━━\u001B[0m\u001B[37m\u001B[0m \u001B[1m0s\u001B[0m 24ms/step - loss: 0.1992 - mae: 0.1520 - val_loss: 0.2048 - val_mae: 0.2036\n",
      "Epoch 39/150\n",
      "\u001B[1m18/18\u001B[0m \u001B[32m━━━━━━━━━━━━━━━━━━━━\u001B[0m\u001B[37m\u001B[0m \u001B[1m0s\u001B[0m 24ms/step - loss: 0.1698 - mae: 0.1466 - val_loss: 0.1786 - val_mae: 0.1974\n",
      "Epoch 40/150\n",
      "\u001B[1m18/18\u001B[0m \u001B[32m━━━━━━━━━━━━━━━━━━━━\u001B[0m\u001B[37m\u001B[0m \u001B[1m0s\u001B[0m 24ms/step - loss: 0.1438 - mae: 0.1420 - val_loss: 0.1598 - val_mae: 0.2061\n",
      "Epoch 41/150\n",
      "\u001B[1m18/18\u001B[0m \u001B[32m━━━━━━━━━━━━━━━━━━━━\u001B[0m\u001B[37m\u001B[0m \u001B[1m0s\u001B[0m 24ms/step - loss: 0.1280 - mae: 0.1505 - val_loss: 0.1424 - val_mae: 0.2050\n",
      "Epoch 42/150\n",
      "\u001B[1m18/18\u001B[0m \u001B[32m━━━━━━━━━━━━━━━━━━━━\u001B[0m\u001B[37m\u001B[0m \u001B[1m0s\u001B[0m 23ms/step - loss: 0.1089 - mae: 0.1420 - val_loss: 0.1306 - val_mae: 0.2128\n",
      "Epoch 43/150\n",
      "\u001B[1m18/18\u001B[0m \u001B[32m━━━━━━━━━━━━━━━━━━━━\u001B[0m\u001B[37m\u001B[0m \u001B[1m0s\u001B[0m 24ms/step - loss: 0.0987 - mae: 0.1517 - val_loss: 0.1175 - val_mae: 0.2099\n",
      "Epoch 44/150\n",
      "\u001B[1m18/18\u001B[0m \u001B[32m━━━━━━━━━━━━━━━━━━━━\u001B[0m\u001B[37m\u001B[0m \u001B[1m0s\u001B[0m 24ms/step - loss: 0.0904 - mae: 0.1578 - val_loss: 0.1097 - val_mae: 0.2117\n",
      "Epoch 45/150\n",
      "\u001B[1m18/18\u001B[0m \u001B[32m━━━━━━━━━━━━━━━━━━━━\u001B[0m\u001B[37m\u001B[0m \u001B[1m1s\u001B[0m 27ms/step - loss: 0.0765 - mae: 0.1472 - val_loss: 0.1040 - val_mae: 0.2112\n",
      "Epoch 46/150\n",
      "\u001B[1m18/18\u001B[0m \u001B[32m━━━━━━━━━━━━━━━━━━━━\u001B[0m\u001B[37m\u001B[0m \u001B[1m0s\u001B[0m 24ms/step - loss: 0.0723 - mae: 0.1512 - val_loss: 0.1022 - val_mae: 0.2214\n",
      "Epoch 47/150\n",
      "\u001B[1m18/18\u001B[0m \u001B[32m━━━━━━━━━━━━━━━━━━━━\u001B[0m\u001B[37m\u001B[0m \u001B[1m0s\u001B[0m 24ms/step - loss: 0.0657 - mae: 0.1455 - val_loss: 0.0960 - val_mae: 0.2181\n",
      "Epoch 48/150\n",
      "\u001B[1m18/18\u001B[0m \u001B[32m━━━━━━━━━━━━━━━━━━━━\u001B[0m\u001B[37m\u001B[0m \u001B[1m0s\u001B[0m 24ms/step - loss: 0.0630 - mae: 0.1469 - val_loss: 0.0902 - val_mae: 0.2103\n",
      "Epoch 49/150\n",
      "\u001B[1m18/18\u001B[0m \u001B[32m━━━━━━━━━━━━━━━━━━━━\u001B[0m\u001B[37m\u001B[0m \u001B[1m0s\u001B[0m 24ms/step - loss: 0.0589 - mae: 0.1476 - val_loss: 0.0857 - val_mae: 0.2056\n",
      "Epoch 50/150\n",
      "\u001B[1m18/18\u001B[0m \u001B[32m━━━━━━━━━━━━━━━━━━━━\u001B[0m\u001B[37m\u001B[0m \u001B[1m0s\u001B[0m 23ms/step - loss: 0.0555 - mae: 0.1457 - val_loss: 0.0829 - val_mae: 0.2017\n",
      "Epoch 51/150\n",
      "\u001B[1m18/18\u001B[0m \u001B[32m━━━━━━━━━━━━━━━━━━━━\u001B[0m\u001B[37m\u001B[0m \u001B[1m0s\u001B[0m 23ms/step - loss: 0.0585 - mae: 0.1537 - val_loss: 0.0853 - val_mae: 0.2148\n",
      "Epoch 52/150\n",
      "\u001B[1m18/18\u001B[0m \u001B[32m━━━━━━━━━━━━━━━━━━━━\u001B[0m\u001B[37m\u001B[0m \u001B[1m0s\u001B[0m 23ms/step - loss: 0.0519 - mae: 0.1482 - val_loss: 0.0842 - val_mae: 0.2169\n",
      "Epoch 53/150\n",
      "\u001B[1m18/18\u001B[0m \u001B[32m━━━━━━━━━━━━━━━━━━━━\u001B[0m\u001B[37m\u001B[0m \u001B[1m0s\u001B[0m 23ms/step - loss: 0.0504 - mae: 0.1472 - val_loss: 0.0818 - val_mae: 0.2112\n",
      "Epoch 54/150\n",
      "\u001B[1m18/18\u001B[0m \u001B[32m━━━━━━━━━━━━━━━━━━━━\u001B[0m\u001B[37m\u001B[0m \u001B[1m0s\u001B[0m 23ms/step - loss: 0.0468 - mae: 0.1378 - val_loss: 0.0856 - val_mae: 0.2176\n",
      "Epoch 55/150\n",
      "\u001B[1m18/18\u001B[0m \u001B[32m━━━━━━━━━━━━━━━━━━━━\u001B[0m\u001B[37m\u001B[0m \u001B[1m0s\u001B[0m 24ms/step - loss: 0.0529 - mae: 0.1516 - val_loss: 0.0791 - val_mae: 0.2080\n",
      "Epoch 56/150\n",
      "\u001B[1m18/18\u001B[0m \u001B[32m━━━━━━━━━━━━━━━━━━━━\u001B[0m\u001B[37m\u001B[0m \u001B[1m0s\u001B[0m 23ms/step - loss: 0.0475 - mae: 0.1425 - val_loss: 0.0793 - val_mae: 0.2081\n",
      "Epoch 57/150\n",
      "\u001B[1m18/18\u001B[0m \u001B[32m━━━━━━━━━━━━━━━━━━━━\u001B[0m\u001B[37m\u001B[0m \u001B[1m0s\u001B[0m 23ms/step - loss: 0.0461 - mae: 0.1391 - val_loss: 0.0783 - val_mae: 0.2093\n",
      "Epoch 58/150\n",
      "\u001B[1m18/18\u001B[0m \u001B[32m━━━━━━━━━━━━━━━━━━━━\u001B[0m\u001B[37m\u001B[0m \u001B[1m0s\u001B[0m 23ms/step - loss: 0.0454 - mae: 0.1407 - val_loss: 0.0788 - val_mae: 0.2087\n",
      "Epoch 59/150\n",
      "\u001B[1m18/18\u001B[0m \u001B[32m━━━━━━━━━━━━━━━━━━━━\u001B[0m\u001B[37m\u001B[0m \u001B[1m0s\u001B[0m 23ms/step - loss: 0.0411 - mae: 0.1331 - val_loss: 0.0789 - val_mae: 0.2083\n",
      "Epoch 60/150\n",
      "\u001B[1m18/18\u001B[0m \u001B[32m━━━━━━━━━━━━━━━━━━━━\u001B[0m\u001B[37m\u001B[0m \u001B[1m0s\u001B[0m 23ms/step - loss: 0.0452 - mae: 0.1436 - val_loss: 0.0768 - val_mae: 0.2042\n",
      "Epoch 61/150\n",
      "\u001B[1m18/18\u001B[0m \u001B[32m━━━━━━━━━━━━━━━━━━━━\u001B[0m\u001B[37m\u001B[0m \u001B[1m0s\u001B[0m 23ms/step - loss: 0.0476 - mae: 0.1497 - val_loss: 0.0791 - val_mae: 0.2070\n",
      "Epoch 62/150\n",
      "\u001B[1m18/18\u001B[0m \u001B[32m━━━━━━━━━━━━━━━━━━━━\u001B[0m\u001B[37m\u001B[0m \u001B[1m0s\u001B[0m 23ms/step - loss: 0.0443 - mae: 0.1385 - val_loss: 0.0773 - val_mae: 0.2060\n",
      "Epoch 63/150\n",
      "\u001B[1m18/18\u001B[0m \u001B[32m━━━━━━━━━━━━━━━━━━━━\u001B[0m\u001B[37m\u001B[0m \u001B[1m0s\u001B[0m 23ms/step - loss: 0.0434 - mae: 0.1380 - val_loss: 0.0799 - val_mae: 0.2112\n",
      "Epoch 64/150\n",
      "\u001B[1m18/18\u001B[0m \u001B[32m━━━━━━━━━━━━━━━━━━━━\u001B[0m\u001B[37m\u001B[0m \u001B[1m0s\u001B[0m 23ms/step - loss: 0.0464 - mae: 0.1426 - val_loss: 0.0794 - val_mae: 0.2064\n",
      "Epoch 65/150\n",
      "\u001B[1m18/18\u001B[0m \u001B[32m━━━━━━━━━━━━━━━━━━━━\u001B[0m\u001B[37m\u001B[0m \u001B[1m0s\u001B[0m 23ms/step - loss: 0.0436 - mae: 0.1382 - val_loss: 0.0778 - val_mae: 0.2040\n",
      "Epoch 66/150\n",
      "\u001B[1m18/18\u001B[0m \u001B[32m━━━━━━━━━━━━━━━━━━━━\u001B[0m\u001B[37m\u001B[0m \u001B[1m0s\u001B[0m 23ms/step - loss: 0.0425 - mae: 0.1375 - val_loss: 0.0750 - val_mae: 0.1989\n",
      "Epoch 67/150\n",
      "\u001B[1m18/18\u001B[0m \u001B[32m━━━━━━━━━━━━━━━━━━━━\u001B[0m\u001B[37m\u001B[0m \u001B[1m0s\u001B[0m 23ms/step - loss: 0.0466 - mae: 0.1487 - val_loss: 0.0761 - val_mae: 0.2065\n",
      "Epoch 68/150\n",
      "\u001B[1m18/18\u001B[0m \u001B[32m━━━━━━━━━━━━━━━━━━━━\u001B[0m\u001B[37m\u001B[0m \u001B[1m0s\u001B[0m 22ms/step - loss: 0.0453 - mae: 0.1452 - val_loss: 0.0761 - val_mae: 0.2029\n",
      "Epoch 69/150\n",
      "\u001B[1m18/18\u001B[0m \u001B[32m━━━━━━━━━━━━━━━━━━━━\u001B[0m\u001B[37m\u001B[0m \u001B[1m0s\u001B[0m 23ms/step - loss: 0.0436 - mae: 0.1417 - val_loss: 0.0831 - val_mae: 0.2154\n",
      "Epoch 70/150\n",
      "\u001B[1m18/18\u001B[0m \u001B[32m━━━━━━━━━━━━━━━━━━━━\u001B[0m\u001B[37m\u001B[0m \u001B[1m0s\u001B[0m 24ms/step - loss: 0.0431 - mae: 0.1399 - val_loss: 0.0832 - val_mae: 0.2157\n",
      "Epoch 71/150\n",
      "\u001B[1m18/18\u001B[0m \u001B[32m━━━━━━━━━━━━━━━━━━━━\u001B[0m\u001B[37m\u001B[0m \u001B[1m0s\u001B[0m 24ms/step - loss: 0.0434 - mae: 0.1369 - val_loss: 0.0759 - val_mae: 0.2026\n",
      "Epoch 72/150\n",
      "\u001B[1m18/18\u001B[0m \u001B[32m━━━━━━━━━━━━━━━━━━━━\u001B[0m\u001B[37m\u001B[0m \u001B[1m0s\u001B[0m 23ms/step - loss: 0.0430 - mae: 0.1365 - val_loss: 0.0738 - val_mae: 0.1971\n",
      "Epoch 73/150\n",
      "\u001B[1m18/18\u001B[0m \u001B[32m━━━━━━━━━━━━━━━━━━━━\u001B[0m\u001B[37m\u001B[0m \u001B[1m0s\u001B[0m 23ms/step - loss: 0.0384 - mae: 0.1250 - val_loss: 0.0872 - val_mae: 0.2157\n",
      "Epoch 74/150\n",
      "\u001B[1m18/18\u001B[0m \u001B[32m━━━━━━━━━━━━━━━━━━━━\u001B[0m\u001B[37m\u001B[0m \u001B[1m0s\u001B[0m 23ms/step - loss: 0.0445 - mae: 0.1361 - val_loss: 0.0800 - val_mae: 0.2090\n",
      "Epoch 75/150\n",
      "\u001B[1m18/18\u001B[0m \u001B[32m━━━━━━━━━━━━━━━━━━━━\u001B[0m\u001B[37m\u001B[0m \u001B[1m0s\u001B[0m 23ms/step - loss: 0.0384 - mae: 0.1275 - val_loss: 0.0759 - val_mae: 0.2001\n",
      "Epoch 76/150\n",
      "\u001B[1m18/18\u001B[0m \u001B[32m━━━━━━━━━━━━━━━━━━━━\u001B[0m\u001B[37m\u001B[0m \u001B[1m0s\u001B[0m 23ms/step - loss: 0.0433 - mae: 0.1391 - val_loss: 0.0766 - val_mae: 0.2027\n",
      "Epoch 77/150\n",
      "\u001B[1m18/18\u001B[0m \u001B[32m━━━━━━━━━━━━━━━━━━━━\u001B[0m\u001B[37m\u001B[0m \u001B[1m0s\u001B[0m 24ms/step - loss: 0.0393 - mae: 0.1310 - val_loss: 0.0751 - val_mae: 0.1962\n",
      "Epoch 78/150\n",
      "\u001B[1m18/18\u001B[0m \u001B[32m━━━━━━━━━━━━━━━━━━━━\u001B[0m\u001B[37m\u001B[0m \u001B[1m0s\u001B[0m 23ms/step - loss: 0.0434 - mae: 0.1352 - val_loss: 0.0812 - val_mae: 0.2124\n",
      "Epoch 79/150\n",
      "\u001B[1m18/18\u001B[0m \u001B[32m━━━━━━━━━━━━━━━━━━━━\u001B[0m\u001B[37m\u001B[0m \u001B[1m0s\u001B[0m 23ms/step - loss: 0.0406 - mae: 0.1306 - val_loss: 0.0804 - val_mae: 0.2141\n",
      "Epoch 80/150\n",
      "\u001B[1m18/18\u001B[0m \u001B[32m━━━━━━━━━━━━━━━━━━━━\u001B[0m\u001B[37m\u001B[0m \u001B[1m0s\u001B[0m 23ms/step - loss: 0.0396 - mae: 0.1317 - val_loss: 0.0800 - val_mae: 0.2050\n",
      "Epoch 81/150\n",
      "\u001B[1m18/18\u001B[0m \u001B[32m━━━━━━━━━━━━━━━━━━━━\u001B[0m\u001B[37m\u001B[0m \u001B[1m0s\u001B[0m 23ms/step - loss: 0.0428 - mae: 0.1344 - val_loss: 0.0762 - val_mae: 0.2029\n",
      "Epoch 82/150\n",
      "\u001B[1m18/18\u001B[0m \u001B[32m━━━━━━━━━━━━━━━━━━━━\u001B[0m\u001B[37m\u001B[0m \u001B[1m0s\u001B[0m 23ms/step - loss: 0.0406 - mae: 0.1342 - val_loss: 0.0838 - val_mae: 0.2133\n",
      "Epoch 83/150\n",
      "\u001B[1m18/18\u001B[0m \u001B[32m━━━━━━━━━━━━━━━━━━━━\u001B[0m\u001B[37m\u001B[0m \u001B[1m0s\u001B[0m 23ms/step - loss: 0.0408 - mae: 0.1324 - val_loss: 0.0761 - val_mae: 0.2041\n",
      "Epoch 84/150\n",
      "\u001B[1m18/18\u001B[0m \u001B[32m━━━━━━━━━━━━━━━━━━━━\u001B[0m\u001B[37m\u001B[0m \u001B[1m0s\u001B[0m 23ms/step - loss: 0.0417 - mae: 0.1380 - val_loss: 0.0815 - val_mae: 0.2070\n",
      "Epoch 85/150\n",
      "\u001B[1m18/18\u001B[0m \u001B[32m━━━━━━━━━━━━━━━━━━━━\u001B[0m\u001B[37m\u001B[0m \u001B[1m0s\u001B[0m 23ms/step - loss: 0.0376 - mae: 0.1273 - val_loss: 0.0807 - val_mae: 0.2078\n",
      "Epoch 86/150\n",
      "\u001B[1m18/18\u001B[0m \u001B[32m━━━━━━━━━━━━━━━━━━━━\u001B[0m\u001B[37m\u001B[0m \u001B[1m0s\u001B[0m 23ms/step - loss: 0.0357 - mae: 0.1212 - val_loss: 0.0803 - val_mae: 0.2067\n",
      "Epoch 87/150\n",
      "\u001B[1m18/18\u001B[0m \u001B[32m━━━━━━━━━━━━━━━━━━━━\u001B[0m\u001B[37m\u001B[0m \u001B[1m0s\u001B[0m 23ms/step - loss: 0.0417 - mae: 0.1329 - val_loss: 0.0746 - val_mae: 0.1978\n",
      "Epoch 88/150\n",
      "\u001B[1m18/18\u001B[0m \u001B[32m━━━━━━━━━━━━━━━━━━━━\u001B[0m\u001B[37m\u001B[0m \u001B[1m0s\u001B[0m 23ms/step - loss: 0.0378 - mae: 0.1290 - val_loss: 0.0864 - val_mae: 0.2149\n",
      "Epoch 89/150\n",
      "\u001B[1m18/18\u001B[0m \u001B[32m━━━━━━━━━━━━━━━━━━━━\u001B[0m\u001B[37m\u001B[0m \u001B[1m0s\u001B[0m 23ms/step - loss: 0.0356 - mae: 0.1221 - val_loss: 0.0810 - val_mae: 0.2028\n",
      "Epoch 90/150\n",
      "\u001B[1m18/18\u001B[0m \u001B[32m━━━━━━━━━━━━━━━━━━━━\u001B[0m\u001B[37m\u001B[0m \u001B[1m0s\u001B[0m 23ms/step - loss: 0.0378 - mae: 0.1247 - val_loss: 0.0878 - val_mae: 0.2196\n",
      "Epoch 91/150\n",
      "\u001B[1m18/18\u001B[0m \u001B[32m━━━━━━━━━━━━━━━━━━━━\u001B[0m\u001B[37m\u001B[0m \u001B[1m0s\u001B[0m 23ms/step - loss: 0.0387 - mae: 0.1260 - val_loss: 0.0795 - val_mae: 0.1997\n",
      "Epoch 92/150\n",
      "\u001B[1m18/18\u001B[0m \u001B[32m━━━━━━━━━━━━━━━━━━━━\u001B[0m\u001B[37m\u001B[0m \u001B[1m0s\u001B[0m 23ms/step - loss: 0.0385 - mae: 0.1258 - val_loss: 0.0785 - val_mae: 0.1981\n"
     ]
    }
   ],
   "execution_count": 208
  },
  {
   "metadata": {
    "ExecuteTime": {
     "end_time": "2025-07-15T05:55:32.828183Z",
     "start_time": "2025-07-15T05:55:32.820549Z"
    }
   },
   "cell_type": "code",
   "source": [
    "def evaluar_modelo_multivariado_v2(model, X_test_seq, y_test_seq, scaler_y):\n",
    "    \"\"\"\n",
    "    Evalúa el modelo multivariado\n",
    "    \"\"\"\n",
    "    # Predicciones\n",
    "    predictions_scaled = model.predict(X_test_seq)\n",
    "\n",
    "    # Desescalar\n",
    "    predictions = scaler_y.inverse_transform(predictions_scaled)\n",
    "    real_values = scaler_y.inverse_transform(y_test_seq)\n",
    "\n",
    "    # Métricas\n",
    "    mae = mean_absolute_error(real_values, predictions)\n",
    "    mse = mean_squared_error(real_values, predictions)\n",
    "    r2 = r2_score(real_values, predictions)\n",
    "\n",
    "    print(f\"MAE: {mae:.4f}\")\n",
    "    print(f\"MSE: {mse:.4f}\")\n",
    "    print(f\"R²: {r2:.4f}\")\n",
    "\n",
    "    return predictions, real_values"
   ],
   "id": "213fb04791b4619f",
   "outputs": [],
   "execution_count": 209
  },
  {
   "metadata": {
    "ExecuteTime": {
     "end_time": "2025-07-15T05:55:38.106105Z",
     "start_time": "2025-07-15T05:55:36.740240Z"
    }
   },
   "cell_type": "code",
   "source": [
    "predictions, real_values = evaluar_modelo_multivariado_v2(\n",
    "        model, X_test_seq, y_test_seq, scaler_y)"
   ],
   "id": "dd562a9325596781",
   "outputs": [
    {
     "name": "stdout",
     "output_type": "stream",
     "text": [
      "\u001B[1m2/2\u001B[0m \u001B[32m━━━━━━━━━━━━━━━━━━━━\u001B[0m\u001B[37m\u001B[0m \u001B[1m1s\u001B[0m 680ms/step\n",
      "MAE: 25.9397\n",
      "MSE: 1082.3348\n",
      "R²: 0.2262\n"
     ]
    }
   ],
   "execution_count": 210
  },
  {
   "metadata": {
    "ExecuteTime": {
     "end_time": "2025-07-15T05:55:51.602111Z",
     "start_time": "2025-07-15T05:55:51.595420Z"
    }
   },
   "cell_type": "code",
   "source": [
    "def forecast_futuro_multivariado(model, X_scaled, scaler_X, scaler_y, length=12, pasos_futuros=6):\n",
    "    \"\"\"\n",
    "    Realiza predicciones futuras con modelo multivariado\n",
    "    NOTA: Requiere valores futuros de las features (área, clima, cantón)\n",
    "    \"\"\"\n",
    "    # Obtener la última secuencia\n",
    "    last_sequence = X_scaled[-length:]\n",
    "\n",
    "    forecast = []\n",
    "    current_sequence = last_sequence.copy()\n",
    "\n",
    "    for _ in range(pasos_futuros):\n",
    "        # Predecir siguiente valor\n",
    "        next_pred = model.predict(current_sequence.reshape(1, length, -1), verbose=0)\n",
    "        forecast.append(next_pred[0, 0])\n",
    "\n",
    "        # Para forecast multivariado, necesitarías actualizar current_sequence\n",
    "        # con nuevos valores de features. Aquí simplificamos manteniendo\n",
    "        # las features constantes y solo actualizando la secuencia temporal\n",
    "\n",
    "        # Actualizar secuencia (esto es una simplificación)\n",
    "        current_sequence = np.roll(current_sequence, -1, axis=0)\n",
    "        # current_sequence[-1] = ... # Aquí necesitarías los valores futuros de features\n",
    "\n",
    "    # Desescalar predicciones\n",
    "    forecast = np.array(forecast).reshape(-1, 1)\n",
    "    forecast_unscaled = scaler_y.inverse_transform(forecast)\n",
    "\n",
    "    return forecast_unscaled.flatten()"
   ],
   "id": "d9e0f077f3017d39",
   "outputs": [],
   "execution_count": 211
  },
  {
   "metadata": {
    "ExecuteTime": {
     "end_time": "2025-07-15T05:56:27.780512Z",
     "start_time": "2025-07-15T05:56:27.686805Z"
    }
   },
   "cell_type": "code",
   "source": [
    "model_path = os.path.join(base_path, \"models\", \"modelo_LSTM_multivariado.keras\")\n",
    "model.save(model_path)\n",
    "print(\"Modelo guardado con éxito.\")"
   ],
   "id": "9720e971383919ab",
   "outputs": [
    {
     "name": "stdout",
     "output_type": "stream",
     "text": [
      "Modelo guardado con éxito.\n"
     ]
    }
   ],
   "execution_count": 213
  },
  {
   "metadata": {
    "ExecuteTime": {
     "end_time": "2025-07-15T05:56:29.904356Z",
     "start_time": "2025-07-15T05:56:29.898268Z"
    }
   },
   "cell_type": "code",
   "source": [
    "def guardar_scalers_y_features(scaler_X, scaler_y, feature_cols, base_path):\n",
    "    \"\"\"\n",
    "    Guarda los scalers y columnas de features para uso posterior\n",
    "    \"\"\"\n",
    "    # Crear directorio models si no existe\n",
    "    models_dir = os.path.join(base_path, \"models\")\n",
    "    os.makedirs(models_dir, exist_ok=True)\n",
    "\n",
    "    # Guardar scaler de features (X)\n",
    "    scaler_X_path = os.path.join(models_dir, \"scaler_X_multivariado.pkl\")\n",
    "    with open(scaler_X_path, 'wb') as f:\n",
    "        pickle.dump(scaler_X, f)\n",
    "\n",
    "    # Guardar scaler de target (y)\n",
    "    scaler_y_path = os.path.join(models_dir, \"scaler_y_multivariado.pkl\")\n",
    "    with open(scaler_y_path, 'wb') as f:\n",
    "        pickle.dump(scaler_y, f)\n",
    "\n",
    "    # Guardar columnas de features\n",
    "    features_path = os.path.join(models_dir, \"feature_columns_multivariado.pkl\")\n",
    "    with open(features_path, 'wb') as f:\n",
    "        pickle.dump(feature_cols, f)\n",
    "\n",
    "    print(\"✅ Scalers y features guardados correctamente.\")\n",
    "    print(f\"   - Scaler X: {scaler_X_path}\")\n",
    "    print(f\"   - Scaler y: {scaler_y_path}\")\n",
    "    print(f\"   - Features: {features_path}\")\n"
   ],
   "id": "4fd2142d7a593b46",
   "outputs": [],
   "execution_count": 214
  },
  {
   "metadata": {
    "ExecuteTime": {
     "end_time": "2025-07-15T05:56:37.281365Z",
     "start_time": "2025-07-15T05:56:37.273694Z"
    }
   },
   "cell_type": "code",
   "source": "guardar_scalers_y_features(scaler_X, scaler_y, feature_cols, base_path)",
   "id": "43fd99661e6edb4d",
   "outputs": [
    {
     "name": "stdout",
     "output_type": "stream",
     "text": [
      "✅ Scalers y features guardados correctamente.\n",
      "   - Scaler X: C:\\TemplateAgroIA\\models\\scaler_X_multivariado.pkl\n",
      "   - Scaler y: C:\\TemplateAgroIA\\models\\scaler_y_multivariado.pkl\n",
      "   - Features: C:\\TemplateAgroIA\\models\\feature_columns_multivariado.pkl\n"
     ]
    }
   ],
   "execution_count": 215
  },
  {
   "metadata": {
    "ExecuteTime": {
     "end_time": "2025-07-15T05:56:43.682442Z",
     "start_time": "2025-07-15T05:56:43.674122Z"
    }
   },
   "cell_type": "code",
   "source": [
    "def visualizar_entrenamiento(history):\n",
    "    \"\"\"\n",
    "    Visualiza las curvas de entrenamiento y validación\n",
    "    \"\"\"\n",
    "    fig, (ax1, ax2) = plt.subplots(1, 2, figsize=(15, 5))\n",
    "\n",
    "    # Gráfico de pérdida\n",
    "    ax1.plot(history.history['loss'], label='Entrenamiento', linewidth=2)\n",
    "    ax1.plot(history.history['val_loss'], label='Validación', linewidth=2)\n",
    "    ax1.set_title('Pérdida del Modelo', fontsize=14, fontweight='bold')\n",
    "    ax1.set_xlabel('Época')\n",
    "    ax1.set_ylabel('Pérdida (MSE)')\n",
    "    ax1.legend()\n",
    "    ax1.grid(True, alpha=0.3)\n",
    "\n",
    "    # Gráfico de MAE\n",
    "    ax2.plot(history.history['mae'], label='Entrenamiento', linewidth=2)\n",
    "    ax2.plot(history.history['val_mae'], label='Validación', linewidth=2)\n",
    "    ax2.set_title('Error Absoluto Medio', fontsize=14, fontweight='bold')\n",
    "    ax2.set_xlabel('Época')\n",
    "    ax2.set_ylabel('MAE')\n",
    "    ax2.legend()\n",
    "    ax2.grid(True, alpha=0.3)\n",
    "\n",
    "    plt.tight_layout()\n",
    "    plt.show()\n",
    "\n",
    "    # Imprimir estadísticas finales\n",
    "    print(\"\\n=== ESTADÍSTICAS FINALES ===\")\n",
    "    print(f\"Pérdida final (entrenamiento): {history.history['loss'][-1]:.4f}\")\n",
    "    print(f\"Pérdida final (validación): {history.history['val_loss'][-1]:.4f}\")\n",
    "    print(f\"MAE final (entrenamiento): {history.history['mae'][-1]:.4f}\")\n",
    "    print(f\"MAE final (validación): {history.history['val_mae'][-1]:.4f}\")\n",
    "    print(f\"Épocas entrenadas: {len(history.history['loss'])}\")\n"
   ],
   "id": "121755264ad37837",
   "outputs": [],
   "execution_count": 217
  },
  {
   "metadata": {
    "ExecuteTime": {
     "end_time": "2025-07-15T05:56:49.093614Z",
     "start_time": "2025-07-15T05:56:48.860816Z"
    }
   },
   "cell_type": "code",
   "source": "visualizar_entrenamiento(history)",
   "id": "ca6eeb227b97c614",
   "outputs": [
    {
     "data": {
      "text/plain": [
       "<Figure size 1500x500 with 2 Axes>"
      ],
      "image/png": "[encoded data removed]"
     },
     "metadata": {},
     "output_type": "display_data"
    },
    {
     "name": "stdout",
     "output_type": "stream",
     "text": [
      "\n",
      "=== ESTADÍSTICAS FINALES ===\n",
      "Pérdida final (entrenamiento): 0.0380\n",
      "Pérdida final (validación): 0.0785\n",
      "MAE final (entrenamiento): 0.1261\n",
      "MAE final (validación): 0.1981\n",
      "Épocas entrenadas: 92\n"
     ]
    }
   ],
   "execution_count": 218
  }
 ],
 "metadata": {
  "kernelspec": {
   "display_name": "Python 3",
   "language": "python",
   "name": "python3"
  },
  "language_info": {
   "codemirror_mode": {
    "name": "ipython",
    "version": 2
   },
   "file_extension": ".py",
   "mimetype": "text/x-python",
   "name": "python",
   "nbconvert_exporter": "python",
   "pygments_lexer": "ipython2",
   "version": "2.7.6"
  }
 },
 "nbformat": 4,
 "nbformat_minor": 5
}
