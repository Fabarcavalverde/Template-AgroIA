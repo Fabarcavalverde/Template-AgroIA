{
 "cells": [
  {
   "metadata": {},
   "cell_type": "markdown",
   "source": [
    "\n",
    "# 📘 Documentación del Código - Predicción de Producción Agrícola con LSTM\n",
    "\n",
    "Este código implementa una red neuronal LSTM multivariada para predecir la producción agrícola mensual a nivel de cantón, usando datos históricos y climáticos.\n"
   ],
   "id": "63529e2add0c02f0"
  },
  {
   "metadata": {},
   "cell_type": "markdown",
   "source": [
    "### 1. 📦 Importación de librerías\n",
    "\n",
    "Se importan librerías necesarias para preprocesamiento, visualización, modelado y evaluación del modelo.\n"
   ],
   "id": "e0ae11b813c018b4"
  },
  {
   "metadata": {
    "collapsed": true,
    "ExecuteTime": {
     "end_time": "2025-07-16T01:40:25.728638Z",
     "start_time": "2025-07-16T01:40:25.721824Z"
    }
   },
   "cell_type": "code",
   "source": [
    "# 1. Importación de librerías\n",
    "import pickle\n",
    "import numpy as np\n",
    "import pandas as pd\n",
    "import matplotlib.pyplot as plt\n",
    "import seaborn as sns\n",
    "from sklearn.preprocessing import MinMaxScaler\n",
    "from sklearn.metrics import mean_absolute_error, mean_squared_error, r2_score\n",
    "import tensorflow as tf\n",
    "from tensorflow.keras.layers import LSTM, Dense, Dropout, BatchNormalization, Bidirectional\n",
    "from tensorflow.keras.optimizers import Adam\n",
    "from tensorflow.keras.regularizers import l1_l2\n",
    "from tensorflow.keras.models import Sequential\n",
    "from tensorflow.keras.layers import LSTM, Dense, Dropout\n",
    "from tensorflow.keras.callbacks import EarlyStopping\n",
    "from tensorflow.keras.preprocessing.sequence import TimeseriesGenerator\n",
    "import warnings\n",
    "warnings.filterwarnings('ignore')\n",
    "import os\n",
    "from src.utils.metrics import obtener_ruta_app"
   ],
   "id": "initial_id",
   "outputs": [],
   "execution_count": 72
  },
  {
   "metadata": {
    "ExecuteTime": {
     "end_time": "2025-07-16T01:47:36.227465Z",
     "start_time": "2025-07-16T01:47:36.221601Z"
    }
   },
   "cell_type": "code",
   "source": [
    "plt.style.use('seaborn-v0_8')\n",
    "sns.set_palette(\"husl\")\n",
    "\n",
    "print(\"TensorFlow version:\", tf.__version__)"
   ],
   "id": "8cded27eadb281c8",
   "outputs": [
    {
     "name": "stdout",
     "output_type": "stream",
     "text": [
      "TensorFlow version: 2.19.0\n"
     ]
    }
   ],
   "execution_count": 93
  },
  {
   "metadata": {},
   "cell_type": "markdown",
   "source": "### 2. 📂 Carga de datos",
   "id": "fda30c32d9e1a982"
  },
  {
   "metadata": {
    "ExecuteTime": {
     "end_time": "2025-07-16T01:47:43.195998Z",
     "start_time": "2025-07-16T01:47:43.190574Z"
    }
   },
   "cell_type": "code",
   "source": [
    "def cargar_datos(archivo_csv):\n",
    "    \"\"\"\n",
    "    Carga los datos manteniendo la estructura multivariada\n",
    "    \"\"\"\n",
    "    df = pd.read_csv(archivo_csv, parse_dates=['fecha'])\n",
    "    df = df.sort_values(['fecha', 'canton_id'])  # Ordenar por fecha y cantón\n",
    "    print(f\"Datos cargados: {df.shape[0]} filas, {df.shape[1]} columnas\")\n",
    "    print(f\"Rango de fechas: {df['fecha'].min()} a {df['fecha'].max()}\")\n",
    "    print(f\"Cantones únicos: {df['canton_id'].nunique()}\")\n",
    "    return df"
   ],
   "id": "afc19375ecdb05be",
   "outputs": [],
   "execution_count": 94
  },
  {
   "metadata": {
    "ExecuteTime": {
     "end_time": "2025-07-16T01:47:47.154994Z",
     "start_time": "2025-07-16T01:47:47.145310Z"
    }
   },
   "cell_type": "code",
   "source": [
    "base_path = obtener_ruta_app(\"TemplateAgroIA\")\n",
    "file_path = os.path.join(base_path, \"data\", \"processed\", \"rnn\", \"rnn_produccion.csv\")\n",
    "df = cargar_datos(file_path)"
   ],
   "id": "4d5bfc6851324e6b",
   "outputs": [
    {
     "name": "stdout",
     "output_type": "stream",
     "text": [
      "Datos cargados: 630 filas, 12 columnas\n",
      "Rango de fechas: 2015-01-01 00:00:00 a 2025-06-01 00:00:00\n",
      "Cantones únicos: 5\n"
     ]
    }
   ],
   "execution_count": 95
  },
  {
   "metadata": {},
   "cell_type": "markdown",
   "source": [
    "### 3. 🛠 Preprocesamiento de datos\n",
    "\n",
    "- **Codificación one-hot** del `canton_id`.\n",
    "- Separación de variables independientes (`X`) y variable objetivo (`y`).\n",
    "- Se muestra información general del dataset.\n"
   ],
   "id": "f203dc1a1d0128f3"
  },
  {
   "metadata": {
    "ExecuteTime": {
     "end_time": "2025-07-16T01:47:52.802288Z",
     "start_time": "2025-07-16T01:47:52.792533Z"
    }
   },
   "cell_type": "code",
   "source": [
    "def preparar_datos_multivariado(df):\n",
    "    \"\"\"\n",
    "    Prepara los datos para modelo multivariado con one-hot encoding\n",
    "    \"\"\"\n",
    "    # One-hot encoding para cantón\n",
    "    df_encoded = pd.get_dummies(df, columns=['canton_id'], prefix='canton')\n",
    "\n",
    "    # Separar features y target\n",
    "    canton_cols = [col for col in df_encoded.columns if col.startswith('canton_')]\n",
    "\n",
    "    # Definir features (excluir fecha y produccion)\n",
    "    feature_cols = [col for col in df_encoded.columns\n",
    "                   if col not in ['fecha', 'produccion']]\n",
    "\n",
    "    # Crear dataset con todas las features\n",
    "    X = df_encoded[feature_cols].values\n",
    "    y = df_encoded['produccion'].values.reshape(-1, 1)  # Solo producción\n",
    "\n",
    "    print(f\"Shape de X (features): {X.shape}\")\n",
    "    print(f\"Shape de y (target): {y.shape}\")\n",
    "    print(f\"Features incluidas: {feature_cols}\")\n",
    "\n",
    "    return X, y, feature_cols, df_encoded"
   ],
   "id": "ebabc86d54b10272",
   "outputs": [],
   "execution_count": 96
  },
  {
   "metadata": {
    "ExecuteTime": {
     "end_time": "2025-07-16T01:47:56.462200Z",
     "start_time": "2025-07-16T01:47:56.453394Z"
    }
   },
   "cell_type": "code",
   "source": "X, y, feature_cols, df_encoded = preparar_datos_multivariado(df)",
   "id": "7bd6f43ef2e63afa",
   "outputs": [
    {
     "name": "stdout",
     "output_type": "stream",
     "text": [
      "Shape de X (features): (630, 14)\n",
      "Shape de y (target): (630, 1)\n",
      "Features incluidas: ['area', 'PRECTOTCORR_SUM', 'RH2M', 'T2M', 'T2MDEW', 'T2MWET', 'T2M_MAX', 'T2M_MIN', 'WS2M', 'canton_0', 'canton_1', 'canton_2', 'canton_3', 'canton_4']\n"
     ]
    }
   ],
   "execution_count": 97
  },
  {
   "metadata": {},
   "cell_type": "markdown",
   "source": [
    "### 4. 🔀 División entrenamiento y prueba\n",
    "\n",
    "Se separan los últimos 12 meses como conjunto de prueba para respetar la estructura temporal de los datos.\n"
   ],
   "id": "b57907124076e36e"
  },
  {
   "metadata": {
    "ExecuteTime": {
     "end_time": "2025-07-16T01:47:58.013646Z",
     "start_time": "2025-07-16T01:47:58.006952Z"
    }
   },
   "cell_type": "code",
   "source": [
    "def dividir_train_test_multivariado_v2(X, y, df_encoded, meses_test=12):\n",
    "    \"\"\"\n",
    "    Divide datos multivariados manteniendo estructura temporal\n",
    "    \"\"\"\n",
    "    fechas_unicas = sorted(df_encoded['fecha'].unique())\n",
    "    split_date = fechas_unicas[-meses_test]\n",
    "\n",
    "    # Obtener índices de división\n",
    "    train_idx = df_encoded['fecha'] < split_date\n",
    "    test_idx = df_encoded['fecha'] >= split_date\n",
    "\n",
    "    X_train = X[train_idx]\n",
    "    X_test = X[test_idx]\n",
    "    y_train = y[train_idx]\n",
    "    y_test = y[test_idx]\n",
    "\n",
    "    print(f\"Datos de entrenamiento: {X_train.shape}, {y_train.shape}\")\n",
    "    print(f\"Datos de prueba: {X_test.shape}, {y_test.shape}\")\n",
    "\n",
    "    return X_train, X_test, y_train, y_test, split_date"
   ],
   "id": "4eb44474f74b355c",
   "outputs": [],
   "execution_count": 98
  },
  {
   "metadata": {
    "ExecuteTime": {
     "end_time": "2025-07-16T01:48:03.274136Z",
     "start_time": "2025-07-16T01:48:03.268344Z"
    }
   },
   "cell_type": "code",
   "source": [
    "X_train, X_test, y_train, y_test, split_date = dividir_train_test_multivariado_v2(\n",
    "        X, y, df_encoded, meses_test=12)"
   ],
   "id": "83d032b6fefa19e9",
   "outputs": [
    {
     "name": "stdout",
     "output_type": "stream",
     "text": [
      "Datos de entrenamiento: (570, 14), (570, 1)\n",
      "Datos de prueba: (60, 14), (60, 1)\n"
     ]
    }
   ],
   "execution_count": 99
  },
  {
   "metadata": {},
   "cell_type": "markdown",
   "source": [
    "### 5. 📉 Escalado de datos\n",
    "\n",
    "Se normalizan las variables independientes y la variable objetivo usando `MinMaxScaler` para mejorar el entrenamiento del modelo.\n"
   ],
   "id": "c3a94f99998e5562"
  },
  {
   "metadata": {
    "ExecuteTime": {
     "end_time": "2025-07-16T01:48:07.479552Z",
     "start_time": "2025-07-16T01:48:07.472841Z"
    }
   },
   "cell_type": "code",
   "source": [
    "def escalar_datos_multivariado_v2(X_train, X_test, y_train, y_test):\n",
    "    \"\"\"\n",
    "    Escala features y target por separado\n",
    "    \"\"\"\n",
    "    # Escalar features\n",
    "    scaler_X = MinMaxScaler()\n",
    "    X_train_scaled = scaler_X.fit_transform(X_train)\n",
    "    X_test_scaled = scaler_X.transform(X_test)\n",
    "\n",
    "    # Escalar target\n",
    "    scaler_y = MinMaxScaler()\n",
    "    y_train_scaled = scaler_y.fit_transform(y_train)\n",
    "    y_test_scaled = scaler_y.transform(y_test)\n",
    "\n",
    "    return X_train_scaled, X_test_scaled, y_train_scaled, y_test_scaled, scaler_X, scaler_y"
   ],
   "id": "860a0eaf14946ad1",
   "outputs": [],
   "execution_count": 100
  },
  {
   "metadata": {
    "ExecuteTime": {
     "end_time": "2025-07-16T01:48:11.713090Z",
     "start_time": "2025-07-16T01:48:11.706097Z"
    }
   },
   "cell_type": "code",
   "source": [
    "X_train_scaled, X_test_scaled, y_train_scaled, y_test_scaled, scaler_X, scaler_y = escalar_datos_multivariado_v2(\n",
    "        X_train, X_test, y_train, y_test)"
   ],
   "id": "9091de4a6fd40302",
   "outputs": [],
   "execution_count": 101
  },
  {
   "metadata": {},
   "cell_type": "markdown",
   "source": [
    "### 6. ⏱ Creación de secuencias temporales\n",
    "\n",
    "Se construyen secuencias de 12 pasos (meses) para alimentar la red LSTM. Esto permite capturar patrones temporales a largo plazo.\n"
   ],
   "id": "33733cf2b7e25972"
  },
  {
   "metadata": {
    "ExecuteTime": {
     "end_time": "2025-07-16T01:48:15.916585Z",
     "start_time": "2025-07-16T01:48:15.911270Z"
    }
   },
   "cell_type": "code",
   "source": [
    "def crear_secuencias_multivariadas(X_scaled, y_scaled, length=12):\n",
    "    \"\"\"\n",
    "    Crea secuencias temporales para modelo multivariado\n",
    "    \"\"\"\n",
    "    X_sequences = []\n",
    "    y_sequences = []\n",
    "\n",
    "    for i in range(length, len(X_scaled)):\n",
    "        X_sequences.append(X_scaled[i-length:i])\n",
    "        y_sequences.append(y_scaled[i])\n",
    "\n",
    "    return np.array(X_sequences), np.array(y_sequences)"
   ],
   "id": "35c9b99cfdd84da3",
   "outputs": [],
   "execution_count": 102
  },
  {
   "metadata": {
    "ExecuteTime": {
     "end_time": "2025-07-16T01:48:20.957612Z",
     "start_time": "2025-07-16T01:48:20.950246Z"
    }
   },
   "cell_type": "code",
   "source": [
    "length = 12\n",
    "X_train_seq, y_train_seq = crear_secuencias_multivariadas(X_train_scaled, y_train_scaled, length)\n",
    "X_test_seq, y_test_seq = crear_secuencias_multivariadas(X_test_scaled, y_test_scaled, length)\n",
    "\n",
    "print(f\"Shape de secuencias de entrenamiento: {X_train_seq.shape}, {y_train_seq.shape}\")\n",
    "print(f\"Shape de secuencias de prueba: {X_test_seq.shape}, {y_test_seq.shape}\")"
   ],
   "id": "36508789634ab00f",
   "outputs": [
    {
     "name": "stdout",
     "output_type": "stream",
     "text": [
      "Shape de secuencias de entrenamiento: (558, 12, 14), (558, 1)\n",
      "Shape de secuencias de prueba: (48, 12, 14), (48, 1)\n"
     ]
    }
   ],
   "execution_count": 103
  },
  {
   "metadata": {},
   "cell_type": "markdown",
   "source": [
    "### 7. 🧠 Definición del modelo LSTM multivariado\n",
    "\n",
    "Se construye un modelo `Sequential` con capas LSTM bidireccionales, regularización, `Dropout`, y capas densas al final. Se compila con el optimizador `Adam`.\n"
   ],
   "id": "eadf0237c62d1c87"
  },
  {
   "metadata": {
    "ExecuteTime": {
     "end_time": "2025-07-16T01:48:25.510117Z",
     "start_time": "2025-07-16T01:48:25.502069Z"
    }
   },
   "cell_type": "code",
   "source": [
    "def crear_modelo_lstm_multivariado(input_shape, units=128, dropout_rate=0.2):\n",
    "    \"\"\"\n",
    "    Crea modelo LSTM multivariado que predice solo producción\n",
    "    \"\"\"\n",
    "    model = Sequential([\n",
    "        # Primera capa LSTM bidireccional\n",
    "        Bidirectional(LSTM(units, return_sequences=True, input_shape=input_shape)),\n",
    "        BatchNormalization(),\n",
    "        Dropout(dropout_rate),\n",
    "\n",
    "        # Segunda capa LSTM bidireccional\n",
    "        Bidirectional(LSTM(units//2, return_sequences=True)),\n",
    "        BatchNormalization(),\n",
    "        Dropout(dropout_rate),\n",
    "\n",
    "        # Tercera capa LSTM\n",
    "        LSTM(units//2, return_sequences=False),\n",
    "        BatchNormalization(),\n",
    "        Dropout(dropout_rate),\n",
    "\n",
    "        # Capas densas\n",
    "        Dense(50, activation='relu', kernel_regularizer=l1_l2(l1=0.01, l2=0.01)),\n",
    "        Dropout(dropout_rate),\n",
    "        Dense(25, activation='relu'),\n",
    "        Dense(1)  # Solo una salida: producción\n",
    "    ])\n",
    "\n",
    "    optimizer = Adam(learning_rate=0.001)\n",
    "    model.compile(optimizer=optimizer, loss='mse', metrics=['mae'])\n",
    "\n",
    "    return model"
   ],
   "id": "52e211cc32a38dab",
   "outputs": [],
   "execution_count": 104
  },
  {
   "metadata": {
    "ExecuteTime": {
     "end_time": "2025-07-16T01:48:32.178753Z",
     "start_time": "2025-07-16T01:48:32.116627Z"
    }
   },
   "cell_type": "code",
   "source": [
    "input_shape = (length, X_train_seq.shape[2])  # (timesteps, features)\n",
    "model = crear_modelo_lstm_multivariado(input_shape)\n",
    "\n",
    "print(f\"Input shape: {input_shape}\")\n",
    "model.summary()"
   ],
   "id": "a51ace8238feba46",
   "outputs": [
    {
     "name": "stdout",
     "output_type": "stream",
     "text": [
      "Input shape: (12, 14)\n"
     ]
    },
    {
     "data": {
      "text/plain": [
       "\u001B[1mModel: \"sequential_27\"\u001B[0m\n"
      ],
      "text/html": [
       "<pre style=\"white-space:pre;overflow-x:auto;line-height:normal;font-family:Menlo,'DejaVu Sans Mono',consolas,'Courier New',monospace\"><span style=\"font-weight: bold\">Model: \"sequential_27\"</span>\n",
       "</pre>\n"
      ]
     },
     "metadata": {},
     "output_type": "display_data"
    },
    {
     "data": {
      "text/plain": [
       "┏━━━━━━━━━━━━━━━━━━━━━━━━━━━━━━━━━┳━━━━━━━━━━━━━━━━━━━━━━━━┳━━━━━━━━━━━━━━━┓\n",
       "┃\u001B[1m \u001B[0m\u001B[1mLayer (type)                   \u001B[0m\u001B[1m \u001B[0m┃\u001B[1m \u001B[0m\u001B[1mOutput Shape          \u001B[0m\u001B[1m \u001B[0m┃\u001B[1m \u001B[0m\u001B[1m      Param #\u001B[0m\u001B[1m \u001B[0m┃\n",
       "┡━━━━━━━━━━━━━━━━━━━━━━━━━━━━━━━━━╇━━━━━━━━━━━━━━━━━━━━━━━━╇━━━━━━━━━━━━━━━┩\n",
       "│ bidirectional_54                │ ?                      │   \u001B[38;5;34m0\u001B[0m (unbuilt) │\n",
       "│ (\u001B[38;5;33mBidirectional\u001B[0m)                 │                        │               │\n",
       "├─────────────────────────────────┼────────────────────────┼───────────────┤\n",
       "│ batch_normalization_81          │ ?                      │   \u001B[38;5;34m0\u001B[0m (unbuilt) │\n",
       "│ (\u001B[38;5;33mBatchNormalization\u001B[0m)            │                        │               │\n",
       "├─────────────────────────────────┼────────────────────────┼───────────────┤\n",
       "│ dropout_108 (\u001B[38;5;33mDropout\u001B[0m)           │ ?                      │             \u001B[38;5;34m0\u001B[0m │\n",
       "├─────────────────────────────────┼────────────────────────┼───────────────┤\n",
       "│ bidirectional_55                │ ?                      │   \u001B[38;5;34m0\u001B[0m (unbuilt) │\n",
       "│ (\u001B[38;5;33mBidirectional\u001B[0m)                 │                        │               │\n",
       "├─────────────────────────────────┼────────────────────────┼───────────────┤\n",
       "│ batch_normalization_82          │ ?                      │   \u001B[38;5;34m0\u001B[0m (unbuilt) │\n",
       "│ (\u001B[38;5;33mBatchNormalization\u001B[0m)            │                        │               │\n",
       "├─────────────────────────────────┼────────────────────────┼───────────────┤\n",
       "│ dropout_109 (\u001B[38;5;33mDropout\u001B[0m)           │ ?                      │             \u001B[38;5;34m0\u001B[0m │\n",
       "├─────────────────────────────────┼────────────────────────┼───────────────┤\n",
       "│ lstm_83 (\u001B[38;5;33mLSTM\u001B[0m)                  │ ?                      │   \u001B[38;5;34m0\u001B[0m (unbuilt) │\n",
       "├─────────────────────────────────┼────────────────────────┼───────────────┤\n",
       "│ batch_normalization_83          │ ?                      │   \u001B[38;5;34m0\u001B[0m (unbuilt) │\n",
       "│ (\u001B[38;5;33mBatchNormalization\u001B[0m)            │                        │               │\n",
       "├─────────────────────────────────┼────────────────────────┼───────────────┤\n",
       "│ dropout_110 (\u001B[38;5;33mDropout\u001B[0m)           │ ?                      │             \u001B[38;5;34m0\u001B[0m │\n",
       "├─────────────────────────────────┼────────────────────────┼───────────────┤\n",
       "│ dense_81 (\u001B[38;5;33mDense\u001B[0m)                │ ?                      │   \u001B[38;5;34m0\u001B[0m (unbuilt) │\n",
       "├─────────────────────────────────┼────────────────────────┼───────────────┤\n",
       "│ dropout_111 (\u001B[38;5;33mDropout\u001B[0m)           │ ?                      │             \u001B[38;5;34m0\u001B[0m │\n",
       "├─────────────────────────────────┼────────────────────────┼───────────────┤\n",
       "│ dense_82 (\u001B[38;5;33mDense\u001B[0m)                │ ?                      │   \u001B[38;5;34m0\u001B[0m (unbuilt) │\n",
       "├─────────────────────────────────┼────────────────────────┼───────────────┤\n",
       "│ dense_83 (\u001B[38;5;33mDense\u001B[0m)                │ ?                      │   \u001B[38;5;34m0\u001B[0m (unbuilt) │\n",
       "└─────────────────────────────────┴────────────────────────┴───────────────┘\n"
      ],
      "text/html": [
       "<pre style=\"white-space:pre;overflow-x:auto;line-height:normal;font-family:Menlo,'DejaVu Sans Mono',consolas,'Courier New',monospace\">┏━━━━━━━━━━━━━━━━━━━━━━━━━━━━━━━━━┳━━━━━━━━━━━━━━━━━━━━━━━━┳━━━━━━━━━━━━━━━┓\n",
       "┃<span style=\"font-weight: bold\"> Layer (type)                    </span>┃<span style=\"font-weight: bold\"> Output Shape           </span>┃<span style=\"font-weight: bold\">       Param # </span>┃\n",
       "┡━━━━━━━━━━━━━━━━━━━━━━━━━━━━━━━━━╇━━━━━━━━━━━━━━━━━━━━━━━━╇━━━━━━━━━━━━━━━┩\n",
       "│ bidirectional_54                │ ?                      │   <span style=\"color: #00af00; text-decoration-color: #00af00\">0</span> (unbuilt) │\n",
       "│ (<span style=\"color: #0087ff; text-decoration-color: #0087ff\">Bidirectional</span>)                 │                        │               │\n",
       "├─────────────────────────────────┼────────────────────────┼───────────────┤\n",
       "│ batch_normalization_81          │ ?                      │   <span style=\"color: #00af00; text-decoration-color: #00af00\">0</span> (unbuilt) │\n",
       "│ (<span style=\"color: #0087ff; text-decoration-color: #0087ff\">BatchNormalization</span>)            │                        │               │\n",
       "├─────────────────────────────────┼────────────────────────┼───────────────┤\n",
       "│ dropout_108 (<span style=\"color: #0087ff; text-decoration-color: #0087ff\">Dropout</span>)           │ ?                      │             <span style=\"color: #00af00; text-decoration-color: #00af00\">0</span> │\n",
       "├─────────────────────────────────┼────────────────────────┼───────────────┤\n",
       "│ bidirectional_55                │ ?                      │   <span style=\"color: #00af00; text-decoration-color: #00af00\">0</span> (unbuilt) │\n",
       "│ (<span style=\"color: #0087ff; text-decoration-color: #0087ff\">Bidirectional</span>)                 │                        │               │\n",
       "├─────────────────────────────────┼────────────────────────┼───────────────┤\n",
       "│ batch_normalization_82          │ ?                      │   <span style=\"color: #00af00; text-decoration-color: #00af00\">0</span> (unbuilt) │\n",
       "│ (<span style=\"color: #0087ff; text-decoration-color: #0087ff\">BatchNormalization</span>)            │                        │               │\n",
       "├─────────────────────────────────┼────────────────────────┼───────────────┤\n",
       "│ dropout_109 (<span style=\"color: #0087ff; text-decoration-color: #0087ff\">Dropout</span>)           │ ?                      │             <span style=\"color: #00af00; text-decoration-color: #00af00\">0</span> │\n",
       "├─────────────────────────────────┼────────────────────────┼───────────────┤\n",
       "│ lstm_83 (<span style=\"color: #0087ff; text-decoration-color: #0087ff\">LSTM</span>)                  │ ?                      │   <span style=\"color: #00af00; text-decoration-color: #00af00\">0</span> (unbuilt) │\n",
       "├─────────────────────────────────┼────────────────────────┼───────────────┤\n",
       "│ batch_normalization_83          │ ?                      │   <span style=\"color: #00af00; text-decoration-color: #00af00\">0</span> (unbuilt) │\n",
       "│ (<span style=\"color: #0087ff; text-decoration-color: #0087ff\">BatchNormalization</span>)            │                        │               │\n",
       "├─────────────────────────────────┼────────────────────────┼───────────────┤\n",
       "│ dropout_110 (<span style=\"color: #0087ff; text-decoration-color: #0087ff\">Dropout</span>)           │ ?                      │             <span style=\"color: #00af00; text-decoration-color: #00af00\">0</span> │\n",
       "├─────────────────────────────────┼────────────────────────┼───────────────┤\n",
       "│ dense_81 (<span style=\"color: #0087ff; text-decoration-color: #0087ff\">Dense</span>)                │ ?                      │   <span style=\"color: #00af00; text-decoration-color: #00af00\">0</span> (unbuilt) │\n",
       "├─────────────────────────────────┼────────────────────────┼───────────────┤\n",
       "│ dropout_111 (<span style=\"color: #0087ff; text-decoration-color: #0087ff\">Dropout</span>)           │ ?                      │             <span style=\"color: #00af00; text-decoration-color: #00af00\">0</span> │\n",
       "├─────────────────────────────────┼────────────────────────┼───────────────┤\n",
       "│ dense_82 (<span style=\"color: #0087ff; text-decoration-color: #0087ff\">Dense</span>)                │ ?                      │   <span style=\"color: #00af00; text-decoration-color: #00af00\">0</span> (unbuilt) │\n",
       "├─────────────────────────────────┼────────────────────────┼───────────────┤\n",
       "│ dense_83 (<span style=\"color: #0087ff; text-decoration-color: #0087ff\">Dense</span>)                │ ?                      │   <span style=\"color: #00af00; text-decoration-color: #00af00\">0</span> (unbuilt) │\n",
       "└─────────────────────────────────┴────────────────────────┴───────────────┘\n",
       "</pre>\n"
      ]
     },
     "metadata": {},
     "output_type": "display_data"
    },
    {
     "data": {
      "text/plain": [
       "\u001B[1m Total params: \u001B[0m\u001B[38;5;34m0\u001B[0m (0.00 B)\n"
      ],
      "text/html": [
       "<pre style=\"white-space:pre;overflow-x:auto;line-height:normal;font-family:Menlo,'DejaVu Sans Mono',consolas,'Courier New',monospace\"><span style=\"font-weight: bold\"> Total params: </span><span style=\"color: #00af00; text-decoration-color: #00af00\">0</span> (0.00 B)\n",
       "</pre>\n"
      ]
     },
     "metadata": {},
     "output_type": "display_data"
    },
    {
     "data": {
      "text/plain": [
       "\u001B[1m Trainable params: \u001B[0m\u001B[38;5;34m0\u001B[0m (0.00 B)\n"
      ],
      "text/html": [
       "<pre style=\"white-space:pre;overflow-x:auto;line-height:normal;font-family:Menlo,'DejaVu Sans Mono',consolas,'Courier New',monospace\"><span style=\"font-weight: bold\"> Trainable params: </span><span style=\"color: #00af00; text-decoration-color: #00af00\">0</span> (0.00 B)\n",
       "</pre>\n"
      ]
     },
     "metadata": {},
     "output_type": "display_data"
    },
    {
     "data": {
      "text/plain": [
       "\u001B[1m Non-trainable params: \u001B[0m\u001B[38;5;34m0\u001B[0m (0.00 B)\n"
      ],
      "text/html": [
       "<pre style=\"white-space:pre;overflow-x:auto;line-height:normal;font-family:Menlo,'DejaVu Sans Mono',consolas,'Courier New',monospace\"><span style=\"font-weight: bold\"> Non-trainable params: </span><span style=\"color: #00af00; text-decoration-color: #00af00\">0</span> (0.00 B)\n",
       "</pre>\n"
      ]
     },
     "metadata": {},
     "output_type": "display_data"
    }
   ],
   "execution_count": 105
  },
  {
   "metadata": {},
   "cell_type": "markdown",
   "source": [
    "### 8. 🚂 Entrenamiento del modelo\n",
    "\n",
    "Se entrena el modelo con `EarlyStopping` para evitar sobreajuste, monitoreando la pérdida de validación.\n",
    "\n"
   ],
   "id": "55ba917189a54690"
  },
  {
   "metadata": {
    "ExecuteTime": {
     "end_time": "2025-07-16T01:48:41.187104Z",
     "start_time": "2025-07-16T01:48:41.181089Z"
    }
   },
   "cell_type": "code",
   "source": [
    "def entrenar_modelo_multivariado(model, X_train_seq, y_train_seq, X_test_seq, y_test_seq,\n",
    "                                epochs=150, batch_size=32, patience=20):\n",
    "    \"\"\"\n",
    "    Entrena el modelo multivariado\n",
    "    \"\"\"\n",
    "    early_stopping = EarlyStopping(\n",
    "        monitor='val_loss',\n",
    "        patience=patience,\n",
    "        restore_best_weights=True\n",
    "    )\n",
    "\n",
    "    history = model.fit(\n",
    "        X_train_seq, y_train_seq,\n",
    "        validation_data=(X_test_seq, y_test_seq),\n",
    "        epochs=epochs,\n",
    "        batch_size=batch_size,\n",
    "        #callbacks=[early_stopping],\n",
    "        verbose=1\n",
    "    )\n",
    "\n",
    "    return history"
   ],
   "id": "de2502521636527a",
   "outputs": [],
   "execution_count": 106
  },
  {
   "metadata": {
    "ExecuteTime": {
     "end_time": "2025-07-16T01:48:45.215709Z",
     "start_time": "2025-07-16T01:48:45.210624Z"
    }
   },
   "cell_type": "code",
   "source": "y = np.log1p(df_encoded['produccion'].values.reshape(-1, 1))\n",
   "id": "d5be24ff795641ae",
   "outputs": [],
   "execution_count": 107
  },
  {
   "metadata": {
    "ExecuteTime": {
     "end_time": "2025-07-16T01:49:58.013854Z",
     "start_time": "2025-07-16T01:48:46.639275Z"
    }
   },
   "cell_type": "code",
   "source": [
    "history = entrenar_modelo_multivariado(\n",
    "        model, X_train_seq, y_train_seq, X_test_seq, y_test_seq\n",
    "    )"
   ],
   "id": "ad3d810398504d82",
   "outputs": [
    {
     "name": "stdout",
     "output_type": "stream",
     "text": [
      "Epoch 1/150\n",
      "\u001B[1m18/18\u001B[0m \u001B[32m━━━━━━━━━━━━━━━━━━━━\u001B[0m\u001B[37m\u001B[0m \u001B[1m8s\u001B[0m 61ms/step - loss: 5.2508 - mae: 0.7801 - val_loss: 4.0988 - val_mae: 0.2074\n",
      "Epoch 2/150\n",
      "\u001B[1m18/18\u001B[0m \u001B[32m━━━━━━━━━━━━━━━━━━━━\u001B[0m\u001B[37m\u001B[0m \u001B[1m0s\u001B[0m 23ms/step - loss: 4.2332 - mae: 0.4354 - val_loss: 3.8324 - val_mae: 0.2037\n",
      "Epoch 3/150\n",
      "\u001B[1m18/18\u001B[0m \u001B[32m━━━━━━━━━━━━━━━━━━━━\u001B[0m\u001B[37m\u001B[0m \u001B[1m0s\u001B[0m 22ms/step - loss: 3.8186 - mae: 0.3084 - val_loss: 3.5411 - val_mae: 0.2052\n",
      "Epoch 4/150\n",
      "\u001B[1m18/18\u001B[0m \u001B[32m━━━━━━━━━━━━━━━━━━━━\u001B[0m\u001B[37m\u001B[0m \u001B[1m0s\u001B[0m 22ms/step - loss: 3.5047 - mae: 0.2833 - val_loss: 3.2536 - val_mae: 0.2080\n",
      "Epoch 5/150\n",
      "\u001B[1m18/18\u001B[0m \u001B[32m━━━━━━━━━━━━━━━━━━━━\u001B[0m\u001B[37m\u001B[0m \u001B[1m0s\u001B[0m 22ms/step - loss: 3.1808 - mae: 0.2564 - val_loss: 2.9567 - val_mae: 0.2090\n",
      "Epoch 6/150\n",
      "\u001B[1m18/18\u001B[0m \u001B[32m━━━━━━━━━━━━━━━━━━━━\u001B[0m\u001B[37m\u001B[0m \u001B[1m0s\u001B[0m 22ms/step - loss: 2.8676 - mae: 0.2280 - val_loss: 2.6634 - val_mae: 0.2097\n",
      "Epoch 7/150\n",
      "\u001B[1m18/18\u001B[0m \u001B[32m━━━━━━━━━━━━━━━━━━━━\u001B[0m\u001B[37m\u001B[0m \u001B[1m0s\u001B[0m 23ms/step - loss: 2.5769 - mae: 0.2271 - val_loss: 2.3753 - val_mae: 0.2088\n",
      "Epoch 8/150\n",
      "\u001B[1m18/18\u001B[0m \u001B[32m━━━━━━━━━━━━━━━━━━━━\u001B[0m\u001B[37m\u001B[0m \u001B[1m0s\u001B[0m 23ms/step - loss: 2.2856 - mae: 0.2122 - val_loss: 2.1043 - val_mae: 0.2094\n",
      "Epoch 9/150\n",
      "\u001B[1m18/18\u001B[0m \u001B[32m━━━━━━━━━━━━━━━━━━━━\u001B[0m\u001B[37m\u001B[0m \u001B[1m0s\u001B[0m 23ms/step - loss: 2.0166 - mae: 0.2049 - val_loss: 1.8471 - val_mae: 0.2116\n",
      "Epoch 10/150\n",
      "\u001B[1m18/18\u001B[0m \u001B[32m━━━━━━━━━━━━━━━━━━━━\u001B[0m\u001B[37m\u001B[0m \u001B[1m0s\u001B[0m 23ms/step - loss: 1.7553 - mae: 0.1905 - val_loss: 1.6028 - val_mae: 0.2156\n",
      "Epoch 11/150\n",
      "\u001B[1m18/18\u001B[0m \u001B[32m━━━━━━━━━━━━━━━━━━━━\u001B[0m\u001B[37m\u001B[0m \u001B[1m0s\u001B[0m 23ms/step - loss: 1.5211 - mae: 0.1921 - val_loss: 1.3780 - val_mae: 0.2167\n",
      "Epoch 12/150\n",
      "\u001B[1m18/18\u001B[0m \u001B[32m━━━━━━━━━━━━━━━━━━━━\u001B[0m\u001B[37m\u001B[0m \u001B[1m0s\u001B[0m 22ms/step - loss: 1.3009 - mae: 0.1840 - val_loss: 1.1742 - val_mae: 0.2197\n",
      "Epoch 13/150\n",
      "\u001B[1m18/18\u001B[0m \u001B[32m━━━━━━━━━━━━━━━━━━━━\u001B[0m\u001B[37m\u001B[0m \u001B[1m0s\u001B[0m 23ms/step - loss: 1.0974 - mae: 0.1802 - val_loss: 0.9877 - val_mae: 0.2201\n",
      "Epoch 14/150\n",
      "\u001B[1m18/18\u001B[0m \u001B[32m━━━━━━━━━━━━━━━━━━━━\u001B[0m\u001B[37m\u001B[0m \u001B[1m0s\u001B[0m 22ms/step - loss: 0.9151 - mae: 0.1739 - val_loss: 0.8191 - val_mae: 0.2153\n",
      "Epoch 15/150\n",
      "\u001B[1m18/18\u001B[0m \u001B[32m━━━━━━━━━━━━━━━━━━━━\u001B[0m\u001B[37m\u001B[0m \u001B[1m0s\u001B[0m 22ms/step - loss: 0.7515 - mae: 0.1668 - val_loss: 0.6706 - val_mae: 0.2199\n",
      "Epoch 16/150\n",
      "\u001B[1m18/18\u001B[0m \u001B[32m━━━━━━━━━━━━━━━━━━━━\u001B[0m\u001B[37m\u001B[0m \u001B[1m0s\u001B[0m 23ms/step - loss: 0.6148 - mae: 0.1727 - val_loss: 0.5438 - val_mae: 0.2255\n",
      "Epoch 17/150\n",
      "\u001B[1m18/18\u001B[0m \u001B[32m━━━━━━━━━━━━━━━━━━━━\u001B[0m\u001B[37m\u001B[0m \u001B[1m0s\u001B[0m 22ms/step - loss: 0.4815 - mae: 0.1539 - val_loss: 0.4345 - val_mae: 0.2247\n",
      "Epoch 18/150\n",
      "\u001B[1m18/18\u001B[0m \u001B[32m━━━━━━━━━━━━━━━━━━━━\u001B[0m\u001B[37m\u001B[0m \u001B[1m0s\u001B[0m 22ms/step - loss: 0.3788 - mae: 0.1538 - val_loss: 0.3485 - val_mae: 0.2278\n",
      "Epoch 19/150\n",
      "\u001B[1m18/18\u001B[0m \u001B[32m━━━━━━━━━━━━━━━━━━━━\u001B[0m\u001B[37m\u001B[0m \u001B[1m0s\u001B[0m 23ms/step - loss: 0.2967 - mae: 0.1555 - val_loss: 0.2792 - val_mae: 0.2346\n",
      "Epoch 20/150\n",
      "\u001B[1m18/18\u001B[0m \u001B[32m━━━━━━━━━━━━━━━━━━━━\u001B[0m\u001B[37m\u001B[0m \u001B[1m0s\u001B[0m 22ms/step - loss: 0.2299 - mae: 0.1580 - val_loss: 0.2248 - val_mae: 0.2389\n",
      "Epoch 21/150\n",
      "\u001B[1m18/18\u001B[0m \u001B[32m━━━━━━━━━━━━━━━━━━━━\u001B[0m\u001B[37m\u001B[0m \u001B[1m0s\u001B[0m 22ms/step - loss: 0.1787 - mae: 0.1551 - val_loss: 0.1849 - val_mae: 0.2414\n",
      "Epoch 22/150\n",
      "\u001B[1m18/18\u001B[0m \u001B[32m━━━━━━━━━━━━━━━━━━━━\u001B[0m\u001B[37m\u001B[0m \u001B[1m0s\u001B[0m 22ms/step - loss: 0.1417 - mae: 0.1585 - val_loss: 0.1560 - val_mae: 0.2442\n",
      "Epoch 23/150\n",
      "\u001B[1m18/18\u001B[0m \u001B[32m━━━━━━━━━━━━━━━━━━━━\u001B[0m\u001B[37m\u001B[0m \u001B[1m0s\u001B[0m 22ms/step - loss: 0.1095 - mae: 0.1491 - val_loss: 0.1345 - val_mae: 0.2432\n",
      "Epoch 24/150\n",
      "\u001B[1m18/18\u001B[0m \u001B[32m━━━━━━━━━━━━━━━━━━━━\u001B[0m\u001B[37m\u001B[0m \u001B[1m0s\u001B[0m 22ms/step - loss: 0.0946 - mae: 0.1530 - val_loss: 0.1191 - val_mae: 0.2455\n",
      "Epoch 25/150\n",
      "\u001B[1m18/18\u001B[0m \u001B[32m━━━━━━━━━━━━━━━━━━━━\u001B[0m\u001B[37m\u001B[0m \u001B[1m0s\u001B[0m 22ms/step - loss: 0.0818 - mae: 0.1571 - val_loss: 0.1099 - val_mae: 0.2459\n",
      "Epoch 26/150\n",
      "\u001B[1m18/18\u001B[0m \u001B[32m━━━━━━━━━━━━━━━━━━━━\u001B[0m\u001B[37m\u001B[0m \u001B[1m0s\u001B[0m 22ms/step - loss: 0.0731 - mae: 0.1540 - val_loss: 0.1017 - val_mae: 0.2426\n",
      "Epoch 27/150\n",
      "\u001B[1m18/18\u001B[0m \u001B[32m━━━━━━━━━━━━━━━━━━━━\u001B[0m\u001B[37m\u001B[0m \u001B[1m0s\u001B[0m 22ms/step - loss: 0.0606 - mae: 0.1431 - val_loss: 0.0976 - val_mae: 0.2395\n",
      "Epoch 28/150\n",
      "\u001B[1m18/18\u001B[0m \u001B[32m━━━━━━━━━━━━━━━━━━━━\u001B[0m\u001B[37m\u001B[0m \u001B[1m0s\u001B[0m 25ms/step - loss: 0.0627 - mae: 0.1508 - val_loss: 0.0952 - val_mae: 0.2431\n",
      "Epoch 29/150\n",
      "\u001B[1m18/18\u001B[0m \u001B[32m━━━━━━━━━━━━━━━━━━━━\u001B[0m\u001B[37m\u001B[0m \u001B[1m0s\u001B[0m 23ms/step - loss: 0.0589 - mae: 0.1480 - val_loss: 0.0976 - val_mae: 0.2448\n",
      "Epoch 30/150\n",
      "\u001B[1m18/18\u001B[0m \u001B[32m━━━━━━━━━━━━━━━━━━━━\u001B[0m\u001B[37m\u001B[0m \u001B[1m0s\u001B[0m 22ms/step - loss: 0.0584 - mae: 0.1477 - val_loss: 0.0911 - val_mae: 0.2436\n",
      "Epoch 31/150\n",
      "\u001B[1m18/18\u001B[0m \u001B[32m━━━━━━━━━━━━━━━━━━━━\u001B[0m\u001B[37m\u001B[0m \u001B[1m0s\u001B[0m 22ms/step - loss: 0.0535 - mae: 0.1494 - val_loss: 0.0889 - val_mae: 0.2380\n",
      "Epoch 32/150\n",
      "\u001B[1m18/18\u001B[0m \u001B[32m━━━━━━━━━━━━━━━━━━━━\u001B[0m\u001B[37m\u001B[0m \u001B[1m0s\u001B[0m 22ms/step - loss: 0.0551 - mae: 0.1563 - val_loss: 0.0875 - val_mae: 0.2399\n",
      "Epoch 33/150\n",
      "\u001B[1m18/18\u001B[0m \u001B[32m━━━━━━━━━━━━━━━━━━━━\u001B[0m\u001B[37m\u001B[0m \u001B[1m0s\u001B[0m 22ms/step - loss: 0.0546 - mae: 0.1558 - val_loss: 0.0859 - val_mae: 0.2358\n",
      "Epoch 34/150\n",
      "\u001B[1m18/18\u001B[0m \u001B[32m━━━━━━━━━━━━━━━━━━━━\u001B[0m\u001B[37m\u001B[0m \u001B[1m0s\u001B[0m 22ms/step - loss: 0.0522 - mae: 0.1454 - val_loss: 0.0874 - val_mae: 0.2334\n",
      "Epoch 35/150\n",
      "\u001B[1m18/18\u001B[0m \u001B[32m━━━━━━━━━━━━━━━━━━━━\u001B[0m\u001B[37m\u001B[0m \u001B[1m0s\u001B[0m 22ms/step - loss: 0.0514 - mae: 0.1431 - val_loss: 0.0847 - val_mae: 0.2312\n",
      "Epoch 36/150\n",
      "\u001B[1m18/18\u001B[0m \u001B[32m━━━━━━━━━━━━━━━━━━━━\u001B[0m\u001B[37m\u001B[0m \u001B[1m0s\u001B[0m 22ms/step - loss: 0.0446 - mae: 0.1362 - val_loss: 0.0841 - val_mae: 0.2228\n",
      "Epoch 37/150\n",
      "\u001B[1m18/18\u001B[0m \u001B[32m━━━━━━━━━━━━━━━━━━━━\u001B[0m\u001B[37m\u001B[0m \u001B[1m0s\u001B[0m 22ms/step - loss: 0.0472 - mae: 0.1372 - val_loss: 0.0845 - val_mae: 0.2217\n",
      "Epoch 38/150\n",
      "\u001B[1m18/18\u001B[0m \u001B[32m━━━━━━━━━━━━━━━━━━━━\u001B[0m\u001B[37m\u001B[0m \u001B[1m0s\u001B[0m 22ms/step - loss: 0.0474 - mae: 0.1439 - val_loss: 0.0838 - val_mae: 0.2163\n",
      "Epoch 39/150\n",
      "\u001B[1m18/18\u001B[0m \u001B[32m━━━━━━━━━━━━━━━━━━━━\u001B[0m\u001B[37m\u001B[0m \u001B[1m0s\u001B[0m 22ms/step - loss: 0.0489 - mae: 0.1415 - val_loss: 0.0856 - val_mae: 0.2246\n",
      "Epoch 40/150\n",
      "\u001B[1m18/18\u001B[0m \u001B[32m━━━━━━━━━━━━━━━━━━━━\u001B[0m\u001B[37m\u001B[0m \u001B[1m0s\u001B[0m 22ms/step - loss: 0.0497 - mae: 0.1458 - val_loss: 0.0846 - val_mae: 0.2122\n",
      "Epoch 41/150\n",
      "\u001B[1m18/18\u001B[0m \u001B[32m━━━━━━━━━━━━━━━━━━━━\u001B[0m\u001B[37m\u001B[0m \u001B[1m0s\u001B[0m 22ms/step - loss: 0.0479 - mae: 0.1358 - val_loss: 0.0835 - val_mae: 0.2137\n",
      "Epoch 42/150\n",
      "\u001B[1m18/18\u001B[0m \u001B[32m━━━━━━━━━━━━━━━━━━━━\u001B[0m\u001B[37m\u001B[0m \u001B[1m0s\u001B[0m 22ms/step - loss: 0.0492 - mae: 0.1378 - val_loss: 0.0832 - val_mae: 0.2183\n",
      "Epoch 43/150\n",
      "\u001B[1m18/18\u001B[0m \u001B[32m━━━━━━━━━━━━━━━━━━━━\u001B[0m\u001B[37m\u001B[0m \u001B[1m0s\u001B[0m 21ms/step - loss: 0.0486 - mae: 0.1448 - val_loss: 0.0847 - val_mae: 0.2149\n",
      "Epoch 44/150\n",
      "\u001B[1m18/18\u001B[0m \u001B[32m━━━━━━━━━━━━━━━━━━━━\u001B[0m\u001B[37m\u001B[0m \u001B[1m0s\u001B[0m 22ms/step - loss: 0.0452 - mae: 0.1372 - val_loss: 0.0879 - val_mae: 0.2188\n",
      "Epoch 45/150\n",
      "\u001B[1m18/18\u001B[0m \u001B[32m━━━━━━━━━━━━━━━━━━━━\u001B[0m\u001B[37m\u001B[0m \u001B[1m0s\u001B[0m 22ms/step - loss: 0.0460 - mae: 0.1387 - val_loss: 0.0830 - val_mae: 0.2113\n",
      "Epoch 46/150\n",
      "\u001B[1m18/18\u001B[0m \u001B[32m━━━━━━━━━━━━━━━━━━━━\u001B[0m\u001B[37m\u001B[0m \u001B[1m0s\u001B[0m 22ms/step - loss: 0.0461 - mae: 0.1372 - val_loss: 0.0804 - val_mae: 0.2149\n",
      "Epoch 47/150\n",
      "\u001B[1m18/18\u001B[0m \u001B[32m━━━━━━━━━━━━━━━━━━━━\u001B[0m\u001B[37m\u001B[0m \u001B[1m0s\u001B[0m 22ms/step - loss: 0.0445 - mae: 0.1368 - val_loss: 0.0859 - val_mae: 0.2124\n",
      "Epoch 48/150\n",
      "\u001B[1m18/18\u001B[0m \u001B[32m━━━━━━━━━━━━━━━━━━━━\u001B[0m\u001B[37m\u001B[0m \u001B[1m0s\u001B[0m 22ms/step - loss: 0.0469 - mae: 0.1405 - val_loss: 0.0900 - val_mae: 0.2264\n",
      "Epoch 49/150\n",
      "\u001B[1m18/18\u001B[0m \u001B[32m━━━━━━━━━━━━━━━━━━━━\u001B[0m\u001B[37m\u001B[0m \u001B[1m0s\u001B[0m 21ms/step - loss: 0.0448 - mae: 0.1362 - val_loss: 0.0818 - val_mae: 0.2202\n",
      "Epoch 50/150\n",
      "\u001B[1m18/18\u001B[0m \u001B[32m━━━━━━━━━━━━━━━━━━━━\u001B[0m\u001B[37m\u001B[0m \u001B[1m0s\u001B[0m 22ms/step - loss: 0.0507 - mae: 0.1462 - val_loss: 0.0818 - val_mae: 0.2109\n",
      "Epoch 51/150\n",
      "\u001B[1m18/18\u001B[0m \u001B[32m━━━━━━━━━━━━━━━━━━━━\u001B[0m\u001B[37m\u001B[0m \u001B[1m0s\u001B[0m 22ms/step - loss: 0.0430 - mae: 0.1323 - val_loss: 0.0895 - val_mae: 0.2140\n",
      "Epoch 52/150\n",
      "\u001B[1m18/18\u001B[0m \u001B[32m━━━━━━━━━━━━━━━━━━━━\u001B[0m\u001B[37m\u001B[0m \u001B[1m0s\u001B[0m 21ms/step - loss: 0.0427 - mae: 0.1286 - val_loss: 0.0805 - val_mae: 0.1976\n",
      "Epoch 53/150\n",
      "\u001B[1m18/18\u001B[0m \u001B[32m━━━━━━━━━━━━━━━━━━━━\u001B[0m\u001B[37m\u001B[0m \u001B[1m0s\u001B[0m 22ms/step - loss: 0.0450 - mae: 0.1335 - val_loss: 0.0838 - val_mae: 0.2106\n",
      "Epoch 54/150\n",
      "\u001B[1m18/18\u001B[0m \u001B[32m━━━━━━━━━━━━━━━━━━━━\u001B[0m\u001B[37m\u001B[0m \u001B[1m0s\u001B[0m 22ms/step - loss: 0.0434 - mae: 0.1365 - val_loss: 0.0848 - val_mae: 0.2114\n",
      "Epoch 55/150\n",
      "\u001B[1m18/18\u001B[0m \u001B[32m━━━━━━━━━━━━━━━━━━━━\u001B[0m\u001B[37m\u001B[0m \u001B[1m0s\u001B[0m 22ms/step - loss: 0.0460 - mae: 0.1397 - val_loss: 0.0876 - val_mae: 0.2150\n",
      "Epoch 56/150\n",
      "\u001B[1m18/18\u001B[0m \u001B[32m━━━━━━━━━━━━━━━━━━━━\u001B[0m\u001B[37m\u001B[0m \u001B[1m0s\u001B[0m 22ms/step - loss: 0.0444 - mae: 0.1344 - val_loss: 0.0947 - val_mae: 0.2273\n",
      "Epoch 57/150\n",
      "\u001B[1m18/18\u001B[0m \u001B[32m━━━━━━━━━━━━━━━━━━━━\u001B[0m\u001B[37m\u001B[0m \u001B[1m0s\u001B[0m 21ms/step - loss: 0.0469 - mae: 0.1391 - val_loss: 0.0869 - val_mae: 0.2153\n",
      "Epoch 58/150\n",
      "\u001B[1m18/18\u001B[0m \u001B[32m━━━━━━━━━━━━━━━━━━━━\u001B[0m\u001B[37m\u001B[0m \u001B[1m0s\u001B[0m 21ms/step - loss: 0.0446 - mae: 0.1298 - val_loss: 0.0919 - val_mae: 0.2164\n",
      "Epoch 59/150\n",
      "\u001B[1m18/18\u001B[0m \u001B[32m━━━━━━━━━━━━━━━━━━━━\u001B[0m\u001B[37m\u001B[0m \u001B[1m0s\u001B[0m 22ms/step - loss: 0.0459 - mae: 0.1403 - val_loss: 0.0884 - val_mae: 0.2235\n",
      "Epoch 60/150\n",
      "\u001B[1m18/18\u001B[0m \u001B[32m━━━━━━━━━━━━━━━━━━━━\u001B[0m\u001B[37m\u001B[0m \u001B[1m0s\u001B[0m 21ms/step - loss: 0.0380 - mae: 0.1205 - val_loss: 0.0906 - val_mae: 0.2198\n",
      "Epoch 61/150\n",
      "\u001B[1m18/18\u001B[0m \u001B[32m━━━━━━━━━━━━━━━━━━━━\u001B[0m\u001B[37m\u001B[0m \u001B[1m0s\u001B[0m 22ms/step - loss: 0.0441 - mae: 0.1361 - val_loss: 0.0772 - val_mae: 0.1940\n",
      "Epoch 62/150\n",
      "\u001B[1m18/18\u001B[0m \u001B[32m━━━━━━━━━━━━━━━━━━━━\u001B[0m\u001B[37m\u001B[0m \u001B[1m0s\u001B[0m 21ms/step - loss: 0.0442 - mae: 0.1289 - val_loss: 0.0902 - val_mae: 0.2106\n",
      "Epoch 63/150\n",
      "\u001B[1m18/18\u001B[0m \u001B[32m━━━━━━━━━━━━━━━━━━━━\u001B[0m\u001B[37m\u001B[0m \u001B[1m0s\u001B[0m 22ms/step - loss: 0.0415 - mae: 0.1268 - val_loss: 0.0820 - val_mae: 0.1923\n",
      "Epoch 64/150\n",
      "\u001B[1m18/18\u001B[0m \u001B[32m━━━━━━━━━━━━━━━━━━━━\u001B[0m\u001B[37m\u001B[0m \u001B[1m0s\u001B[0m 21ms/step - loss: 0.0452 - mae: 0.1321 - val_loss: 0.0866 - val_mae: 0.2085\n",
      "Epoch 65/150\n",
      "\u001B[1m18/18\u001B[0m \u001B[32m━━━━━━━━━━━━━━━━━━━━\u001B[0m\u001B[37m\u001B[0m \u001B[1m0s\u001B[0m 22ms/step - loss: 0.0448 - mae: 0.1332 - val_loss: 0.0882 - val_mae: 0.2088\n",
      "Epoch 66/150\n",
      "\u001B[1m18/18\u001B[0m \u001B[32m━━━━━━━━━━━━━━━━━━━━\u001B[0m\u001B[37m\u001B[0m \u001B[1m0s\u001B[0m 22ms/step - loss: 0.0415 - mae: 0.1254 - val_loss: 0.0781 - val_mae: 0.1904\n",
      "Epoch 67/150\n",
      "\u001B[1m18/18\u001B[0m \u001B[32m━━━━━━━━━━━━━━━━━━━━\u001B[0m\u001B[37m\u001B[0m \u001B[1m0s\u001B[0m 21ms/step - loss: 0.0412 - mae: 0.1209 - val_loss: 0.0803 - val_mae: 0.2092\n",
      "Epoch 68/150\n",
      "\u001B[1m18/18\u001B[0m \u001B[32m━━━━━━━━━━━━━━━━━━━━\u001B[0m\u001B[37m\u001B[0m \u001B[1m0s\u001B[0m 22ms/step - loss: 0.0403 - mae: 0.1231 - val_loss: 0.0894 - val_mae: 0.2185\n",
      "Epoch 69/150\n",
      "\u001B[1m18/18\u001B[0m \u001B[32m━━━━━━━━━━━━━━━━━━━━\u001B[0m\u001B[37m\u001B[0m \u001B[1m0s\u001B[0m 25ms/step - loss: 0.0437 - mae: 0.1268 - val_loss: 0.0842 - val_mae: 0.2061\n",
      "Epoch 70/150\n",
      "\u001B[1m18/18\u001B[0m \u001B[32m━━━━━━━━━━━━━━━━━━━━\u001B[0m\u001B[37m\u001B[0m \u001B[1m0s\u001B[0m 22ms/step - loss: 0.0405 - mae: 0.1253 - val_loss: 0.0713 - val_mae: 0.1803\n",
      "Epoch 71/150\n",
      "\u001B[1m18/18\u001B[0m \u001B[32m━━━━━━━━━━━━━━━━━━━━\u001B[0m\u001B[37m\u001B[0m \u001B[1m0s\u001B[0m 22ms/step - loss: 0.0440 - mae: 0.1255 - val_loss: 0.0782 - val_mae: 0.1934\n",
      "Epoch 72/150\n",
      "\u001B[1m18/18\u001B[0m \u001B[32m━━━━━━━━━━━━━━━━━━━━\u001B[0m\u001B[37m\u001B[0m \u001B[1m0s\u001B[0m 22ms/step - loss: 0.0443 - mae: 0.1321 - val_loss: 0.0849 - val_mae: 0.2079\n",
      "Epoch 73/150\n",
      "\u001B[1m18/18\u001B[0m \u001B[32m━━━━━━━━━━━━━━━━━━━━\u001B[0m\u001B[37m\u001B[0m \u001B[1m0s\u001B[0m 22ms/step - loss: 0.0398 - mae: 0.1231 - val_loss: 0.0842 - val_mae: 0.2006\n",
      "Epoch 74/150\n",
      "\u001B[1m18/18\u001B[0m \u001B[32m━━━━━━━━━━━━━━━━━━━━\u001B[0m\u001B[37m\u001B[0m \u001B[1m0s\u001B[0m 21ms/step - loss: 0.0415 - mae: 0.1252 - val_loss: 0.0751 - val_mae: 0.1910\n",
      "Epoch 75/150\n",
      "\u001B[1m18/18\u001B[0m \u001B[32m━━━━━━━━━━━━━━━━━━━━\u001B[0m\u001B[37m\u001B[0m \u001B[1m0s\u001B[0m 22ms/step - loss: 0.0424 - mae: 0.1293 - val_loss: 0.0767 - val_mae: 0.2014\n",
      "Epoch 76/150\n",
      "\u001B[1m18/18\u001B[0m \u001B[32m━━━━━━━━━━━━━━━━━━━━\u001B[0m\u001B[37m\u001B[0m \u001B[1m0s\u001B[0m 21ms/step - loss: 0.0401 - mae: 0.1214 - val_loss: 0.0758 - val_mae: 0.2054\n",
      "Epoch 77/150\n",
      "\u001B[1m18/18\u001B[0m \u001B[32m━━━━━━━━━━━━━━━━━━━━\u001B[0m\u001B[37m\u001B[0m \u001B[1m0s\u001B[0m 23ms/step - loss: 0.0410 - mae: 0.1283 - val_loss: 0.0803 - val_mae: 0.2113\n",
      "Epoch 78/150\n",
      "\u001B[1m18/18\u001B[0m \u001B[32m━━━━━━━━━━━━━━━━━━━━\u001B[0m\u001B[37m\u001B[0m \u001B[1m0s\u001B[0m 23ms/step - loss: 0.0419 - mae: 0.1234 - val_loss: 0.0808 - val_mae: 0.1972\n",
      "Epoch 79/150\n",
      "\u001B[1m18/18\u001B[0m \u001B[32m━━━━━━━━━━━━━━━━━━━━\u001B[0m\u001B[37m\u001B[0m \u001B[1m0s\u001B[0m 22ms/step - loss: 0.0387 - mae: 0.1212 - val_loss: 0.0837 - val_mae: 0.1961\n",
      "Epoch 80/150\n",
      "\u001B[1m18/18\u001B[0m \u001B[32m━━━━━━━━━━━━━━━━━━━━\u001B[0m\u001B[37m\u001B[0m \u001B[1m0s\u001B[0m 23ms/step - loss: 0.0416 - mae: 0.1223 - val_loss: 0.0787 - val_mae: 0.1985\n",
      "Epoch 81/150\n",
      "\u001B[1m18/18\u001B[0m \u001B[32m━━━━━━━━━━━━━━━━━━━━\u001B[0m\u001B[37m\u001B[0m \u001B[1m0s\u001B[0m 23ms/step - loss: 0.0386 - mae: 0.1155 - val_loss: 0.0731 - val_mae: 0.1918\n",
      "Epoch 82/150\n",
      "\u001B[1m18/18\u001B[0m \u001B[32m━━━━━━━━━━━━━━━━━━━━\u001B[0m\u001B[37m\u001B[0m \u001B[1m0s\u001B[0m 22ms/step - loss: 0.0398 - mae: 0.1248 - val_loss: 0.0791 - val_mae: 0.1947\n",
      "Epoch 83/150\n",
      "\u001B[1m18/18\u001B[0m \u001B[32m━━━━━━━━━━━━━━━━━━━━\u001B[0m\u001B[37m\u001B[0m \u001B[1m0s\u001B[0m 22ms/step - loss: 0.0409 - mae: 0.1194 - val_loss: 0.0733 - val_mae: 0.1869\n",
      "Epoch 84/150\n",
      "\u001B[1m18/18\u001B[0m \u001B[32m━━━━━━━━━━━━━━━━━━━━\u001B[0m\u001B[37m\u001B[0m \u001B[1m0s\u001B[0m 23ms/step - loss: 0.0397 - mae: 0.1183 - val_loss: 0.0830 - val_mae: 0.2069\n",
      "Epoch 85/150\n",
      "\u001B[1m18/18\u001B[0m \u001B[32m━━━━━━━━━━━━━━━━━━━━\u001B[0m\u001B[37m\u001B[0m \u001B[1m0s\u001B[0m 22ms/step - loss: 0.0420 - mae: 0.1304 - val_loss: 0.0902 - val_mae: 0.2161\n",
      "Epoch 86/150\n",
      "\u001B[1m18/18\u001B[0m \u001B[32m━━━━━━━━━━━━━━━━━━━━\u001B[0m\u001B[37m\u001B[0m \u001B[1m0s\u001B[0m 23ms/step - loss: 0.0417 - mae: 0.1305 - val_loss: 0.0912 - val_mae: 0.2163\n",
      "Epoch 87/150\n",
      "\u001B[1m18/18\u001B[0m \u001B[32m━━━━━━━━━━━━━━━━━━━━\u001B[0m\u001B[37m\u001B[0m \u001B[1m0s\u001B[0m 22ms/step - loss: 0.0361 - mae: 0.1164 - val_loss: 0.0888 - val_mae: 0.2139\n",
      "Epoch 88/150\n",
      "\u001B[1m18/18\u001B[0m \u001B[32m━━━━━━━━━━━━━━━━━━━━\u001B[0m\u001B[37m\u001B[0m \u001B[1m0s\u001B[0m 22ms/step - loss: 0.0350 - mae: 0.1141 - val_loss: 0.0751 - val_mae: 0.1917\n",
      "Epoch 89/150\n",
      "\u001B[1m18/18\u001B[0m \u001B[32m━━━━━━━━━━━━━━━━━━━━\u001B[0m\u001B[37m\u001B[0m \u001B[1m0s\u001B[0m 22ms/step - loss: 0.0366 - mae: 0.1169 - val_loss: 0.0834 - val_mae: 0.2021\n",
      "Epoch 90/150\n",
      "\u001B[1m18/18\u001B[0m \u001B[32m━━━━━━━━━━━━━━━━━━━━\u001B[0m\u001B[37m\u001B[0m \u001B[1m0s\u001B[0m 22ms/step - loss: 0.0414 - mae: 0.1247 - val_loss: 0.0743 - val_mae: 0.1973\n",
      "Epoch 91/150\n",
      "\u001B[1m18/18\u001B[0m \u001B[32m━━━━━━━━━━━━━━━━━━━━\u001B[0m\u001B[37m\u001B[0m \u001B[1m0s\u001B[0m 22ms/step - loss: 0.0380 - mae: 0.1217 - val_loss: 0.0728 - val_mae: 0.1990\n",
      "Epoch 92/150\n",
      "\u001B[1m18/18\u001B[0m \u001B[32m━━━━━━━━━━━━━━━━━━━━\u001B[0m\u001B[37m\u001B[0m \u001B[1m0s\u001B[0m 22ms/step - loss: 0.0343 - mae: 0.1088 - val_loss: 0.0751 - val_mae: 0.2086\n",
      "Epoch 93/150\n",
      "\u001B[1m18/18\u001B[0m \u001B[32m━━━━━━━━━━━━━━━━━━━━\u001B[0m\u001B[37m\u001B[0m \u001B[1m0s\u001B[0m 22ms/step - loss: 0.0351 - mae: 0.1114 - val_loss: 0.0940 - val_mae: 0.2183\n",
      "Epoch 94/150\n",
      "\u001B[1m18/18\u001B[0m \u001B[32m━━━━━━━━━━━━━━━━━━━━\u001B[0m\u001B[37m\u001B[0m \u001B[1m0s\u001B[0m 22ms/step - loss: 0.0393 - mae: 0.1178 - val_loss: 0.0897 - val_mae: 0.2040\n",
      "Epoch 95/150\n",
      "\u001B[1m18/18\u001B[0m \u001B[32m━━━━━━━━━━━━━━━━━━━━\u001B[0m\u001B[37m\u001B[0m \u001B[1m0s\u001B[0m 22ms/step - loss: 0.0352 - mae: 0.1069 - val_loss: 0.0771 - val_mae: 0.1924\n",
      "Epoch 96/150\n",
      "\u001B[1m18/18\u001B[0m \u001B[32m━━━━━━━━━━━━━━━━━━━━\u001B[0m\u001B[37m\u001B[0m \u001B[1m0s\u001B[0m 22ms/step - loss: 0.0365 - mae: 0.1157 - val_loss: 0.0786 - val_mae: 0.1928\n",
      "Epoch 97/150\n",
      "\u001B[1m18/18\u001B[0m \u001B[32m━━━━━━━━━━━━━━━━━━━━\u001B[0m\u001B[37m\u001B[0m \u001B[1m0s\u001B[0m 22ms/step - loss: 0.0372 - mae: 0.1175 - val_loss: 0.0843 - val_mae: 0.2089\n",
      "Epoch 98/150\n",
      "\u001B[1m18/18\u001B[0m \u001B[32m━━━━━━━━━━━━━━━━━━━━\u001B[0m\u001B[37m\u001B[0m \u001B[1m0s\u001B[0m 22ms/step - loss: 0.0389 - mae: 0.1211 - val_loss: 0.0876 - val_mae: 0.2206\n",
      "Epoch 99/150\n",
      "\u001B[1m18/18\u001B[0m \u001B[32m━━━━━━━━━━━━━━━━━━━━\u001B[0m\u001B[37m\u001B[0m \u001B[1m0s\u001B[0m 22ms/step - loss: 0.0372 - mae: 0.1188 - val_loss: 0.0742 - val_mae: 0.1888\n",
      "Epoch 100/150\n",
      "\u001B[1m18/18\u001B[0m \u001B[32m━━━━━━━━━━━━━━━━━━━━\u001B[0m\u001B[37m\u001B[0m \u001B[1m0s\u001B[0m 22ms/step - loss: 0.0339 - mae: 0.1081 - val_loss: 0.0753 - val_mae: 0.1959\n",
      "Epoch 101/150\n",
      "\u001B[1m18/18\u001B[0m \u001B[32m━━━━━━━━━━━━━━━━━━━━\u001B[0m\u001B[37m\u001B[0m \u001B[1m0s\u001B[0m 22ms/step - loss: 0.0364 - mae: 0.1178 - val_loss: 0.0709 - val_mae: 0.1783\n",
      "Epoch 102/150\n",
      "\u001B[1m18/18\u001B[0m \u001B[32m━━━━━━━━━━━━━━━━━━━━\u001B[0m\u001B[37m\u001B[0m \u001B[1m0s\u001B[0m 22ms/step - loss: 0.0329 - mae: 0.1072 - val_loss: 0.0790 - val_mae: 0.1971\n",
      "Epoch 103/150\n",
      "\u001B[1m18/18\u001B[0m \u001B[32m━━━━━━━━━━━━━━━━━━━━\u001B[0m\u001B[37m\u001B[0m \u001B[1m0s\u001B[0m 22ms/step - loss: 0.0388 - mae: 0.1155 - val_loss: 0.0764 - val_mae: 0.1770\n",
      "Epoch 104/150\n",
      "\u001B[1m18/18\u001B[0m \u001B[32m━━━━━━━━━━━━━━━━━━━━\u001B[0m\u001B[37m\u001B[0m \u001B[1m0s\u001B[0m 22ms/step - loss: 0.0381 - mae: 0.1148 - val_loss: 0.0686 - val_mae: 0.1769\n",
      "Epoch 105/150\n",
      "\u001B[1m18/18\u001B[0m \u001B[32m━━━━━━━━━━━━━━━━━━━━\u001B[0m\u001B[37m\u001B[0m \u001B[1m0s\u001B[0m 22ms/step - loss: 0.0336 - mae: 0.1080 - val_loss: 0.0769 - val_mae: 0.1900\n",
      "Epoch 106/150\n",
      "\u001B[1m18/18\u001B[0m \u001B[32m━━━━━━━━━━━━━━━━━━━━\u001B[0m\u001B[37m\u001B[0m \u001B[1m0s\u001B[0m 22ms/step - loss: 0.0348 - mae: 0.1095 - val_loss: 0.0743 - val_mae: 0.1916\n",
      "Epoch 107/150\n",
      "\u001B[1m18/18\u001B[0m \u001B[32m━━━━━━━━━━━━━━━━━━━━\u001B[0m\u001B[37m\u001B[0m \u001B[1m0s\u001B[0m 22ms/step - loss: 0.0307 - mae: 0.1025 - val_loss: 0.0872 - val_mae: 0.2052\n",
      "Epoch 108/150\n",
      "\u001B[1m18/18\u001B[0m \u001B[32m━━━━━━━━━━━━━━━━━━━━\u001B[0m\u001B[37m\u001B[0m \u001B[1m0s\u001B[0m 22ms/step - loss: 0.0342 - mae: 0.1108 - val_loss: 0.0774 - val_mae: 0.1840\n",
      "Epoch 109/150\n",
      "\u001B[1m18/18\u001B[0m \u001B[32m━━━━━━━━━━━━━━━━━━━━\u001B[0m\u001B[37m\u001B[0m \u001B[1m0s\u001B[0m 22ms/step - loss: 0.0376 - mae: 0.1159 - val_loss: 0.0801 - val_mae: 0.1901\n",
      "Epoch 110/150\n",
      "\u001B[1m18/18\u001B[0m \u001B[32m━━━━━━━━━━━━━━━━━━━━\u001B[0m\u001B[37m\u001B[0m \u001B[1m0s\u001B[0m 22ms/step - loss: 0.0339 - mae: 0.1030 - val_loss: 0.0813 - val_mae: 0.2007\n",
      "Epoch 111/150\n",
      "\u001B[1m18/18\u001B[0m \u001B[32m━━━━━━━━━━━━━━━━━━━━\u001B[0m\u001B[37m\u001B[0m \u001B[1m0s\u001B[0m 22ms/step - loss: 0.0354 - mae: 0.1141 - val_loss: 0.0769 - val_mae: 0.1901\n",
      "Epoch 112/150\n",
      "\u001B[1m18/18\u001B[0m \u001B[32m━━━━━━━━━━━━━━━━━━━━\u001B[0m\u001B[37m\u001B[0m \u001B[1m0s\u001B[0m 22ms/step - loss: 0.0369 - mae: 0.1128 - val_loss: 0.0676 - val_mae: 0.1723\n",
      "Epoch 113/150\n",
      "\u001B[1m18/18\u001B[0m \u001B[32m━━━━━━━━━━━━━━━━━━━━\u001B[0m\u001B[37m\u001B[0m \u001B[1m0s\u001B[0m 22ms/step - loss: 0.0365 - mae: 0.1128 - val_loss: 0.0820 - val_mae: 0.1958\n",
      "Epoch 114/150\n",
      "\u001B[1m18/18\u001B[0m \u001B[32m━━━━━━━━━━━━━━━━━━━━\u001B[0m\u001B[37m\u001B[0m \u001B[1m0s\u001B[0m 24ms/step - loss: 0.0351 - mae: 0.1085 - val_loss: 0.0868 - val_mae: 0.1963\n",
      "Epoch 115/150\n",
      "\u001B[1m18/18\u001B[0m \u001B[32m━━━━━━━━━━━━━━━━━━━━\u001B[0m\u001B[37m\u001B[0m \u001B[1m0s\u001B[0m 24ms/step - loss: 0.0347 - mae: 0.1038 - val_loss: 0.0641 - val_mae: 0.1753\n",
      "Epoch 116/150\n",
      "\u001B[1m18/18\u001B[0m \u001B[32m━━━━━━━━━━━━━━━━━━━━\u001B[0m\u001B[37m\u001B[0m \u001B[1m0s\u001B[0m 22ms/step - loss: 0.0317 - mae: 0.1031 - val_loss: 0.0706 - val_mae: 0.1847\n",
      "Epoch 117/150\n",
      "\u001B[1m18/18\u001B[0m \u001B[32m━━━━━━━━━━━━━━━━━━━━\u001B[0m\u001B[37m\u001B[0m \u001B[1m0s\u001B[0m 22ms/step - loss: 0.0300 - mae: 0.0993 - val_loss: 0.0782 - val_mae: 0.1936\n",
      "Epoch 118/150\n",
      "\u001B[1m18/18\u001B[0m \u001B[32m━━━━━━━━━━━━━━━━━━━━\u001B[0m\u001B[37m\u001B[0m \u001B[1m0s\u001B[0m 22ms/step - loss: 0.0297 - mae: 0.1039 - val_loss: 0.0760 - val_mae: 0.1859\n",
      "Epoch 119/150\n",
      "\u001B[1m18/18\u001B[0m \u001B[32m━━━━━━━━━━━━━━━━━━━━\u001B[0m\u001B[37m\u001B[0m \u001B[1m0s\u001B[0m 22ms/step - loss: 0.0351 - mae: 0.1136 - val_loss: 0.0644 - val_mae: 0.1700\n",
      "Epoch 120/150\n",
      "\u001B[1m18/18\u001B[0m \u001B[32m━━━━━━━━━━━━━━━━━━━━\u001B[0m\u001B[37m\u001B[0m \u001B[1m0s\u001B[0m 22ms/step - loss: 0.0300 - mae: 0.1025 - val_loss: 0.0725 - val_mae: 0.1769\n",
      "Epoch 121/150\n",
      "\u001B[1m18/18\u001B[0m \u001B[32m━━━━━━━━━━━━━━━━━━━━\u001B[0m\u001B[37m\u001B[0m \u001B[1m0s\u001B[0m 22ms/step - loss: 0.0304 - mae: 0.0983 - val_loss: 0.0844 - val_mae: 0.2226\n",
      "Epoch 122/150\n",
      "\u001B[1m18/18\u001B[0m \u001B[32m━━━━━━━━━━━━━━━━━━━━\u001B[0m\u001B[37m\u001B[0m \u001B[1m0s\u001B[0m 22ms/step - loss: 0.0326 - mae: 0.1093 - val_loss: 0.0768 - val_mae: 0.1971\n",
      "Epoch 123/150\n",
      "\u001B[1m18/18\u001B[0m \u001B[32m━━━━━━━━━━━━━━━━━━━━\u001B[0m\u001B[37m\u001B[0m \u001B[1m0s\u001B[0m 22ms/step - loss: 0.0324 - mae: 0.1048 - val_loss: 0.0787 - val_mae: 0.2118\n",
      "Epoch 124/150\n",
      "\u001B[1m18/18\u001B[0m \u001B[32m━━━━━━━━━━━━━━━━━━━━\u001B[0m\u001B[37m\u001B[0m \u001B[1m0s\u001B[0m 22ms/step - loss: 0.0312 - mae: 0.1020 - val_loss: 0.0723 - val_mae: 0.1967\n",
      "Epoch 125/150\n",
      "\u001B[1m18/18\u001B[0m \u001B[32m━━━━━━━━━━━━━━━━━━━━\u001B[0m\u001B[37m\u001B[0m \u001B[1m0s\u001B[0m 22ms/step - loss: 0.0311 - mae: 0.1050 - val_loss: 0.0785 - val_mae: 0.1967\n",
      "Epoch 126/150\n",
      "\u001B[1m18/18\u001B[0m \u001B[32m━━━━━━━━━━━━━━━━━━━━\u001B[0m\u001B[37m\u001B[0m \u001B[1m0s\u001B[0m 22ms/step - loss: 0.0354 - mae: 0.1127 - val_loss: 0.0944 - val_mae: 0.2203\n",
      "Epoch 127/150\n",
      "\u001B[1m18/18\u001B[0m \u001B[32m━━━━━━━━━━━━━━━━━━━━\u001B[0m\u001B[37m\u001B[0m \u001B[1m0s\u001B[0m 22ms/step - loss: 0.0363 - mae: 0.1096 - val_loss: 0.0790 - val_mae: 0.1961\n",
      "Epoch 128/150\n",
      "\u001B[1m18/18\u001B[0m \u001B[32m━━━━━━━━━━━━━━━━━━━━\u001B[0m\u001B[37m\u001B[0m \u001B[1m0s\u001B[0m 22ms/step - loss: 0.0297 - mae: 0.0953 - val_loss: 0.0954 - val_mae: 0.2180\n",
      "Epoch 129/150\n",
      "\u001B[1m18/18\u001B[0m \u001B[32m━━━━━━━━━━━━━━━━━━━━\u001B[0m\u001B[37m\u001B[0m \u001B[1m0s\u001B[0m 22ms/step - loss: 0.0307 - mae: 0.1026 - val_loss: 0.0775 - val_mae: 0.1913\n",
      "Epoch 130/150\n",
      "\u001B[1m18/18\u001B[0m \u001B[32m━━━━━━━━━━━━━━━━━━━━\u001B[0m\u001B[37m\u001B[0m \u001B[1m0s\u001B[0m 22ms/step - loss: 0.0305 - mae: 0.0976 - val_loss: 0.0880 - val_mae: 0.2055\n",
      "Epoch 131/150\n",
      "\u001B[1m18/18\u001B[0m \u001B[32m━━━━━━━━━━━━━━━━━━━━\u001B[0m\u001B[37m\u001B[0m \u001B[1m0s\u001B[0m 22ms/step - loss: 0.0318 - mae: 0.1047 - val_loss: 0.0721 - val_mae: 0.2031\n",
      "Epoch 132/150\n",
      "\u001B[1m18/18\u001B[0m \u001B[32m━━━━━━━━━━━━━━━━━━━━\u001B[0m\u001B[37m\u001B[0m \u001B[1m0s\u001B[0m 22ms/step - loss: 0.0362 - mae: 0.1145 - val_loss: 0.0730 - val_mae: 0.1761\n",
      "Epoch 133/150\n",
      "\u001B[1m18/18\u001B[0m \u001B[32m━━━━━━━━━━━━━━━━━━━━\u001B[0m\u001B[37m\u001B[0m \u001B[1m0s\u001B[0m 22ms/step - loss: 0.0344 - mae: 0.1040 - val_loss: 0.0730 - val_mae: 0.1787\n",
      "Epoch 134/150\n",
      "\u001B[1m18/18\u001B[0m \u001B[32m━━━━━━━━━━━━━━━━━━━━\u001B[0m\u001B[37m\u001B[0m \u001B[1m0s\u001B[0m 22ms/step - loss: 0.0281 - mae: 0.0913 - val_loss: 0.0702 - val_mae: 0.1757\n",
      "Epoch 135/150\n",
      "\u001B[1m18/18\u001B[0m \u001B[32m━━━━━━━━━━━━━━━━━━━━\u001B[0m\u001B[37m\u001B[0m \u001B[1m0s\u001B[0m 22ms/step - loss: 0.0300 - mae: 0.0998 - val_loss: 0.0822 - val_mae: 0.1954\n",
      "Epoch 136/150\n",
      "\u001B[1m18/18\u001B[0m \u001B[32m━━━━━━━━━━━━━━━━━━━━\u001B[0m\u001B[37m\u001B[0m \u001B[1m0s\u001B[0m 22ms/step - loss: 0.0279 - mae: 0.0951 - val_loss: 0.0792 - val_mae: 0.2000\n",
      "Epoch 137/150\n",
      "\u001B[1m18/18\u001B[0m \u001B[32m━━━━━━━━━━━━━━━━━━━━\u001B[0m\u001B[37m\u001B[0m \u001B[1m0s\u001B[0m 22ms/step - loss: 0.0297 - mae: 0.0999 - val_loss: 0.0824 - val_mae: 0.2010\n",
      "Epoch 138/150\n",
      "\u001B[1m18/18\u001B[0m \u001B[32m━━━━━━━━━━━━━━━━━━━━\u001B[0m\u001B[37m\u001B[0m \u001B[1m0s\u001B[0m 22ms/step - loss: 0.0328 - mae: 0.1051 - val_loss: 0.0757 - val_mae: 0.1897\n",
      "Epoch 139/150\n",
      "\u001B[1m18/18\u001B[0m \u001B[32m━━━━━━━━━━━━━━━━━━━━\u001B[0m\u001B[37m\u001B[0m \u001B[1m0s\u001B[0m 22ms/step - loss: 0.0288 - mae: 0.0948 - val_loss: 0.0754 - val_mae: 0.2032\n",
      "Epoch 140/150\n",
      "\u001B[1m18/18\u001B[0m \u001B[32m━━━━━━━━━━━━━━━━━━━━\u001B[0m\u001B[37m\u001B[0m \u001B[1m0s\u001B[0m 22ms/step - loss: 0.0307 - mae: 0.1048 - val_loss: 0.0724 - val_mae: 0.1805\n",
      "Epoch 141/150\n",
      "\u001B[1m18/18\u001B[0m \u001B[32m━━━━━━━━━━━━━━━━━━━━\u001B[0m\u001B[37m\u001B[0m \u001B[1m0s\u001B[0m 22ms/step - loss: 0.0295 - mae: 0.0932 - val_loss: 0.0762 - val_mae: 0.1934\n",
      "Epoch 142/150\n",
      "\u001B[1m18/18\u001B[0m \u001B[32m━━━━━━━━━━━━━━━━━━━━\u001B[0m\u001B[37m\u001B[0m \u001B[1m0s\u001B[0m 22ms/step - loss: 0.0298 - mae: 0.0993 - val_loss: 0.0657 - val_mae: 0.1854\n",
      "Epoch 143/150\n",
      "\u001B[1m18/18\u001B[0m \u001B[32m━━━━━━━━━━━━━━━━━━━━\u001B[0m\u001B[37m\u001B[0m \u001B[1m0s\u001B[0m 22ms/step - loss: 0.0316 - mae: 0.1052 - val_loss: 0.0796 - val_mae: 0.1945\n",
      "Epoch 144/150\n",
      "\u001B[1m18/18\u001B[0m \u001B[32m━━━━━━━━━━━━━━━━━━━━\u001B[0m\u001B[37m\u001B[0m \u001B[1m0s\u001B[0m 22ms/step - loss: 0.0324 - mae: 0.1035 - val_loss: 0.0803 - val_mae: 0.2063\n",
      "Epoch 145/150\n",
      "\u001B[1m18/18\u001B[0m \u001B[32m━━━━━━━━━━━━━━━━━━━━\u001B[0m\u001B[37m\u001B[0m \u001B[1m0s\u001B[0m 22ms/step - loss: 0.0324 - mae: 0.1063 - val_loss: 0.0751 - val_mae: 0.2048\n",
      "Epoch 146/150\n",
      "\u001B[1m18/18\u001B[0m \u001B[32m━━━━━━━━━━━━━━━━━━━━\u001B[0m\u001B[37m\u001B[0m \u001B[1m0s\u001B[0m 22ms/step - loss: 0.0298 - mae: 0.0952 - val_loss: 0.0822 - val_mae: 0.2133\n",
      "Epoch 147/150\n",
      "\u001B[1m18/18\u001B[0m \u001B[32m━━━━━━━━━━━━━━━━━━━━\u001B[0m\u001B[37m\u001B[0m \u001B[1m0s\u001B[0m 21ms/step - loss: 0.0291 - mae: 0.0959 - val_loss: 0.0903 - val_mae: 0.2115\n",
      "Epoch 148/150\n",
      "\u001B[1m18/18\u001B[0m \u001B[32m━━━━━━━━━━━━━━━━━━━━\u001B[0m\u001B[37m\u001B[0m \u001B[1m0s\u001B[0m 22ms/step - loss: 0.0305 - mae: 0.0980 - val_loss: 0.0748 - val_mae: 0.1849\n",
      "Epoch 149/150\n",
      "\u001B[1m18/18\u001B[0m \u001B[32m━━━━━━━━━━━━━━━━━━━━\u001B[0m\u001B[37m\u001B[0m \u001B[1m0s\u001B[0m 22ms/step - loss: 0.0237 - mae: 0.0816 - val_loss: 0.0731 - val_mae: 0.1844\n",
      "Epoch 150/150\n",
      "\u001B[1m18/18\u001B[0m \u001B[32m━━━━━━━━━━━━━━━━━━━━\u001B[0m\u001B[37m\u001B[0m \u001B[1m0s\u001B[0m 22ms/step - loss: 0.0294 - mae: 0.1004 - val_loss: 0.0874 - val_mae: 0.2235\n"
     ]
    }
   ],
   "execution_count": 108
  },
  {
   "metadata": {
    "ExecuteTime": {
     "end_time": "2025-07-16T01:50:50.521419Z",
     "start_time": "2025-07-16T01:50:49.318819Z"
    }
   },
   "cell_type": "code",
   "source": [
    "y_pred_log = model.predict(X_test_seq)\n",
    "y_pred = np.expm1(y_pred_log)\n"
   ],
   "id": "995423495b03b084",
   "outputs": [
    {
     "name": "stdout",
     "output_type": "stream",
     "text": [
      "\u001B[1m2/2\u001B[0m \u001B[32m━━━━━━━━━━━━━━━━━━━━\u001B[0m\u001B[37m\u001B[0m \u001B[1m1s\u001B[0m 576ms/step\n"
     ]
    }
   ],
   "execution_count": 109
  },
  {
   "metadata": {},
   "cell_type": "markdown",
   "source": [
    "### 9. 📊 Evaluación del modelo\n",
    "\n",
    "Se hacen predicciones sobre el conjunto de prueba, se desescalan los resultados, y se calculan las métricas:\n",
    "- MAE\n",
    "- MSE\n",
    "- R²\n",
    "\n"
   ],
   "id": "f129cf439328edb9"
  },
  {
   "metadata": {
    "ExecuteTime": {
     "end_time": "2025-07-16T01:50:56.761166Z",
     "start_time": "2025-07-16T01:50:56.754989Z"
    }
   },
   "cell_type": "code",
   "source": [
    "def evaluar_modelo_multivariado_v2(model, X_test_seq, y_test_seq, scaler_y):\n",
    "    \"\"\"\n",
    "    Evalúa el modelo multivariado\n",
    "    \"\"\"\n",
    "    # Predicciones\n",
    "    predictions_scaled = model.predict(X_test_seq)\n",
    "\n",
    "    # Desescalar\n",
    "    predictions = scaler_y.inverse_transform(predictions_scaled)\n",
    "    real_values = scaler_y.inverse_transform(y_test_seq)\n",
    "\n",
    "    # Métricas\n",
    "    mae = mean_absolute_error(real_values, predictions)\n",
    "    mse = mean_squared_error(real_values, predictions)\n",
    "    r2 = r2_score(real_values, predictions)\n",
    "\n",
    "    print(f\"MAE: {mae:.4f}\")\n",
    "    print(f\"MSE: {mse:.4f}\")\n",
    "    print(f\"R²: {r2:.4f}\")\n",
    "\n",
    "    return predictions, real_values"
   ],
   "id": "213fb04791b4619f",
   "outputs": [],
   "execution_count": 110
  },
  {
   "metadata": {
    "ExecuteTime": {
     "end_time": "2025-07-16T01:51:00.418598Z",
     "start_time": "2025-07-16T01:51:00.312427Z"
    }
   },
   "cell_type": "code",
   "source": [
    "predictions, real_values = evaluar_modelo_multivariado_v2(\n",
    "        model, X_test_seq, y_test_seq, scaler_y)"
   ],
   "id": "dd562a9325596781",
   "outputs": [
    {
     "name": "stdout",
     "output_type": "stream",
     "text": [
      "\u001B[1m2/2\u001B[0m \u001B[32m━━━━━━━━━━━━━━━━━━━━\u001B[0m\u001B[37m\u001B[0m \u001B[1m0s\u001B[0m 16ms/step\n",
      "MAE: 29.4076\n",
      "MSE: 1310.3537\n",
      "R²: 0.0632\n"
     ]
    }
   ],
   "execution_count": 111
  },
  {
   "metadata": {},
   "cell_type": "markdown",
   "source": [
    "### 10. 🔮 Predicción futura (Forecast)\n",
    "\n",
    "Se utiliza la última secuencia disponible para predecir los siguientes 6 meses. Se asume que las variables independientes no cambian (simplificación).\n"
   ],
   "id": "8f7464e5e4500ffa"
  },
  {
   "metadata": {
    "ExecuteTime": {
     "end_time": "2025-07-16T01:52:08.213163Z",
     "start_time": "2025-07-16T01:52:08.207215Z"
    }
   },
   "cell_type": "code",
   "source": [
    "def forecast_futuro_multivariado(model, X_scaled, scaler_X, scaler_y, length=12, pasos_futuros=6):\n",
    "    \"\"\"\n",
    "    Realiza predicciones futuras con modelo multivariado\n",
    "    NOTA: Requiere valores futuros de las features (área, clima, cantón)\n",
    "    \"\"\"\n",
    "    # Obtener la última secuencia\n",
    "    last_sequence = X_scaled[-length:]\n",
    "\n",
    "    forecast = []\n",
    "    current_sequence = last_sequence.copy()\n",
    "\n",
    "    for _ in range(pasos_futuros):\n",
    "        # Predecir siguiente valor\n",
    "        next_pred = model.predict(current_sequence.reshape(1, length, -1), verbose=0)\n",
    "        forecast.append(next_pred[0, 0])\n",
    "\n",
    "        # Para forecast multivariado, necesitarías actualizar current_sequence\n",
    "        # con nuevos valores de features. Aquí simplificamos manteniendo\n",
    "        # las features constantes y solo actualizando la secuencia temporal\n",
    "\n",
    "        # Actualizar secuencia (esto es una simplificación)\n",
    "        current_sequence = np.roll(current_sequence, -1, axis=0)\n",
    "        # current_sequence[-1] = ... # Aquí necesitarías los valores futuros de features\n",
    "\n",
    "    # Desescalar predicciones\n",
    "    forecast = np.array(forecast).reshape(-1, 1)\n",
    "    forecast_unscaled = scaler_y.inverse_transform(forecast)\n",
    "\n",
    "    return forecast_unscaled.flatten()"
   ],
   "id": "d9e0f077f3017d39",
   "outputs": [],
   "execution_count": 112
  },
  {
   "metadata": {
    "ExecuteTime": {
     "end_time": "2025-07-16T01:06:23.978322Z",
     "start_time": "2025-07-16T01:06:23.880083Z"
    }
   },
   "cell_type": "code",
   "source": [
    "model_path = os.path.join(base_path, \"models\", \"modelo_LSTM_multivariado.keras\")\n",
    "model.save(model_path)\n",
    "print(\"Modelo guardado con éxito.\")"
   ],
   "id": "9720e971383919ab",
   "outputs": [
    {
     "name": "stdout",
     "output_type": "stream",
     "text": [
      "Modelo guardado con éxito.\n"
     ]
    }
   ],
   "execution_count": 23
  },
  {
   "metadata": {},
   "cell_type": "markdown",
   "source": [
    "### 11. 💾 Guardado del modelo y scalers\n",
    "\n",
    "Se guarda el modelo entrenado (`.keras`) y los objetos `scaler_X`, `scaler_y`, y las columnas de features para uso futuro.\n",
    "\n"
   ],
   "id": "61e70f47519d7d1b"
  },
  {
   "metadata": {
    "ExecuteTime": {
     "end_time": "2025-07-16T01:36:36.452043Z",
     "start_time": "2025-07-16T01:36:36.445175Z"
    }
   },
   "cell_type": "code",
   "source": [
    "def guardar_scalers_y_features(scaler_X, scaler_y, feature_cols, base_path):\n",
    "    \"\"\"\n",
    "    Guarda los scalers y columnas de features para uso posterior\n",
    "    \"\"\"\n",
    "    # Crear directorio models si no existe\n",
    "    models_dir = os.path.join(base_path, \"models\")\n",
    "    os.makedirs(models_dir, exist_ok=True)\n",
    "\n",
    "    # Guardar scaler de features (X)\n",
    "    scaler_X_path = os.path.join(models_dir, \"scaler_X_multivariado.pkl\")\n",
    "    with open(scaler_X_path, 'wb') as f:\n",
    "        pickle.dump(scaler_X, f)\n",
    "\n",
    "    # Guardar scaler de target (y)\n",
    "    scaler_y_path = os.path.join(models_dir, \"scaler_y_multivariado.pkl\")\n",
    "    with open(scaler_y_path, 'wb') as f:\n",
    "        pickle.dump(scaler_y, f)\n",
    "\n",
    "    # Guardar columnas de features\n",
    "    features_path = os.path.join(models_dir, \"feature_columns_multivariado.pkl\")\n",
    "    with open(features_path, 'wb') as f:\n",
    "        pickle.dump(feature_cols, f)\n",
    "\n",
    "    print(\"✅ Scalers y features guardados correctamente.\")\n",
    "    print(f\"   - Scaler X: {scaler_X_path}\")\n",
    "    print(f\"   - Scaler y: {scaler_y_path}\")\n",
    "    print(f\"   - Features: {features_path}\")\n"
   ],
   "id": "4fd2142d7a593b46",
   "outputs": [],
   "execution_count": 54
  },
  {
   "metadata": {
    "ExecuteTime": {
     "end_time": "2025-07-16T01:36:40.263502Z",
     "start_time": "2025-07-16T01:36:40.256092Z"
    }
   },
   "cell_type": "code",
   "source": "guardar_scalers_y_features(scaler_X, scaler_y, feature_cols, base_path)",
   "id": "43fd99661e6edb4d",
   "outputs": [
    {
     "name": "stdout",
     "output_type": "stream",
     "text": [
      "✅ Scalers y features guardados correctamente.\n",
      "   - Scaler X: C:\\TemplateAgroIA\\models\\scaler_X_multivariado.pkl\n",
      "   - Scaler y: C:\\TemplateAgroIA\\models\\scaler_y_multivariado.pkl\n",
      "   - Features: C:\\TemplateAgroIA\\models\\feature_columns_multivariado.pkl\n"
     ]
    }
   ],
   "execution_count": 55
  },
  {
   "metadata": {},
   "cell_type": "markdown",
   "source": [
    "### 12. 📈 Visualización del entrenamiento\n",
    "\n",
    "Se grafican las curvas de pérdida (MSE) y MAE tanto para entrenamiento como validación, para entender el comportamiento del modelo durante las épocas."
   ],
   "id": "596b7e5acd566255"
  },
  {
   "metadata": {
    "ExecuteTime": {
     "end_time": "2025-07-16T01:36:43.635370Z",
     "start_time": "2025-07-16T01:36:43.627813Z"
    }
   },
   "cell_type": "code",
   "source": [
    "def visualizar_entrenamiento(history):\n",
    "    \"\"\"\n",
    "    Visualiza las curvas de entrenamiento y validación\n",
    "    \"\"\"\n",
    "    fig, (ax1, ax2) = plt.subplots(1, 2, figsize=(15, 5))\n",
    "\n",
    "    # Gráfico de pérdida\n",
    "    ax1.plot(history.history['loss'], label='Entrenamiento', linewidth=2)\n",
    "    ax1.plot(history.history['val_loss'], label='Validación', linewidth=2)\n",
    "    ax1.set_title('Pérdida del Modelo', fontsize=14, fontweight='bold')\n",
    "    ax1.set_xlabel('Época')\n",
    "    ax1.set_ylabel('Pérdida (MSE)')\n",
    "    ax1.legend()\n",
    "    ax1.grid(True, alpha=0.3)\n",
    "\n",
    "    # Gráfico de MAE\n",
    "    ax2.plot(history.history['mae'], label='Entrenamiento', linewidth=2)\n",
    "    ax2.plot(history.history['val_mae'], label='Validación', linewidth=2)\n",
    "    ax2.set_title('Error Absoluto Medio', fontsize=14, fontweight='bold')\n",
    "    ax2.set_xlabel('Época')\n",
    "    ax2.set_ylabel('MAE')\n",
    "    ax2.legend()\n",
    "    ax2.grid(True, alpha=0.3)\n",
    "\n",
    "    plt.tight_layout()\n",
    "    plt.show()\n",
    "\n",
    "    # Imprimir estadísticas finales\n",
    "    print(\"\\n=== ESTADÍSTICAS FINALES ===\")\n",
    "    print(f\"Pérdida final (entrenamiento): {history.history['loss'][-1]:.4f}\")\n",
    "    print(f\"Pérdida final (validación): {history.history['val_loss'][-1]:.4f}\")\n",
    "    print(f\"MAE final (entrenamiento): {history.history['mae'][-1]:.4f}\")\n",
    "    print(f\"MAE final (validación): {history.history['val_mae'][-1]:.4f}\")\n",
    "    print(f\"Épocas entrenadas: {len(history.history['loss'])}\")\n"
   ],
   "id": "121755264ad37837",
   "outputs": [],
   "execution_count": 56
  },
  {
   "metadata": {
    "ExecuteTime": {
     "end_time": "2025-07-16T01:52:19.072556Z",
     "start_time": "2025-07-16T01:52:18.830598Z"
    }
   },
   "cell_type": "code",
   "source": "visualizar_entrenamiento(history)",
   "id": "ca6eeb227b97c614",
   "outputs": [
    {
     "data": {
      "text/plain": [
       "<Figure size 1500x500 with 2 Axes>"
      ],
      "image/png": "[encoded data removed]"
     },
     "metadata": {},
     "output_type": "display_data"
    },
    {
     "name": "stdout",
     "output_type": "stream",
     "text": [
      "\n",
      "=== ESTADÍSTICAS FINALES ===\n",
      "Pérdida final (entrenamiento): 0.0292\n",
      "Pérdida final (validación): 0.0874\n",
      "MAE final (entrenamiento): 0.0994\n",
      "MAE final (validación): 0.2235\n",
      "Épocas entrenadas: 150\n"
     ]
    }
   ],
   "execution_count": 113
  },
  {
   "metadata": {},
   "cell_type": "markdown",
   "source": [
    "### 13. 📦 Carga del modelo para pruebas\n",
    "\n",
    "Se carga el modelo y los escaladores desde disco para realizar pruebas con nuevos datos.\n"
   ],
   "id": "b6ea403bbb17d429"
  },
  {
   "metadata": {
    "ExecuteTime": {
     "end_time": "2025-07-16T01:37:02.163815Z",
     "start_time": "2025-07-16T01:37:01.882553Z"
    }
   },
   "cell_type": "code",
   "source": [
    "model_path = os.path.join(base_path, \"models\", \"modelo_LSTM_multivariado.keras\")\n",
    "scaler_y_path = os.path.join(base_path, \"models\", \"scaler_y_multivariado.pkl\")\n",
    "scaler_X_path = os.path.join(base_path, \"models\", \"scaler_X_multivariado.pkl\")\n",
    "features_path = os.path.join(base_path, \"models\", \"feature_columns_multivariado.pkl\")\n",
    "\n",
    "modelo_cargado = tf.keras.models.load_model(model_path)\n",
    "with open(scaler_y_path, 'rb') as f:\n",
    "    scaler_y_cargado = pickle.load(f)\n",
    "with open(scaler_X_path, 'rb') as f:\n",
    "    scaler_X_cargado = pickle.load(f)\n",
    "with open(features_path, 'rb') as f:\n",
    "    columnas_features = pickle.load(f)\n",
    "\n",
    "print(\"✅ Modelo y scalers cargados\")"
   ],
   "id": "ec3428d066e34068",
   "outputs": [
    {
     "name": "stdout",
     "output_type": "stream",
     "text": [
      "✅ Modelo y scalers cargados\n"
     ]
    }
   ],
   "execution_count": 58
  },
  {
   "metadata": {},
   "cell_type": "markdown",
   "source": "### Cargar datos de prueba",
   "id": "8140f81be4252843"
  },
  {
   "metadata": {
    "ExecuteTime": {
     "end_time": "2025-07-16T01:37:05.578420Z",
     "start_time": "2025-07-16T01:37:05.568366Z"
    }
   },
   "cell_type": "code",
   "source": [
    "test_file_path = os.path.join(base_path, \"data\", \"raw\", \"df_prueba_produccion.csv\")\n",
    "df_test = pd.read_csv(test_file_path, parse_dates=['fecha'])\n",
    "\n",
    "# Tomar últimos 12 meses de un cantón\n",
    "canton_id = df_test['canton_id'].iloc[0]\n",
    "df_test = df_test[df_test['canton_id'] == canton_id].tail(12)\n",
    "\n",
    "print(f\"Usando {len(df_test)} registros del cantón {canton_id}\")"
   ],
   "id": "645a357a6023ade1",
   "outputs": [
    {
     "name": "stdout",
     "output_type": "stream",
     "text": [
      "Usando 12 registros del cantón 205\n"
     ]
    }
   ],
   "execution_count": 59
  },
  {
   "metadata": {},
   "cell_type": "markdown",
   "source": "### Preparar datos",
   "id": "99dce706d3150ea4"
  },
  {
   "metadata": {
    "ExecuteTime": {
     "end_time": "2025-07-16T01:37:08.843308Z",
     "start_time": "2025-07-16T01:37:08.834056Z"
    }
   },
   "cell_type": "code",
   "source": [
    "df_encoded = pd.get_dummies(df_test, columns=['canton_id'], prefix='canton')\n",
    "for col in columnas_features:\n",
    "    if col not in df_encoded.columns:\n",
    "        df_encoded[col] = 0\n",
    "df_encoded = df_encoded[columnas_features]\n",
    "\n",
    "X_scaled = scaler_X_cargado.transform(df_encoded.values)"
   ],
   "id": "8adbff4ddff6467c",
   "outputs": [],
   "execution_count": 60
  },
  {
   "metadata": {},
   "cell_type": "markdown",
   "source": "### Hacer predicción",
   "id": "4782c3c6f2c4bc0d"
  },
  {
   "metadata": {
    "ExecuteTime": {
     "end_time": "2025-07-16T01:37:13.074888Z",
     "start_time": "2025-07-16T01:37:12.061401Z"
    }
   },
   "cell_type": "code",
   "source": [
    "meses_a_predecir = 6\n",
    "predicciones = []\n",
    "current_seq = X_scaled.copy()\n",
    "\n",
    "for i in range(meses_a_predecir):\n",
    "    pred = modelo_cargado.predict(current_seq.reshape(1, 12, -1), verbose=0)\n",
    "    predicciones.append(pred[0, 0])\n",
    "    # Rotar secuencia para siguiente predicción\n",
    "    current_seq = np.roll(current_seq, -1, axis=0)"
   ],
   "id": "584f7e896fe44daa",
   "outputs": [],
   "execution_count": 61
  },
  {
   "metadata": {},
   "cell_type": "markdown",
   "source": "### Desescalar predicciones",
   "id": "98faa0de2755da65"
  },
  {
   "metadata": {
    "ExecuteTime": {
     "end_time": "2025-07-16T01:37:16.556509Z",
     "start_time": "2025-07-16T01:37:16.549196Z"
    }
   },
   "cell_type": "code",
   "source": [
    "predicciones_reales = scaler_y_cargado.inverse_transform(np.array(predicciones).reshape(-1, 1)).flatten()\n",
    "\n",
    "print(f\"Predicciones para los próximos {meses_a_predecir} meses:\")\n",
    "for i, pred in enumerate(predicciones_reales, 1):\n",
    "    print(f\"Mes {i}: {pred:.2f} unidades\")"
   ],
   "id": "5575dd8e71a1d874",
   "outputs": [
    {
     "name": "stdout",
     "output_type": "stream",
     "text": [
      "Predicciones para los próximos 6 meses:\n",
      "Mes 1: 12.79 unidades\n",
      "Mes 2: 12.28 unidades\n",
      "Mes 3: 12.84 unidades\n",
      "Mes 4: 13.35 unidades\n",
      "Mes 5: 13.33 unidades\n",
      "Mes 6: 13.94 unidades\n"
     ]
    }
   ],
   "execution_count": 62
  },
  {
   "metadata": {},
   "cell_type": "markdown",
   "source": "### Gráfico con múltiples predicciones",
   "id": "46fe17d41a147da"
  },
  {
   "metadata": {
    "ExecuteTime": {
     "end_time": "2025-07-16T01:37:21.509663Z",
     "start_time": "2025-07-16T01:37:21.298520Z"
    }
   },
   "cell_type": "code",
   "source": [
    "fechas_futuras = pd.date_range(start=df_test['fecha'].max() + pd.DateOffset(months=1),\n",
    "                              periods=meses_a_predecir, freq='ME')\n",
    "\n",
    "plt.figure(figsize=(12, 6))\n",
    "plt.plot(df_test['fecha'], df_test['produccion'], 'o-', label='Histórico', linewidth=2)\n",
    "plt.plot(fechas_futuras, predicciones_reales, 's-', color='red', label='Predicciones', linewidth=2)\n",
    "plt.axvline(x=df_test['fecha'].max(), color='gray', linestyle='--', alpha=0.5)\n",
    "plt.title('Predicción de Producción - Múltiples Meses')\n",
    "plt.xlabel('Fecha')\n",
    "plt.ylabel('Producción')\n",
    "plt.legend()\n",
    "plt.grid(True, alpha=0.3)\n",
    "plt.xticks(rotation=45)\n",
    "plt.tight_layout()\n",
    "plt.show()\n",
    "\n",
    "print(f\"Producción promedio histórica: {df_test['produccion'].mean():.2f}\")\n",
    "print(f\"Predicción promedio: {np.mean(predicciones_reales):.2f}\")\n",
    "print(f\"Diferencia promedio: {np.mean(predicciones_reales) - df_test['produccion'].mean():.2f}\")"
   ],
   "id": "423083284aee71bc",
   "outputs": [
    {
     "data": {
      "text/plain": [
       "<Figure size 1200x600 with 1 Axes>"
      ],
      "image/png": "[encoded data removed]"
     },
     "metadata": {},
     "output_type": "display_data"
    },
    {
     "name": "stdout",
     "output_type": "stream",
     "text": [
      "Producción promedio histórica: 1201.33\n",
      "Predicción promedio: 13.09\n",
      "Diferencia promedio: -1188.24\n"
     ]
    }
   ],
   "execution_count": 63
  },
  {
   "metadata": {
    "ExecuteTime": {
     "end_time": "2025-07-16T01:38:51.706548Z",
     "start_time": "2025-07-16T01:38:51.670410Z"
    }
   },
   "cell_type": "code",
   "source": "pred = scaler_y.inverse_transform(pred_scaled.reshape(-1, 1)).flatten()\n",
   "id": "b5bf3222c9d8e52e",
   "outputs": [
    {
     "ename": "NameError",
     "evalue": "name 'pred_scaled' is not defined",
     "output_type": "error",
     "traceback": [
      "\u001B[31m---------------------------------------------------------------------------\u001B[39m",
      "\u001B[31mNameError\u001B[39m                                 Traceback (most recent call last)",
      "\u001B[36mCell\u001B[39m\u001B[36m \u001B[39m\u001B[32mIn[64]\u001B[39m\u001B[32m, line 1\u001B[39m\n\u001B[32m----> \u001B[39m\u001B[32m1\u001B[39m pred = scaler_y.inverse_transform(\u001B[43mpred_scaled\u001B[49m.reshape(-\u001B[32m1\u001B[39m, \u001B[32m1\u001B[39m)).flatten()\n",
      "\u001B[31mNameError\u001B[39m: name 'pred_scaled' is not defined"
     ]
    }
   ],
   "execution_count": 64
  }
 ],
 "metadata": {
  "kernelspec": {
   "display_name": "Python 3",
   "language": "python",
   "name": "python3"
  },
  "language_info": {
   "codemirror_mode": {
    "name": "ipython",
    "version": 2
   },
   "file_extension": ".py",
   "mimetype": "text/x-python",
   "name": "python",
   "nbconvert_exporter": "python",
   "pygments_lexer": "ipython2",
   "version": "2.7.6"
  }
 },
 "nbformat": 4,
 "nbformat_minor": 5
}
