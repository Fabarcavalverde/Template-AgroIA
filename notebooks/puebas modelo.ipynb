{
 "cells": [
  {
   "metadata": {},
   "cell_type": "code",
   "outputs": [],
   "execution_count": null,
   "source": [
    "\n",
    "# Función para preparar el input (ajustada para 3 meses)\n",
    "def preparar_input_nuevo(df, columnas_features, scaler, ventana_tiempo=3):\n",
    "    df = df.sort_values(\"fecha\")\n",
    "    data = df[columnas_features + ['produccion']].values\n",
    "    data_scaled = scaler.transform(data)\n",
    "    secuencia = data_scaled[-ventana_tiempo:, :-1]\n",
    "    secuencia = np.expand_dims(secuencia, axis=0)\n",
    "    return secuencia"
   ],
   "id": "f9b141824b8af779"
  },
  {
   "metadata": {
    "collapsed": true
   },
   "cell_type": "code",
   "outputs": [],
   "execution_count": null,
   "source": [
    "from sklearn.preprocessing import MinMaxScaler\n",
    "import numpy as np\n",
    "\n",
    "\n",
    "# Función de predicción (usa el modelo cargado o entrenado en la celda)\n",
    "def probar_modelo(model, scaler, df_nuevo, columnas_features, ventana_tiempo=3):\n",
    "    secuencia = preparar_input_nuevo(df_nuevo, columnas_features, scaler, ventana_tiempo)\n",
    "    pred_scaled = model.predict(secuencia, verbose=0)[0][0]\n",
    "    n_features = scaler.n_features_in_\n",
    "    temp = np.zeros((1, n_features))\n",
    "    temp[0, -1] = pred_scaled\n",
    "    pred_real = scaler.inverse_transform(temp)[0, -1]\n",
    "    print(f\"Producción estimada para el próximo mes: {pred_real:.2f}\")\n",
    "    return pred_real\n",
    "\n",
    "# Usar columnas adecuadas\n",
    "columnas_features = ['area', 'PRECTOTCORR_SUM', 'RH2M', 'T2M', 'T2MDEW',\n",
    "                     'T2MWET', 'T2M_MAX', 'T2M_MIN', 'WS2M', 'mes']\n",
    "\n",
    "# Ejecutar la predicción\n",
    "probar_modelo(model, scaler, df_prueba, columnas_features, ventana_tiempo=3)\n"
   ],
   "id": "initial_id"
  }
 ],
 "metadata": {
  "kernelspec": {
   "display_name": "Python 3",
   "language": "python",
   "name": "python3"
  },
  "language_info": {
   "codemirror_mode": {
    "name": "ipython",
    "version": 2
   },
   "file_extension": ".py",
   "mimetype": "text/x-python",
   "name": "python",
   "nbconvert_exporter": "python",
   "pygments_lexer": "ipython2",
   "version": "2.7.6"
  }
 },
 "nbformat": 4,
 "nbformat_minor": 5
}
