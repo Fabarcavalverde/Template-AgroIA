{
 "cells": [
  {
   "metadata": {
    "ExecuteTime": {
     "end_time": "2025-07-14T20:09:41.348458Z",
     "start_time": "2025-07-14T20:09:34.137595Z"
    }
   },
   "cell_type": "code",
   "source": [
    "import numpy as np\n",
    "import pandas as pd\n",
    "import pickle\n",
    "from tensorflow.keras.models import load_model\n",
    "import os\n",
    "from src.utils.metrics import obtener_ruta_app\n",
    "from keras.losses import mean_squared_error"
   ],
   "id": "fbf9d105f327080",
   "outputs": [],
   "execution_count": 1
  },
  {
   "metadata": {
    "ExecuteTime": {
     "end_time": "2025-07-14T20:09:44.104945Z",
     "start_time": "2025-07-14T20:09:44.023582Z"
    }
   },
   "cell_type": "code",
   "source": [
    "base_path = obtener_ruta_app(\"TemplateAgroIA\")\n",
    "model_path = os.path.join(base_path, \"models\", \"modelo_RNN_Papas.h5\")\n",
    "scaler_path = os.path.join(base_path, \"models\", \"scaler_RNN_Papas.pkl\")\n",
    "\n",
    "# === 1. Cargar modelo y scaler ===\n",
    "model = load_model(model_path, custom_objects={'mse': mean_squared_error})\n",
    "print(\"Modelo cargado.\")\n",
    "\n",
    "with open(scaler_path, 'rb') as f:\n",
    "    scaler = pickle.load(f)\n",
    "print(\"Scaler cargado.\")\n",
    "\n",
    "# === 2. Crear DataFrame con 3 meses de datos ===\n",
    "df_prueba = pd.DataFrame({\n",
    "    'area': [100, 110, 105],\n",
    "    'PRECTOTCORR_SUM': [250, 260, 240],\n",
    "    'RH2M': [80, 78, 82],\n",
    "    'T2M': [22.1, 23.5, 21.7],\n",
    "    'T2MDEW': [18.0, 17.5, 18.2],\n",
    "    'T2MWET': [19.0, 19.5, 18.8],\n",
    "    'T2M_MAX': [29, 30, 28],\n",
    "    'T2M_MIN': [15, 16, 14],\n",
    "    'WS2M': [1.2, 1.0, 1.3],\n",
    "    'mes': [4, 5, 6],\n",
    "    'produccion': [1200, 1250, 1230]\n",
    "})\n",
    "df_prueba['fecha'] = pd.date_range('2023-04-01', periods=3, freq='M')\n",
    "\n",
    "columnas_features = ['area', 'PRECTOTCORR_SUM', 'RH2M', 'T2M', 'T2MDEW',\n",
    "                     'T2MWET', 'T2M_MAX', 'T2M_MIN', 'WS2M', 'mes']\n",
    "\n",
    "# === 3. Preparar input ===\n",
    "def preparar_input(df, columnas_features, scaler, ventana_tiempo=3):\n",
    "    df = df.sort_values(\"fecha\")\n",
    "    data = df[columnas_features + ['produccion']].values\n",
    "    data_scaled = scaler.transform(data)\n",
    "    X = data_scaled[-ventana_tiempo:, :-1]  # Solo features\n",
    "    return np.expand_dims(X, axis=0)\n",
    "\n",
    "# === 4. Predecir ===\n",
    "def predecir(model, scaler, df_input, columnas_features):\n",
    "    X = preparar_input(df_input, columnas_features, scaler)\n",
    "    pred_scaled = model.predict(X, verbose=0)[0][0]\n",
    "\n",
    "    # Desnormalizar solo la producción\n",
    "    temp = np.zeros((1, scaler.n_features_in_))\n",
    "    temp[0, -1] = pred_scaled\n",
    "    pred_real = scaler.inverse_transform(temp)[0, -1]\n",
    "\n",
    "    print(f\"✅ Predicción del próximo mes: {pred_real:.2f}\")\n",
    "    return pred_real\n"
   ],
   "id": "6c37c18dd7c2685d",
   "outputs": [
    {
     "name": "stderr",
     "output_type": "stream",
     "text": [
      "WARNING:absl:Compiled the loaded model, but the compiled metrics have yet to be built. `model.compile_metrics` will be empty until you train or evaluate the model.\n"
     ]
    },
    {
     "name": "stdout",
     "output_type": "stream",
     "text": [
      "Modelo cargado.\n",
      "Scaler cargado.\n"
     ]
    },
    {
     "name": "stderr",
     "output_type": "stream",
     "text": [
      "C:\\Users\\Fiorella Victoria\\AppData\\Local\\Temp\\ipykernel_19572\\2126544630.py:27: FutureWarning: 'M' is deprecated and will be removed in a future version, please use 'ME' instead.\n",
      "  df_prueba['fecha'] = pd.date_range('2023-04-01', periods=3, freq='M')\n"
     ]
    }
   ],
   "execution_count": 3
  },
  {
   "metadata": {
    "ExecuteTime": {
     "end_time": "2025-07-14T20:09:50.996225Z",
     "start_time": "2025-07-14T20:09:50.015629Z"
    }
   },
   "cell_type": "code",
   "source": "predecir(model, scaler, df_prueba, columnas_features)",
   "id": "7ddf2200ccc69848",
   "outputs": [
    {
     "ename": "ValueError",
     "evalue": "Exception encountered when calling LSTMCell.call().\n\n\u001B[1mDimensions must be equal, but are 10 and 1 for '{{node sequential_4_1/lstm_8_1/lstm_cell_1/MatMul}} = MatMul[T=DT_FLOAT, grad_a=false, grad_b=false, transpose_a=false, transpose_b=false](sequential_4_1/lstm_8_1/strided_slice_1, sequential_4_1/lstm_8_1/lstm_cell_1/Cast/ReadVariableOp)' with input shapes: [1,10], [1,512].\u001B[0m\n\nArguments received by LSTMCell.call():\n  • inputs=tf.Tensor(shape=(1, 10), dtype=float32)\n  • states=('tf.Tensor(shape=(1, 128), dtype=float32)', 'tf.Tensor(shape=(1, 128), dtype=float32)')\n  • training=False",
     "output_type": "error",
     "traceback": [
      "\u001B[31m---------------------------------------------------------------------------\u001B[39m",
      "\u001B[31mValueError\u001B[39m                                Traceback (most recent call last)",
      "\u001B[36mCell\u001B[39m\u001B[36m \u001B[39m\u001B[32mIn[4]\u001B[39m\u001B[32m, line 1\u001B[39m\n\u001B[32m----> \u001B[39m\u001B[32m1\u001B[39m \u001B[43mpredecir\u001B[49m\u001B[43m(\u001B[49m\u001B[43mmodel\u001B[49m\u001B[43m,\u001B[49m\u001B[43m \u001B[49m\u001B[43mscaler\u001B[49m\u001B[43m,\u001B[49m\u001B[43m \u001B[49m\u001B[43mdf_prueba\u001B[49m\u001B[43m,\u001B[49m\u001B[43m \u001B[49m\u001B[43mcolumnas_features\u001B[49m\u001B[43m)\u001B[49m\n",
      "\u001B[36mCell\u001B[39m\u001B[36m \u001B[39m\u001B[32mIn[3]\u001B[39m\u001B[32m, line 43\u001B[39m, in \u001B[36mpredecir\u001B[39m\u001B[34m(model, scaler, df_input, columnas_features)\u001B[39m\n\u001B[32m     41\u001B[39m \u001B[38;5;28;01mdef\u001B[39;00m\u001B[38;5;250m \u001B[39m\u001B[34mpredecir\u001B[39m(model, scaler, df_input, columnas_features):\n\u001B[32m     42\u001B[39m     X = preparar_input(df_input, columnas_features, scaler)\n\u001B[32m---> \u001B[39m\u001B[32m43\u001B[39m     pred_scaled = \u001B[43mmodel\u001B[49m\u001B[43m.\u001B[49m\u001B[43mpredict\u001B[49m\u001B[43m(\u001B[49m\u001B[43mX\u001B[49m\u001B[43m,\u001B[49m\u001B[43m \u001B[49m\u001B[43mverbose\u001B[49m\u001B[43m=\u001B[49m\u001B[32;43m0\u001B[39;49m\u001B[43m)\u001B[49m[\u001B[32m0\u001B[39m][\u001B[32m0\u001B[39m]\n\u001B[32m     45\u001B[39m     \u001B[38;5;66;03m# Desnormalizar solo la producción\u001B[39;00m\n\u001B[32m     46\u001B[39m     temp = np.zeros((\u001B[32m1\u001B[39m, scaler.n_features_in_))\n",
      "\u001B[36mFile \u001B[39m\u001B[32m~\\PycharmProjects\\PythonProject14\\.venv\\Lib\\site-packages\\keras\\src\\utils\\traceback_utils.py:122\u001B[39m, in \u001B[36mfilter_traceback.<locals>.error_handler\u001B[39m\u001B[34m(*args, **kwargs)\u001B[39m\n\u001B[32m    119\u001B[39m     filtered_tb = _process_traceback_frames(e.__traceback__)\n\u001B[32m    120\u001B[39m     \u001B[38;5;66;03m# To get the full stack trace, call:\u001B[39;00m\n\u001B[32m    121\u001B[39m     \u001B[38;5;66;03m# `keras.config.disable_traceback_filtering()`\u001B[39;00m\n\u001B[32m--> \u001B[39m\u001B[32m122\u001B[39m     \u001B[38;5;28;01mraise\u001B[39;00m e.with_traceback(filtered_tb) \u001B[38;5;28;01mfrom\u001B[39;00m\u001B[38;5;250m \u001B[39m\u001B[38;5;28;01mNone\u001B[39;00m\n\u001B[32m    123\u001B[39m \u001B[38;5;28;01mfinally\u001B[39;00m:\n\u001B[32m    124\u001B[39m     \u001B[38;5;28;01mdel\u001B[39;00m filtered_tb\n",
      "\u001B[36mFile \u001B[39m\u001B[32m~\\PycharmProjects\\PythonProject14\\.venv\\Lib\\site-packages\\keras\\src\\utils\\traceback_utils.py:122\u001B[39m, in \u001B[36mfilter_traceback.<locals>.error_handler\u001B[39m\u001B[34m(*args, **kwargs)\u001B[39m\n\u001B[32m    119\u001B[39m     filtered_tb = _process_traceback_frames(e.__traceback__)\n\u001B[32m    120\u001B[39m     \u001B[38;5;66;03m# To get the full stack trace, call:\u001B[39;00m\n\u001B[32m    121\u001B[39m     \u001B[38;5;66;03m# `keras.config.disable_traceback_filtering()`\u001B[39;00m\n\u001B[32m--> \u001B[39m\u001B[32m122\u001B[39m     \u001B[38;5;28;01mraise\u001B[39;00m e.with_traceback(filtered_tb) \u001B[38;5;28;01mfrom\u001B[39;00m\u001B[38;5;250m \u001B[39m\u001B[38;5;28;01mNone\u001B[39;00m\n\u001B[32m    123\u001B[39m \u001B[38;5;28;01mfinally\u001B[39;00m:\n\u001B[32m    124\u001B[39m     \u001B[38;5;28;01mdel\u001B[39;00m filtered_tb\n",
      "\u001B[31mValueError\u001B[39m: Exception encountered when calling LSTMCell.call().\n\n\u001B[1mDimensions must be equal, but are 10 and 1 for '{{node sequential_4_1/lstm_8_1/lstm_cell_1/MatMul}} = MatMul[T=DT_FLOAT, grad_a=false, grad_b=false, transpose_a=false, transpose_b=false](sequential_4_1/lstm_8_1/strided_slice_1, sequential_4_1/lstm_8_1/lstm_cell_1/Cast/ReadVariableOp)' with input shapes: [1,10], [1,512].\u001B[0m\n\nArguments received by LSTMCell.call():\n  • inputs=tf.Tensor(shape=(1, 10), dtype=float32)\n  • states=('tf.Tensor(shape=(1, 128), dtype=float32)', 'tf.Tensor(shape=(1, 128), dtype=float32)')\n  • training=False"
     ]
    }
   ],
   "execution_count": 4
  }
 ],
 "metadata": {
  "kernelspec": {
   "display_name": "Python 3",
   "language": "python",
   "name": "python3"
  },
  "language_info": {
   "codemirror_mode": {
    "name": "ipython",
    "version": 2
   },
   "file_extension": ".py",
   "mimetype": "text/x-python",
   "name": "python",
   "nbconvert_exporter": "python",
   "pygments_lexer": "ipython2",
   "version": "2.7.6"
  }
 },
 "nbformat": 4,
 "nbformat_minor": 5
}
