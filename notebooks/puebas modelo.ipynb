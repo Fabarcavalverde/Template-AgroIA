{
 "cells": [
  {
   "metadata": {
    "ExecuteTime": {
     "end_time": "2025-07-14T06:03:58.064532Z",
     "start_time": "2025-07-14T06:03:58.059505Z"
    }
   },
   "cell_type": "code",
   "source": [
    "import numpy as np\n",
    "import pandas as pd\n",
    "import pickle\n",
    "from tensorflow.keras.models import load_model\n",
    "import os\n",
    "from src.utils.metrics import obtener_ruta_app\n",
    "from keras.losses import mean_squared_error"
   ],
   "id": "fbf9d105f327080",
   "outputs": [],
   "execution_count": 16
  },
  {
   "metadata": {
    "ExecuteTime": {
     "end_time": "2025-07-14T06:04:08.953406Z",
     "start_time": "2025-07-14T06:04:08.862394Z"
    }
   },
   "cell_type": "code",
   "source": [
    "base_path = obtener_ruta_app(\"TemplateAgroIA\")\n",
    "model_path = os.path.join(base_path, \"models\", \"modelo_RNN_Papas.h5\")\n",
    "scaler_path = os.path.join(base_path, \"models\", \"scaler_RNN_Papas.pkl\")\n",
    "\n",
    "# === 1. Cargar modelo y scaler ===\n",
    "model = load_model(model_path, custom_objects={'mse': mean_squared_error})\n",
    "print(\"Modelo cargado.\")\n",
    "\n",
    "with open(scaler_path, 'rb') as f:\n",
    "    scaler = pickle.load(f)\n",
    "print(\"Scaler cargado.\")\n",
    "\n",
    "# === 2. Crear DataFrame con 3 meses de datos ===\n",
    "df_prueba = pd.DataFrame({\n",
    "    'area': [100, 110, 105],\n",
    "    'PRECTOTCORR_SUM': [250, 260, 240],\n",
    "    'RH2M': [80, 78, 82],\n",
    "    'T2M': [22.1, 23.5, 21.7],\n",
    "    'T2MDEW': [18.0, 17.5, 18.2],\n",
    "    'T2MWET': [19.0, 19.5, 18.8],\n",
    "    'T2M_MAX': [29, 30, 28],\n",
    "    'T2M_MIN': [15, 16, 14],\n",
    "    'WS2M': [1.2, 1.0, 1.3],\n",
    "    'mes': [4, 5, 6],\n",
    "    'produccion': [1200, 1250, 1230]\n",
    "})\n",
    "df_prueba['fecha'] = pd.date_range('2023-04-01', periods=3, freq='M')\n",
    "\n",
    "columnas_features = ['area', 'PRECTOTCORR_SUM', 'RH2M', 'T2M', 'T2MDEW',\n",
    "                     'T2MWET', 'T2M_MAX', 'T2M_MIN', 'WS2M', 'mes']\n",
    "\n",
    "# === 3. Preparar input ===\n",
    "def preparar_input(df, columnas_features, scaler, ventana_tiempo=3):\n",
    "    df = df.sort_values(\"fecha\")\n",
    "    data = df[columnas_features + ['produccion']].values\n",
    "    data_scaled = scaler.transform(data)\n",
    "    X = data_scaled[-ventana_tiempo:, :-1]  # Solo features\n",
    "    return np.expand_dims(X, axis=0)\n",
    "\n",
    "# === 4. Predecir ===\n",
    "def predecir(model, scaler, df_input, columnas_features):\n",
    "    X = preparar_input(df_input, columnas_features, scaler)\n",
    "    pred_scaled = model.predict(X, verbose=0)[0][0]\n",
    "\n",
    "    # Desnormalizar solo la producción\n",
    "    temp = np.zeros((1, scaler.n_features_in_))\n",
    "    temp[0, -1] = pred_scaled\n",
    "    pred_real = scaler.inverse_transform(temp)[0, -1]\n",
    "\n",
    "    print(f\"✅ Predicción del próximo mes: {pred_real:.2f}\")\n",
    "    return pred_real\n"
   ],
   "id": "6c37c18dd7c2685d",
   "outputs": [
    {
     "name": "stderr",
     "output_type": "stream",
     "text": [
      "WARNING:absl:Compiled the loaded model, but the compiled metrics have yet to be built. `model.compile_metrics` will be empty until you train or evaluate the model.\n"
     ]
    },
    {
     "name": "stdout",
     "output_type": "stream",
     "text": [
      "Modelo cargado.\n",
      "Scaler cargado.\n"
     ]
    },
    {
     "name": "stderr",
     "output_type": "stream",
     "text": [
      "C:\\Users\\Fiorella Victoria\\AppData\\Local\\Temp\\ipykernel_14796\\3721225857.py:27: FutureWarning: 'M' is deprecated and will be removed in a future version, please use 'ME' instead.\n",
      "  df_prueba['fecha'] = pd.date_range('2023-04-01', periods=3, freq='M')\n"
     ]
    }
   ],
   "execution_count": 17
  },
  {
   "metadata": {
    "ExecuteTime": {
     "end_time": "2025-07-14T06:04:16.500685Z",
     "start_time": "2025-07-14T06:04:15.960937Z"
    }
   },
   "cell_type": "code",
   "source": "predecir(model, scaler, df_prueba, columnas_features)",
   "id": "7ddf2200ccc69848",
   "outputs": [
    {
     "name": "stdout",
     "output_type": "stream",
     "text": [
      "✅ Predicción del próximo mes: -5.94\n"
     ]
    },
    {
     "data": {
      "text/plain": [
       "np.float64(-5.936706787914037)"
      ]
     },
     "execution_count": 18,
     "metadata": {},
     "output_type": "execute_result"
    }
   ],
   "execution_count": 18
  }
 ],
 "metadata": {
  "kernelspec": {
   "display_name": "Python 3",
   "language": "python",
   "name": "python3"
  },
  "language_info": {
   "codemirror_mode": {
    "name": "ipython",
    "version": 2
   },
   "file_extension": ".py",
   "mimetype": "text/x-python",
   "name": "python",
   "nbconvert_exporter": "python",
   "pygments_lexer": "ipython2",
   "version": "2.7.6"
  }
 },
 "nbformat": 4,
 "nbformat_minor": 5
}
